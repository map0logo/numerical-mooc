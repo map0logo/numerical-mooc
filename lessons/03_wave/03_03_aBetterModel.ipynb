{
 "cells": [
  {
   "cell_type": "markdown",
   "metadata": {},
   "source": [
    "###### Content under Creative Commons Attribution license CC-BY 4.0, code under MIT license (c)2014 L.A. Barba, C.D. Cooper, G.F. Forsyth."
   ]
  },
  {
   "cell_type": "markdown",
   "metadata": {},
   "source": [
    "# Riding the wave"
   ]
  },
  {
   "cell_type": "markdown",
   "metadata": {},
   "source": [
    "We've reached the third lesson of the module _Riding the wave: Convection problems_, where we explore the numerical solution of conservation laws. We learned in the [first lesson](http://nbviewer.ipython.org/github/numerical-mooc/numerical-mooc/blob/master/lessons/03_wave/03_01_conservationLaw.ipynb) how to think about conservation laws, starting with the most intuitive case: that of conservation of mass. But there are many physical quantities that can be conserved: energy, for example. Or cars on a road.\n",
    "\n",
    "Developing a conservation law for traffic in a one-lane roadway is fun, because we can relate to the insights it gives. We've all experienced traffic slowing down to a crawl when the density of cars gets very high, and stepping on the accelerator pedal with glee when there are no cars on the road!\n",
    "\n",
    "In the previous two lessons, we developed a traffic-flow model and explored [different choices of numerical scheme](http://nbviewer.ipython.org/github/numerical-mooc/numerical-mooc/blob/master/lessons/03_wave/03_02_convectionSchemes.ipynb).  Not everything worked as you expected, and by now you might be realizing how some restrictions come about from the numerical methods themselves, while others still are imposed by the models we use. This lesson will develop a better traffic model, and also show you some impressive SymPy kung fu."
   ]
  },
  {
   "cell_type": "markdown",
   "metadata": {},
   "source": [
    "## Traffic flow, revisited"
   ]
  },
  {
   "cell_type": "markdown",
   "metadata": {},
   "source": [
    "### A better flux model"
   ]
  },
  {
   "cell_type": "markdown",
   "metadata": {},
   "source": [
    "Like you saw in the first lesson, cars obey a typical conservation law,\n",
    "\n",
    "\\begin{equation}\n",
    " \\frac{\\partial \\rho}{\\partial t} + \\frac{\\partial F}{\\partial x} = 0, \\end{equation}\n",
    "\n",
    "where $F$ is the flux, $F=\\rho u$—flux equals density times velocity. From our experience on the road, we know that the traffic speed is a function of traffic density, and we proposed as a first approximation a linear relation between the two. Thus,\n",
    "\n",
    "\\begin{equation}\n",
    "F(\\rho) = \\rho \\, u_{max}\\left(1 - \\frac{\\rho}{\\rho_{max}} \\right)\n",
    "\\end{equation}\n",
    "\n",
    "This flux model meets the two requirements, based on a qualitative view of traffic flow, that:\n",
    "1.  $u \\rightarrow u_{max}$ and $F\\rightarrow 0$ when $\\rho \\rightarrow 0$.\n",
    "2.  $u \\rightarrow 0$ as $\\rho \\rightarrow \\rho_{max}$\n",
    "\n",
    "However, it leads to some unrealistic or at least improbable results.  For example, note that if the traffic speed is a linear function of density, the flux function will be quadratic (see Figure 1). In this case, the maximum flux will occur when $\\rho^{\\star} = \\rho_{max}/2$, corresponding to a traffic speed $u_{max}/2$.  "
   ]
  },
  {
   "cell_type": "markdown",
   "metadata": {},
   "source": [
    "![velocity_and_flux](./figures/velocity_and_flux.png)\n",
    "#### Figure 1. Traffic speed (left) and flux (right) vs. density."
   ]
  },
  {
   "cell_type": "markdown",
   "metadata": {},
   "source": [
    "A good question to ask here is:  should the maximum flux on a given stretch of road have a strict dependence on the maximum speed that the roadway allows, be it by physical restrictions or posted speed limits? In other words, do we really expect the maximum flux to increase if we allow arbitrarily high speeds? \n",
    "\n",
    "Probably not.  But there *should* be some ideal traffic speed, $u^{\\star}$, corresponding to an ideal traffic density, $\\rho^{\\star}$, resulting in the maximum traffic flux:\n",
    "\n",
    "\\begin{equation}F_{\\rm max} = \\rho^{\\star}u^{\\star}\\end{equation}\n",
    "\n",
    "Let us improve the initial flux model by taking this observation into account. One thing that we can try is to introduce a flux model that is cubic in $\\rho$ instead of quadratic:\n",
    "\n",
    "\\begin{equation}F(\\rho) = u_{\\rm max}\\rho (1 - A\\rho - B \\rho^2)\\end{equation}\n",
    "\n",
    "This new model still meets the first criterion listed above: $F\\rightarrow 0$ when $\\rho \\rightarrow 0$. Moreover, we impose the following conditions:\n",
    "\n",
    "*  When $\\rho = \\rho_{\\rm max}$ traffic flux goes to zero:\n",
    "\n",
    "\\begin{equation}F(\\rho_{\\rm max}) = 0 = u_{\\rm max}\\, \\rho_{\\rm max}(1 - A \\rho_{\\rm max} - B \\rho_{\\rm max}^2)\\end{equation}\n",
    "\n",
    "*  Based on eq. (3), maximum flux occurs when $\\rho = \\rho^{\\star}$ and $F'(\\rho^{\\star}) = 0$:\n",
    "\n",
    "\\begin{equation}\n",
    "F'(\\rho^{\\star}) = 0  = u_{\\rm max}(1 - 2A\\rho^{\\star} - 3B(\\rho^{\\star})^2)\\end{equation}\n",
    "\n",
    "*  $u^{\\star}$ is obtained when $\\rho = \\rho^{\\star}$:\n",
    "\n",
    "\\begin{equation}\n",
    "u^{\\star} = u_{\\rm max}(1 - A \\rho^{\\star} - B(\\rho^{\\star})^2)\\end{equation}\n",
    "\n",
    "We have three equations and four unknowns $A,B,\\rho^{\\star}, u^{\\star}$. However, in practice, the ideal traffic speed could be obtained for a given road by observations. Similarly to $u_{max}$ and $\\rho_{max}$ it will therefore be taken as a parameter."
   ]
  },
  {
   "cell_type": "markdown",
   "metadata": {},
   "source": [
    "### Solving the new flux equation"
   ]
  },
  {
   "cell_type": "markdown",
   "metadata": {},
   "source": [
    "Equations $(5)$, $(6)$, and $(7)$ are not incredibly difficult to solve with pen and paper. Instead of following that route, we can use [SymPy](http://sympy.org/en/index.html), the symbolic mathematics library of Python.  You used SymPy already in the [Burgers' equation lesson](http://nbviewer.ipython.org/github/numerical-mooc/numerical-mooc/blob/master/lessons/02_spacetime/02_04_1DBurgers.ipynb) of Module 2, _\"Space & Time\"_, and you will learn some new functionalities here.\n",
    "\n",
    "We begin by importing SymPy, initializing $\\LaTeX$ printing and defining a set of symbolic variables that we'll use in the calculations. Remember: variables are not defined automatically, you have to tell SymPy that a name will correspond to a symbolic variable by using the keyword `symbols`. This behavior is different from many other symbolic math systems that implicitly construct symbols for you, so you may be perplexed if you've used these other sytems before. The reason for this behavior in SymPy is that the system is fully built on Python, a general-purpose language that needs you to define all objects before using them."
   ]
  },
  {
   "cell_type": "code",
   "execution_count": 1,
   "metadata": {
    "collapsed": false
   },
   "outputs": [],
   "source": [
    "import sympy\n",
    "sympy.init_printing()\n",
    "\n",
    "(u_max, u_star, rho_max, \n",
    " rho_star, A, B) = sympy.symbols('u_max u_star rho_max rho_star A B')"
   ]
  },
  {
   "cell_type": "markdown",
   "metadata": {},
   "source": [
    "Notice that we used the special character `_` (the under-dash) to create a symbol with a subscript. Here, for example, we've created the symbols $u_{max}$ and $u_{star}$, representing $u_{\\rm max}$ and $u^{\\star}$ ($u$-star) in the equations, and assigned them to the variable names `u_max` and `u_star`. SymPy also allows you to create symbols with a superscript by means of the special character `^`. Be careful, though: SymPy is built on Python, so you denote an exponent in an expression by `**` (this may also be different from other symbolic math systems that you have used in the past).\n",
    "\n",
    "Next, use `sympy.Eq()` to define the three equations—corresponding to Equations $(5)$, $(6)$ and $(7)$, above—in terms of symbolic variables. The function `sympy.Eq()` creates an equality between two SymPy objects, passed as arguments separated by a comma. We need to remember that the equal sign in Python is used for variable assignment, and for that reason it cannot be used to build a symbolic equation with SymPy. That is why we need `sympy.Eq()` to create symbolic equalities. But the equal sign _is_ used to _assign_ an equation to a name: here, `eq1`, `eq2`, `eq3` are names for the symbolic equalities we create with `sympy.Eq()`."
   ]
  },
  {
   "cell_type": "code",
   "execution_count": 2,
   "metadata": {
    "collapsed": false
   },
   "outputs": [],
   "source": [
    "eq1 = sympy.Eq( 0, u_max*rho_max*(1 - A*rho_max-B*rho_max**2) )\n",
    "eq2 = sympy.Eq( 0, u_max*(1 - 2*A*rho_star-3*B*rho_star**2) )\n",
    "eq3 = sympy.Eq( u_star, u_max*(1 - A*rho_star - B*rho_star**2) )"
   ]
  },
  {
   "cell_type": "markdown",
   "metadata": {},
   "source": [
    "Check this out: you can display these equations in pretty typeset mathematics just by executing their name in a code cell:"
   ]
  },
  {
   "cell_type": "code",
   "execution_count": 3,
   "metadata": {
    "collapsed": false
   },
   "outputs": [
    {
     "data": {
      "image/png": "[encoded data removed]",
      "text/latex": [
       "$$0 = \\rho_{max} u_{max} \\left(- A \\rho_{max} - B \\rho_{max}^{2} + 1\\right)$$"
      ],
      "text/plain": [
       "              ⎛                2    ⎞\n",
       "0 = ρₘₐₓ⋅uₘₐₓ⋅⎝-A⋅ρₘₐₓ - B⋅ρₘₐₓ  + 1⎠"
      ]
     },
     "execution_count": 3,
     "metadata": {},
     "output_type": "execute_result"
    }
   ],
   "source": [
    "eq1"
   ]
  },
  {
   "cell_type": "code",
   "execution_count": 4,
   "metadata": {
    "collapsed": false
   },
   "outputs": [
    {
     "data": {
      "image/png": "[encoded data removed]",
      "text/latex": [
       "$$0 = u_{max} \\left(- 2 A \\rho_{star} - 3 B \\rho_{star}^{2} + 1\\right)$$"
      ],
      "text/plain": [
       "         ⎛                      2    ⎞\n",
       "0 = uₘₐₓ⋅⎝-2⋅A⋅ρₛₜₐᵣ - 3⋅B⋅ρₛₜₐᵣ  + 1⎠"
      ]
     },
     "execution_count": 4,
     "metadata": {},
     "output_type": "execute_result"
    }
   ],
   "source": [
    "eq2"
   ]
  },
  {
   "cell_type": "code",
   "execution_count": 5,
   "metadata": {
    "collapsed": false
   },
   "outputs": [
    {
     "data": {
      "image/png": "[encoded data removed]",
      "text/latex": [
       "$$u_{star} = u_{max} \\left(- A \\rho_{star} - B \\rho_{star}^{2} + 1\\right)$$"
      ],
      "text/plain": [
       "             ⎛                  2    ⎞\n",
       "uₛₜₐᵣ = uₘₐₓ⋅⎝-A⋅ρₛₜₐᵣ - B⋅ρₛₜₐᵣ  + 1⎠"
      ]
     },
     "execution_count": 5,
     "metadata": {},
     "output_type": "execute_result"
    }
   ],
   "source": [
    "eq3"
   ]
  },
  {
   "cell_type": "markdown",
   "metadata": {},
   "source": [
    "As stressed above, we have three equations with three unknowns (assuming we have some observed value of $u_{star}$, corresponding to the ideal traffic speed)—there must be a solution!\n",
    "\n",
    "To eliminate the term with $B$ in `eq2`, leaving it only in terms of $A$ and $\\rho^{\\star}$, we might subtract `3*eq3`.  But this will not work in SymPy if you attempt equation subtraction using the equation names. Just like we couldn't use the equal sign (which in Python means assignment) to create a symbolic equality (needing `sympy.Eq` instead), we can't use mathematical operators directly on the SymPy equations, because they are really _equalities_. What does it mean to subtract two _equalities_? It doesn't make sense. Try it ..."
   ]
  },
  {
   "cell_type": "code",
   "execution_count": 6,
   "metadata": {
    "collapsed": false
   },
   "outputs": [
    {
     "data": {
      "image/png": "[encoded data removed]",
      "text/latex": [
       "$$\\left(0 = u_{max} \\left(- 2 A \\rho_{star} - 3 B \\rho_{star}^{2} + 1\\right)\\right) - 3 \\left(u_{star} = u_{max} \\left(- A \\rho_{star} - B \\rho_{star}^{2} + 1\\right)\\right)$$"
      ],
      "text/plain": [
       "⎛         ⎛                      2    ⎞⎞     ⎛             ⎛                  \n",
       "⎝0 = uₘₐₓ⋅⎝-2⋅A⋅ρₛₜₐᵣ - 3⋅B⋅ρₛₜₐᵣ  + 1⎠⎠ - 3⋅⎝uₛₜₐᵣ = uₘₐₓ⋅⎝-A⋅ρₛₜₐᵣ - B⋅ρₛₜₐᵣ\n",
       "\n",
       "2    ⎞⎞\n",
       "  + 1⎠⎠"
      ]
     },
     "execution_count": 6,
     "metadata": {},
     "output_type": "execute_result"
    }
   ],
   "source": [
    "eq2 - 3*eq3"
   ]
  },
  {
   "cell_type": "markdown",
   "metadata": {},
   "source": [
    "See?  SymPy just printed out what you suggested but it did not manipulate algebraically the left and right sides of `eq2` like we were aiming for. What we _can_ do is create a _new_ equation, perform the left-hand side (LHS) and right-hand side (RHS) operations separately and then recombine them into our desired result. For this, it is helpful to know that there are built-in properties of a SymPy equality for the left-hand side and the right-hand side of the equality. Check it out:"
   ]
  },
  {
   "cell_type": "code",
   "execution_count": 7,
   "metadata": {
    "collapsed": false
   },
   "outputs": [
    {
     "data": {
      "image/png": "[encoded data removed]",
      "text/latex": [
       "$$- 3 u_{star} = u_{max} \\left(- 2 A \\rho_{star} - 3 B \\rho_{star}^{2} + 1\\right) - 3 u_{max} \\left(- A \\rho_{star} - B \\rho_{star}^{2} + 1\\right)$$"
      ],
      "text/plain": [
       "                ⎛                      2    ⎞          ⎛                  2   \n",
       "-3⋅uₛₜₐᵣ = uₘₐₓ⋅⎝-2⋅A⋅ρₛₜₐᵣ - 3⋅B⋅ρₛₜₐᵣ  + 1⎠ - 3⋅uₘₐₓ⋅⎝-A⋅ρₛₜₐᵣ - B⋅ρₛₜₐᵣ  + \n",
       "\n",
       " ⎞\n",
       "1⎠"
      ]
     },
     "execution_count": 7,
     "metadata": {},
     "output_type": "execute_result"
    }
   ],
   "source": [
    "eq4 = sympy.Eq(eq2.lhs - 3*eq3.lhs, eq2.rhs - 3*eq3.rhs)\n",
    "eq4"
   ]
  },
  {
   "cell_type": "markdown",
   "metadata": {},
   "source": [
    "That still needs a little work. SymPy offers several methods to help reduce expressions. You can use [`simplify()`](http://docs.sympy.org/latest/modules/simplify/simplify.html?highlight=simplify#sympy.simplify.simplify.simplify) to attempt to make the expression \"simpler,\" but you can imagine that the quality of an expression being simple is not well defined. One may expect the simpler expression to be shorter, maybe; but not always. The SymPy `simplify()` function applies several strategies, heuristically, to give you an equivalent reduced expression. But some expressions are uncooperative and `simplify()` gives up, returning the argument unchanged. Let's see what it can do with our expression `eq4`."
   ]
  },
  {
   "cell_type": "code",
   "execution_count": 8,
   "metadata": {
    "collapsed": false
   },
   "outputs": [
    {
     "data": {
      "image/png": "[encoded data removed]",
      "text/latex": [
       "$$3 u_{star} = - u_{max} \\left(A \\rho_{star} - 2\\right)$$"
      ],
      "text/plain": [
       "3⋅uₛₜₐᵣ = -uₘₐₓ⋅(A⋅ρₛₜₐᵣ - 2)"
      ]
     },
     "execution_count": 8,
     "metadata": {},
     "output_type": "execute_result"
    }
   ],
   "source": [
    "eq4.simplify()"
   ]
  },
  {
   "cell_type": "markdown",
   "metadata": {},
   "source": [
    "That is actually a useful result. We see that `eq4` allows solving for $\\rho^{\\star}$ in terms of $A$, for example (remember that $u_{max}$ is known: the road's maximum velocity). Then we could try to manipulate `eq1` to solve for $B$ in terms of $A$, as well, so that we can substitute back in `eq2` leaving everything in terms of $A$. We can do all that without the help of `simplify()`, but using it interactively to reason about the long expression helped us to decide on a course of action.\n",
    "\n",
    "Another SymPy function that can help us examine complicated expressions is [`expand()`](http://docs.sympy.org/latest/modules/core.html?highlight=expand#sympy.core.function.expand). Its purpose is to expand bracketed factors in expressions and group powers of symbols. Let's see what that does here. Notice first that `eq4` hasn't changed; we just printed the result of applying `simplify()` to it."
   ]
  },
  {
   "cell_type": "code",
   "execution_count": 9,
   "metadata": {
    "collapsed": false
   },
   "outputs": [
    {
     "data": {
      "image/png": "[encoded data removed]",
      "text/latex": [
       "$$- 3 u_{star} = u_{max} \\left(- 2 A \\rho_{star} - 3 B \\rho_{star}^{2} + 1\\right) - 3 u_{max} \\left(- A \\rho_{star} - B \\rho_{star}^{2} + 1\\right)$$"
      ],
      "text/plain": [
       "                ⎛                      2    ⎞          ⎛                  2   \n",
       "-3⋅uₛₜₐᵣ = uₘₐₓ⋅⎝-2⋅A⋅ρₛₜₐᵣ - 3⋅B⋅ρₛₜₐᵣ  + 1⎠ - 3⋅uₘₐₓ⋅⎝-A⋅ρₛₜₐᵣ - B⋅ρₛₜₐᵣ  + \n",
       "\n",
       " ⎞\n",
       "1⎠"
      ]
     },
     "execution_count": 9,
     "metadata": {},
     "output_type": "execute_result"
    }
   ],
   "source": [
    "eq4"
   ]
  },
  {
   "cell_type": "markdown",
   "metadata": {},
   "source": [
    "And now we print the result of applying `expand()` to it."
   ]
  },
  {
   "cell_type": "code",
   "execution_count": 10,
   "metadata": {
    "collapsed": false
   },
   "outputs": [
    {
     "data": {
      "image/png": "[encoded data removed]",
      "text/latex": [
       "$$- 3 u_{star} = A \\rho_{star} u_{max} - 2 u_{max}$$"
      ],
      "text/plain": [
       "-3⋅uₛₜₐᵣ = A⋅ρₛₜₐᵣ⋅uₘₐₓ - 2⋅uₘₐₓ"
      ]
     },
     "execution_count": 10,
     "metadata": {},
     "output_type": "execute_result"
    }
   ],
   "source": [
    "eq4.expand()"
   ]
  },
  {
   "cell_type": "markdown",
   "metadata": {},
   "source": [
    "That's very similar to our previous result, except without the bracketed factor. Simplifying an expression can be accomplished by expanding or factoring terms, or a combination of the two. Whether to `simplify()` or `expand()` depends on the situation and you just have to experiment.\n",
    "\n",
    "We now have an idea of what to do with our three equations. We'll get expressions in terms of $A$ from `eq4` and `eq1` and substitute them back into `eq2`. For that, we can use the SymPy functions [`solve()`](http://docs.sympy.org/dev/modules/solvers/solvers.html#sympy.solvers.solvers.solve) and `subs()`, respectively. The arguments to `solve()` are the equality that needs to be solved, and the symbol to solve for.\n",
    "\n",
    "**Note**: `sympy.solve()` always returns results in a *list*, since you often end up with multiple solutions for a given variable.  These linear equations will only return one solution, so we can skip a step and ask right away for the `[0]`-th element of the list."
   ]
  },
  {
   "cell_type": "code",
   "execution_count": 11,
   "metadata": {
    "collapsed": false
   },
   "outputs": [
    {
     "data": {
      "image/png": "[encoded data removed]",
      "text/latex": [
       "$$\\frac{1}{A u_{max}} \\left(2 u_{max} - 3 u_{star}\\right)$$"
      ],
      "text/plain": [
       "2⋅uₘₐₓ - 3⋅uₛₜₐᵣ\n",
       "────────────────\n",
       "     A⋅uₘₐₓ     "
      ]
     },
     "execution_count": 11,
     "metadata": {},
     "output_type": "execute_result"
    }
   ],
   "source": [
    "rho_sol = sympy.solve(eq4,rho_star)[0]\n",
    "rho_sol"
   ]
  },
  {
   "cell_type": "code",
   "execution_count": 12,
   "metadata": {
    "collapsed": false
   },
   "outputs": [
    {
     "data": {
      "image/png": "[encoded data removed]",
      "text/latex": [
       "$$\\frac{1}{\\rho_{max}^{2}} \\left(- A \\rho_{max} + 1\\right)$$"
      ],
      "text/plain": [
       "-A⋅ρₘₐₓ + 1\n",
       "───────────\n",
       "       2   \n",
       "   ρₘₐₓ    "
      ]
     },
     "execution_count": 12,
     "metadata": {},
     "output_type": "execute_result"
    }
   ],
   "source": [
    "B_sol = sympy.solve(eq1,B)[0]\n",
    "B_sol"
   ]
  },
  {
   "cell_type": "markdown",
   "metadata": {},
   "source": [
    "The arguments to the SymPy function [`subs()`](http://docs.sympy.org/dev/modules/core.html#sympy.core.basic.Basic.subs) are given as (old, new) pairs, where the \"new\" expression substitutes the \"old\" one. So here, in `eq2`, we substitute `rho_sol` in place of `rho_s` and we substitute `B_sol` in place of `B`."
   ]
  },
  {
   "cell_type": "code",
   "execution_count": 13,
   "metadata": {
    "collapsed": false
   },
   "outputs": [
    {
     "data": {
      "image/png": "[encoded data removed]",
      "text/latex": [
       "$$0 = u_{max} \\left(1 - \\frac{1}{u_{max}} \\left(4 u_{max} - 6 u_{star}\\right) - \\frac{3 \\left(2 u_{max} - 3 u_{star}\\right)^{2}}{A^{2} \\rho_{max}^{2} u_{max}^{2}} \\left(- A \\rho_{max} + 1\\right)\\right)$$"
      ],
      "text/plain": [
       "         ⎛                                               2              ⎞\n",
       "         ⎜    2⋅(2⋅uₘₐₓ - 3⋅uₛₜₐᵣ)   3⋅(2⋅uₘₐₓ - 3⋅uₛₜₐᵣ) ⋅(-A⋅ρₘₐₓ + 1)⎟\n",
       "0 = uₘₐₓ⋅⎜1 - ──────────────────── - ───────────────────────────────────⎟\n",
       "         ⎜            uₘₐₓ                       2     2     2          ⎟\n",
       "         ⎝                                      A ⋅ρₘₐₓ ⋅uₘₐₓ           ⎠"
      ]
     },
     "execution_count": 13,
     "metadata": {},
     "output_type": "execute_result"
    }
   ],
   "source": [
    "quadA = eq2.subs([(rho_star, rho_sol), (B,B_sol)])\n",
    "quadA"
   ]
  },
  {
   "cell_type": "code",
   "execution_count": 14,
   "metadata": {
    "collapsed": false
   },
   "outputs": [
    {
     "data": {
      "image/png": "[encoded data removed]",
      "text/latex": [
       "$$- 3 u_{max} + 6 u_{star} + \\frac{3 \\left(2 u_{max} - 3 u_{star}\\right)^{2}}{A \\rho_{max} u_{max}} - \\frac{3 \\left(2 u_{max} - 3 u_{star}\\right)^{2}}{A^{2} \\rho_{max}^{2} u_{max}} = 0$$"
      ],
      "text/plain": [
       "                                        2                       2    \n",
       "                    3⋅(2⋅uₘₐₓ - 3⋅uₛₜₐᵣ)    3⋅(2⋅uₘₐₓ - 3⋅uₛₜₐᵣ)     \n",
       "-3⋅uₘₐₓ + 6⋅uₛₜₐᵣ + ───────────────────── - ───────────────────── = 0\n",
       "                         A⋅ρₘₐₓ⋅uₘₐₓ             2     2             \n",
       "                                                A ⋅ρₘₐₓ ⋅uₘₐₓ        "
      ]
     },
     "execution_count": 14,
     "metadata": {},
     "output_type": "execute_result"
    }
   ],
   "source": [
    "quadA.simplify()"
   ]
  },
  {
   "cell_type": "markdown",
   "metadata": {},
   "source": [
    "It's a little bit ugly, but that is quadratic in $A$, and that means we can solve for the roots of the equation. SymPy's `solve()` function in this case will return a list with the two roots. They are long expressions, so let's print each root separately."
   ]
  },
  {
   "cell_type": "code",
   "execution_count": 15,
   "metadata": {
    "collapsed": false
   },
   "outputs": [],
   "source": [
    "A_sol = sympy.solve(quadA, A)"
   ]
  },
  {
   "cell_type": "code",
   "execution_count": 16,
   "metadata": {
    "collapsed": false
   },
   "outputs": [
    {
     "data": {
      "image/png": "[encoded data removed]",
      "text/latex": [
       "$$\\frac{1}{2 \\rho_{max} u_{max} \\left(u_{max} - 2 u_{star}\\right)} \\left(\\sqrt{- u_{star} \\left(4 u_{max} - 9 u_{star}\\right)} \\left(- 2 u_{max} + 3 u_{star}\\right) + \\left(2 u_{max} - 3 u_{star}\\right)^{2}\\right)$$"
      ],
      "text/plain": [
       "  ___________________________                                         2\n",
       "╲╱ -uₛₜₐᵣ⋅(4⋅uₘₐₓ - 9⋅uₛₜₐᵣ) ⋅(-2⋅uₘₐₓ + 3⋅uₛₜₐᵣ) + (2⋅uₘₐₓ - 3⋅uₛₜₐᵣ) \n",
       "───────────────────────────────────────────────────────────────────────\n",
       "                      2⋅ρₘₐₓ⋅uₘₐₓ⋅(uₘₐₓ - 2⋅uₛₜₐᵣ)                     "
      ]
     },
     "execution_count": 16,
     "metadata": {},
     "output_type": "execute_result"
    }
   ],
   "source": [
    "A_sol[0]"
   ]
  },
  {
   "cell_type": "code",
   "execution_count": 17,
   "metadata": {
    "collapsed": false
   },
   "outputs": [
    {
     "data": {
      "image/png": "[encoded data removed]",
      "text/latex": [
       "$$\\frac{1}{2 \\rho_{max} u_{max} \\left(u_{max} - 2 u_{star}\\right)} \\left(2 u_{max} - 3 u_{star}\\right) \\left(2 u_{max} - 3 u_{star} + \\sqrt{- u_{star} \\left(4 u_{max} - 9 u_{star}\\right)}\\right)$$"
      ],
      "text/plain": [
       "                   ⎛                     ___________________________⎞\n",
       "(2⋅uₘₐₓ - 3⋅uₛₜₐᵣ)⋅⎝2⋅uₘₐₓ - 3⋅uₛₜₐᵣ + ╲╱ -uₛₜₐᵣ⋅(4⋅uₘₐₓ - 9⋅uₛₜₐᵣ) ⎠\n",
       "─────────────────────────────────────────────────────────────────────\n",
       "                     2⋅ρₘₐₓ⋅uₘₐₓ⋅(uₘₐₓ - 2⋅uₛₜₐᵣ)                    "
      ]
     },
     "execution_count": 17,
     "metadata": {},
     "output_type": "execute_result"
    }
   ],
   "source": [
    "A_sol[1]"
   ]
  },
  {
   "cell_type": "markdown",
   "metadata": {},
   "source": [
    "### Evaluating the new flux equation"
   ]
  },
  {
   "cell_type": "markdown",
   "metadata": {},
   "source": [
    "Quadratic equations, of course, have two solutions. Here we have to select the positive root, otherwise our model would have an inconsistency. Are you able to see why?  To determine its value, we need to fill in some actual numbers into the model.\n",
    "\n",
    "Let's start with the same numerical values that we used in [lesson 1](http://nbviewer.ipython.org/github/numerical-mooc/numerical-mooc/blob/master/lessons/03_wave/03_01_conservationLaw.ipynb) for $\\rho_{\\rm max}$ and $u_{\\rm max}$. But we also have to supply a value for $u^{\\star}$, a quantity that should be experimentally observed in a given road. We propose $u^{\\star} = 0.7\\, u_{\\rm max}$ for this exercise.  This would correspond to 84 km/h for a highway with a 120-km/h speed limit, for example.\n",
    "\n",
    "Let's numerically evaluate the solutions for $A$ using the following values:\n",
    "\n",
    "\\begin{align} \n",
    "\\rho_{\\rm max} &=10.0 \\nonumber\\\\ u_{\\rm max} &=1.0 \\nonumber\\\\ u^{\\star} &=0.7 \\nonumber\n",
    "\\end{align}\n",
    "\n",
    "Now evaluate the numeric result for each root of $A$ using the `evalf()` function, where you pass the numeric substitution as an argument. It's very cool.  Let's try the `[0]`-th solution for $A$, first:"
   ]
  },
  {
   "cell_type": "code",
   "execution_count": 18,
   "metadata": {
    "collapsed": false
   },
   "outputs": [
    {
     "data": {
      "image/png": "[encoded data removed]",
      "text/latex": [
       "$$-0.0171107219255619$$"
      ],
      "text/plain": [
       "-0.0171107219255619"
      ]
     },
     "execution_count": 18,
     "metadata": {},
     "output_type": "execute_result"
    }
   ],
   "source": [
    "aval = A_sol[0].evalf(subs={u_star: 0.7, u_max:1.0, rho_max:10.0} )\n",
    "aval"
   ]
  },
  {
   "cell_type": "markdown",
   "metadata": {},
   "source": [
    "That's the positive root.  Let's evaluate the negative root (but we're not going to save this result, because we don't need it!):"
   ]
  },
  {
   "cell_type": "code",
   "execution_count": 19,
   "metadata": {
    "collapsed": false
   },
   "outputs": [
    {
     "data": {
      "image/png": "[encoded data removed]",
      "text/latex": [
       "$$0.0146107219255619$$"
      ],
      "text/plain": [
       "0.0146107219255619"
      ]
     },
     "execution_count": 19,
     "metadata": {},
     "output_type": "execute_result"
    }
   ],
   "source": [
    "A_sol[1].evalf(subs={u_star: 0.7, u_max:1.0, rho_max:10.0} )"
   ]
  },
  {
   "cell_type": "markdown",
   "metadata": {},
   "source": [
    "Now, numerically evaluate $B$ in the same way:"
   ]
  },
  {
   "cell_type": "code",
   "execution_count": 20,
   "metadata": {
    "collapsed": false
   },
   "outputs": [
    {
     "data": {
      "image/png": "[encoded data removed]",
      "text/latex": [
       "$$0.0117110721925562$$"
      ],
      "text/plain": [
       "0.0117110721925562"
      ]
     },
     "execution_count": 20,
     "metadata": {},
     "output_type": "execute_result"
    }
   ],
   "source": [
    "bval = B_sol.evalf(subs={rho_max:10.0, A:aval} )\n",
    "bval"
   ]
  },
  {
   "cell_type": "markdown",
   "metadata": {},
   "source": [
    "### Turn off $\\LaTeX$"
   ]
  },
  {
   "cell_type": "markdown",
   "metadata": {},
   "source": [
    "$\\LaTeX$ output is great when we're looking at algebraic expressions, but it's a little too much for simple numeric output.  Let's turn it off for the rest of the exercise:"
   ]
  },
  {
   "cell_type": "code",
   "execution_count": 21,
   "metadata": {
    "collapsed": false
   },
   "outputs": [],
   "source": [
    "sympy.init_printing(use_latex=False)"
   ]
  },
  {
   "cell_type": "markdown",
   "metadata": {},
   "source": [
    "## Green light: take 2"
   ]
  },
  {
   "cell_type": "markdown",
   "metadata": {},
   "source": [
    "Let's re-examine the green-light problem from [lesson 1](http://nbviewer.ipython.org/github/numerical-mooc/numerical-mooc/blob/master/lessons/03_wave/03_01_conservationLaw.ipynb) but using our newly computed traffic-flux equation.  We shouldn't have to change much—in fact, we can simply create a new `computeF` function and leave the rest of the code unchanged.\n",
    "\n",
    "There's one last bit of housekeeping to do so we don't run into trouble -- we used the variables `rho_max` and `u_max` in our SymPy code and we defined them as SymPy `symbols`.  You can check on the status of a variable using `type()`.  "
   ]
  },
  {
   "cell_type": "code",
   "execution_count": 22,
   "metadata": {
    "collapsed": false
   },
   "outputs": [
    {
     "name": "stdout",
     "output_type": "stream",
     "text": [
      "<class 'sympy.core.symbol.Symbol'> <class 'sympy.core.symbol.Symbol'>\n"
     ]
    }
   ],
   "source": [
    "print(type(rho_max), type(u_max))"
   ]
  },
  {
   "cell_type": "markdown",
   "metadata": {},
   "source": [
    "If we try to use SymPy variables with NumPy arrays, Python is going to be very unhappy.  We can re-define them as floats and avoid that messy situation.   "
   ]
  },
  {
   "cell_type": "code",
   "execution_count": 23,
   "metadata": {
    "collapsed": false
   },
   "outputs": [],
   "source": [
    "rho_max = 10.\n",
    "u_max = 1."
   ]
  },
  {
   "cell_type": "code",
   "execution_count": 24,
   "metadata": {
    "collapsed": false
   },
   "outputs": [],
   "source": [
    "def computeF(u_max, rho, aval, bval):\n",
    "    return u_max*rho*(1 - aval*rho-bval*rho**2)"
   ]
  },
  {
   "cell_type": "code",
   "execution_count": 25,
   "metadata": {
    "collapsed": false
   },
   "outputs": [],
   "source": [
    "import numpy\n",
    "from matplotlib import pyplot\n",
    "%matplotlib inline\n",
    "from matplotlib import rcParams\n",
    "rcParams['font.family'] = 'serif'\n",
    "rcParams['font.size'] = 16"
   ]
  },
  {
   "cell_type": "code",
   "execution_count": 26,
   "metadata": {
    "collapsed": false
   },
   "outputs": [],
   "source": [
    "def rho_green_light(nx, rho_light):\n",
    "    \"\"\"Computes \"green light\" initial condition with shock, and linear distribution behind\n",
    "\n",
    "    Parameters\n",
    "    ----------\n",
    "    nx        : int\n",
    "        Number of grid points in x\n",
    "    rho_light : float\n",
    "        Density of cars at stoplight\n",
    "\n",
    "    Returns\n",
    "    -------\n",
    "    rho_initial: array of floats\n",
    "        Array with initial values of density\n",
    "    \"\"\"    \n",
    "    rho_initial = numpy.arange(nx)*2./nx*rho_light  # Before stoplight\n",
    "    rho_initial[int((nx-1)/2):] = 0\n",
    "    \n",
    "    return rho_initial"
   ]
  },
  {
   "cell_type": "code",
   "execution_count": 27,
   "metadata": {
    "collapsed": false
   },
   "outputs": [],
   "source": [
    "#Basic initial condition parameters\n",
    "#defining grid size, time steps\n",
    "nx = 81\n",
    "nt = 30\n",
    "dx = 4.0/(nx-1)\n",
    "\n",
    "x = numpy.linspace(0,4,nx)\n",
    "\n",
    "rho_light = 5.5\n"
   ]
  },
  {
   "cell_type": "code",
   "execution_count": 28,
   "metadata": {
    "collapsed": false
   },
   "outputs": [],
   "source": [
    "rho_initial = rho_green_light(nx, rho_light)"
   ]
  },
  {
   "cell_type": "code",
   "execution_count": 29,
   "metadata": {
    "collapsed": false
   },
   "outputs": [
    {
     "data": {
      "image/png": "[encoded data removed]",
      "text/plain": [
       "<matplotlib.figure.Figure at 0x7f5405461c18>"
      ]
     },
     "metadata": {},
     "output_type": "display_data"
    }
   ],
   "source": [
    "pyplot.plot(x, rho_initial, color='#003366', ls='-', lw=3)\n",
    "pyplot.ylim(-0.5,11.);"
   ]
  },
  {
   "cell_type": "code",
   "execution_count": 30,
   "metadata": {
    "collapsed": false
   },
   "outputs": [],
   "source": [
    "def ftbs(rho, nt, dt, dx, rho_max, u_max):\n",
    "    \"\"\" Computes the solution with forward in time, backward in space\n",
    "    \n",
    "    Parameters\n",
    "    ----------\n",
    "    rho    : array of floats\n",
    "            Density at current time-step\n",
    "    nt     : int\n",
    "            Number of time steps\n",
    "    dt     : float\n",
    "            Time-step size\n",
    "    dx     : float\n",
    "            Mesh spacing\n",
    "    rho_max: float\n",
    "            Maximum allowed car density\n",
    "    u_max  : float\n",
    "            Speed limit\n",
    "    \n",
    "    Returns\n",
    "    -------\n",
    "    rho_n : array of floats\n",
    "            Density after nt time steps at every point x\n",
    "    \"\"\"\n",
    "    \n",
    "    #initialize our results array with dimensions nt by nx\n",
    "    rho_n = numpy.zeros((nt,len(rho))) \n",
    "    \n",
    "    #copy the initial u array into each row of our new array\n",
    "    rho_n[0,:] = rho.copy()              \n",
    "    \n",
    "    for t in range(1,nt):\n",
    "        F = computeF(u_max, rho, aval, bval)\n",
    "        rho_n[t,1:] = rho[1:] - dt/dx*(F[1:]-F[:-1])\n",
    "        rho_n[t,0] = rho[0]\n",
    "        rho_n[t,-1] = rho[-1]\n",
    "        rho = rho_n[t].copy()\n",
    "\n",
    "    return rho_n"
   ]
  },
  {
   "cell_type": "code",
   "execution_count": 31,
   "metadata": {
    "collapsed": false
   },
   "outputs": [],
   "source": [
    "sigma = 1.\n",
    "dt = sigma*dx/u_max\n",
    "\n",
    "rho_n = ftbs(rho_initial, nt, dt, dx, rho_max, u_max)"
   ]
  },
  {
   "cell_type": "code",
   "execution_count": 32,
   "metadata": {
    "collapsed": false
   },
   "outputs": [],
   "source": [
    "from matplotlib import animation\n",
    "from IPython.display import HTML"
   ]
  },
  {
   "cell_type": "code",
   "execution_count": 33,
   "metadata": {
    "collapsed": false
   },
   "outputs": [
    {
     "data": {
      "image/png": "[encoded data removed]",
      "text/plain": [
       "<matplotlib.figure.Figure at 0x7f5405461748>"
      ]
     },
     "metadata": {},
     "output_type": "display_data"
    }
   ],
   "source": [
    "fig = pyplot.figure();\n",
    "ax = pyplot.axes(xlim=(0,4),ylim=(-1,8),xlabel=('Distance'),ylabel=('Traffic density'));\n",
    "line, = ax.plot([],[],color='#003366', lw=2);\n",
    "\n",
    "def animate(data):\n",
    "    x = numpy.linspace(0,4,nx)\n",
    "    y = data\n",
    "    line.set_data(x,y)\n",
    "    return line,\n",
    "\n",
    "anim = animation.FuncAnimation(fig, animate, frames=rho_n, interval=50)"
   ]
  },
  {
   "cell_type": "code",
   "execution_count": 34,
   "metadata": {
    "collapsed": false
   },
   "outputs": [
    {
     "data": {
      "text/html": [
       "<video width=\"432.0\" height=\"288.0\" controls autoplay loop>\n",
       "  <source type=\"video/mp4\" src=\"data:video/mp4;base64,AAAAHGZ0eXBNNFYgAAACAGlzb21pc28yYXZjMQAAAAhmcmVlAAA/Fm1kYXQAAAKuBgX//6rcRem9\n",
       "5tlIt5Ys2CDZI+7veDI2NCAtIGNvcmUgMTQ4IHIyNjk5IGE1ZTA2YjkgLSBILjI2NC9NUEVHLTQg\n",
       "QVZDIGNvZGVjIC0gQ29weWxlZnQgMjAwMy0yMDE2IC0gaHR0cDovL3d3dy52aWRlb2xhbi5vcmcv\n",
       "eDI2NC5odG1sIC0gb3B0aW9uczogY2FiYWM9MSByZWY9MyBkZWJsb2NrPTE6MDowIGFuYWx5c2U9\n",
       "MHgzOjB4MTEzIG1lPWhleCBzdWJtZT03IHBzeT0xIHBzeV9yZD0xLjAwOjAuMDAgbWl4ZWRfcmVm\n",
       "PTEgbWVfcmFuZ2U9MTYgY2hyb21hX21lPTEgdHJlbGxpcz0xIDh4OGRjdD0xIGNxbT0wIGRlYWR6\n",
       "b25lPTIxLDExIGZhc3RfcHNraXA9MSBjaHJvbWFfcXBfb2Zmc2V0PS0yIHRocmVhZHM9OSBsb29r\n",
       "YWhlYWRfdGhyZWFkcz0xIHNsaWNlZF90aHJlYWRzPTAgbnI9MCBkZWNpbWF0ZT0xIGludGVybGFj\n",
       "ZWQ9MCBibHVyYXlfY29tcGF0PTAgY29uc3RyYWluZWRfaW50cmE9MCBiZnJhbWVzPTMgYl9weXJh\n",
       "bWlkPTIgYl9hZGFwdD0xIGJfYmlhcz0wIGRpcmVjdD0xIHdlaWdodGI9MSBvcGVuX2dvcD0wIHdl\n",
       "aWdodHA9MiBrZXlpbnQ9MjUwIGtleWludF9taW49MjAgc2NlbmVjdXQ9NDAgaW50cmFfcmVmcmVz\n",
       "aD0wIHJjX2xvb2thaGVhZD00MCByYz1jcmYgbWJ0cmVlPTEgY3JmPTIzLjAgcWNvbXA9MC42MCBx\n",
       "cG1pbj0wIHFwbWF4PTY5IHFwc3RlcD00IGlwX3JhdGlvPTEuNDAgYXE9MToxLjAwAIAAABeLZYiE\n",
       "ADv//vdOvwKbRZdqA5JXCvbKpCZZuVJrAfKmAAADAAARsIY/aJvYgOIA4Z/2ZyXw+295iesdRypa\n",
       "JELSRFfi0i1d++b3067/TvzkpCnGQ58iqQhIKnv2jOCJJk//h1/lDyZvegcggMoDNGAqJA1100zn\n",
       "8aPxQX6g9gZHIdcKzwO+OAlvNYEBIxoNiNeIjXR5F9co0rCAcCrTc8yZlFcKI2fQTrk07OF4zyHD\n",
       "ZUdBNfpISUbybO4Km0D8m74tbx4TEvGehYO8L2uxY+5Ci2Qw7ujpe0V93YLy1l/R/gqnRWfCykbt\n",
       "MUUyEp8dZfoJgQF7aDVfjme7D84mp7kyRdcZ//legBpihLNBqlFrHkknY4u4kfNvJ+t89NN53lOO\n",
       "KmNMkOhhTW4dlm7rgJ5wtdOFNE+KMjGIotBAOvfyLpgYE0oFyCReMaorVv3NRFQtV6nLC09+s/+0\n",
       "BQwcp4CekguuG4PTmv8yj0N5MmjdMNLqSus3KeJPab/V0tvDbGdWi0ZYaXvfDhrPt/J2+4krgJ8r\n",
       "Mup2jSreSlK350dp7Y2eI9Kx6Fs4gOMNzEcU136io6W0PziIvVOoFE5ffCtT/bTU77P0C4+4bbef\n",
       "aYnLKEMD3gyovMyMyXpO6FdNCCCF8epjOC/7JUgOjyKGNdHX1Phg0zQqypR1HQ6jvctewnyKSwP2\n",
       "IAhcS/zJAJ8AKgXJexoAAhtDFVHkvzoTpS47qFzLazgCfYM1nZZn+/HX2UA74WSmZul5Gl6zW3+P\n",
       "4AMdYRZlAjCqN0XjpoFIRolk3gu5/6U1yF/lXkGbHO+1p4XW0h8RZYEczIJW16aNvIqtHiXrWtQn\n",
       "YhiwCOMBxLiZsbJednnU0WczIrVUMKmLfn/skPZihgoi8AOeqpfHcKPdhBcSABFRw/gScnpGEYCu\n",
       "0H9XtiuAtK/7eKIPKHArS9udz1AQaiMrL0z2zEf1uoehxcvYFVio7hUAV4Lq6FVGkehBKyao1LO6\n",
       "dk3e0IkACSvV10roqhJwYmJJi8HnteAzS2Jmkx71Vpg3d8jqbvj+f/zYKAbQtxPB9KEPMqjqbq1x\n",
       "kbWbM3xj9FaMGYCeQDDByAf8pCLKbRA3efBO6c6y8D9djJtF8YVo/jbu/zcFQyk2474gLFjBkL4l\n",
       "U04xpavXK+Pp8PO/Kk5P9dJRu7XTCaX7MwmhCJ7nogOdHmCF0rBEx0/3XRYN/z1EykM//UsxBMO5\n",
       "6hLDLDkJ+R0A/KUyzGyKzsqWgsX6qX7EwvwbBAcZKbeJUikGo4d8srRO3RpcBsj8/H0kS5LLlfI9\n",
       "fXcbCSTbttVpRvS4D8yr3yPn1XsVLSbTJu0q8y9CHgrnzdcp/v+yNih/uUoCXEAJjz0KhgMnDuni\n",
       "2iZ2q7R61+HWSEUY24fymozJG5brtYN8Vwx4pV1pxm4FQTBgJid5gg48SPo0oYOwffef9Mmfnyw+\n",
       "qWqoh3TDhxRo9o9pjLumxPrw9M58K8Abezk4f62lBgjSPYVMotcehwdWsfsgfPpBhx+InukTltGT\n",
       "5oUGmKvntIWkhgfhEYsM3wuPfuP68CdxwJwZGmiaeqORfFiWSGiIL/PVwDs4/Fm4P3/yxKb9QuMs\n",
       "OGeE+Eg6eKE8xrNGC7ULrY8Vkk9xeyKsZSWXn5g/k2jm1iPNNdARDo7E6H4nuPNyANrZNri2x44h\n",
       "uEGmCu7LzVSUTgNkdR0DLnhI9JW6Txx2kdN1h7eVHBhs5kU/MhheH+VGpzK8LY7iLD2OcenM73Rd\n",
       "LlFc6ESxcuvHi4gxB+ai/ym/GZuj377O0VpnnOud2cMf9TVorfC1ksrHHXZxOF+bFIctrowsk7j9\n",
       "zDbZSzwa34dsaqBjd0sC+eemHYz1AlRdUSzY93j/SUMa0Te2lGgYmmrBUY/4Rf+Gw4JaAVoG+v7R\n",
       "/e9UoKxjRvAUFdPFcxRl4r+EQgJbovbK4+C6/FuQKdOCBabtPq4I/kxwcjJipQ+GJcv4raGBbQyw\n",
       "JhWe99eUknpKgjVqR5GmgJdcyoORntAgUieW/bC4XlnSCD+mGDbN6W0OXiEzgSjmGTL7+yQ6hUda\n",
       "lNrbAlTh9OvEgBPADKlrC2MJhHUym/dr1jjVA3yIRZE59a/XMXWkTwvncYfOtsnQHr+whnzUTENW\n",
       "JCyXVwudw7CmdtUZY0naowl7avcF1a9KTYrYmjvYr02kb7QksHzqRrBBU/VhnfGSE8Ok/WZ6RitA\n",
       "Y0d74MtU/MfKhXKpGy3qmnt1LzTgJUZrTNgwHpEYNVlPoRDLJGx7nZVhcGxRyrcE63AT582hfaLm\n",
       "YX26nPNSO7kHVFkXf0b6wYPSnyDqGafeBmZnvcSSUtrte6lT0sF4f1JiW3EIFLfiqbwLdqWczLfc\n",
       "AbGpERV/JVTsKNI43WauPrrv9KcXQi8grWJy3pZdacokVRElyHZnNrW3sJTvyhEqR2qJ1wwmgf3t\n",
       "BXQirwaQuBFLfX548dE4KF7cggRU6DqJQERDreUI/bWYVXUQJupabCDI36jAIimb/7U4saBW68+x\n",
       "7pgyKErHnbSR6+CE56qLKsDFI2u+sO0mhRYIRfwA8x0sVm4A0aqEpnpN2WwqupZIiZOIoBwuY1w3\n",
       "B7dFA2n5Zq4+neu1muHkuIVgzvyA7rbgt/nSPPY0+Zh2eVJjh397RSb/A/I/LvSGekKlD2ePBfEV\n",
       "7lyej/u8h1YWtf+5A8UiOTw9zIGJ9p6TVEjqgcmjJftrjk/iG4zE+9jCszu9BoWOUc6Q5aAiW+z7\n",
       "6+UcccOCsNE8GzkX0Xg1V63Q15yymEMhljY8wXlPXPOQKX+2clVekw64coaQmpMlXW2l1RjL+VI3\n",
       "qe8CUna8aBiRdm+r/YZNPwgsuTtxCz6yVBEhaMWPkULBnt3uo/itUauiYaQ92HjO4U7N4jMNobkg\n",
       "bdiFZD+YrUcAHxwz16Zz+d52/3Bv7DzBxoQGT2wcitjc8VuD0BEkeqLpr6BwUfvOIj5LJ4V5hM3K\n",
       "HOijoXkboc8shdhyWVb8+TrxaVqkqfEHnlHwdADb63J9Zsq/9fPoSeD54R+dNQquFYlc5InqZPew\n",
       "5H2IWjmg/SyzXkCPQAL8NW7UKh3I14Mb0XeIJn9E8mD5EQg1ZlQOgu0G5vYhffMdSy6t2I24ZR9s\n",
       "bh+/UhtL0/VfJZOVdSU3nv91KFCOmUc2p87Y5BTAMt7diq40f9uiBGD1pPckr8Hh5YElFvom/hFp\n",
       "u3WH8qBZt86ixmOdYbfUDV7ZtYywX+F/yHUrYnFG2tysNE5eVCTqA5FT+oQgTDJirhlsXl2yCQuy\n",
       "j5TdIiw11KSSWEamQJSp233nlKINlPez9VNIks6ccY6dWSY6krciKnZWVp7rTO2XNsiBKseWS8cJ\n",
       "6wD/l9MmuUX3hW5V1T5wi20nKMaVf7kzCPP/LlX0TQbujt6uu27KvvibhN6ifF2kNjl+kvocf8fb\n",
       "W0qQpX9RWExY913r0pP2OS+RYTRaXxASrPoLVYfqSohWixsGO1/iSs+FbrPvONAE8tI+NdLhUjQ/\n",
       "rWSfgX4P7otE0yHK2hohM/GczCP7p8UzpnPO0Ig/VTqDPVxUrlw6Xw/KpliXVuDNFbxbtWsgcjau\n",
       "mYpglQjOWE8ojEPe8Lo74VsEZ84254tY5JPxD12lBoN/Afotb+wpP2aV3tc8e6fJI68LMaJ1L2lV\n",
       "Of3HTpZF5G7VgIEchlFyqdxPZZ2wSCO96wXNlnJq4FzREhtOdzAKB/aW4Lbawt1sipc6SBWY1jLj\n",
       "8KU8MW6wVg3Frzx3zDpSmwwwSS35a2geDuivXfBuarJZgPUdEq4C4vY6hi3Xv8xUF506OG/bA5NJ\n",
       "02EhbQoHhur8txqXhvz/HTffCIX2xzAap+VvbwbtAXuZqb9aw1dqOhCS7GmvElsf1IyJTE2m4sre\n",
       "Ng27fsPvR1Enyd21qXs2pP0HtMsPhDY4TCkqjxlsKqcZ/B2v+tjkHJTEHx+2dijVg6HJP/zKOegJ\n",
       "TIB7M1EIxNdxcLNgAS+6KrZkO4Juj74gjKPX7f9NKM2g04kp4RscFRSB9/MgdtzCuBZX2t252Eo8\n",
       "rAQH3PkNi6oteAvzEx6oAbE3Rk385EhYfZybfRNCVqIhFvMdfuZ52W3ou1LAQqXrPt43Fc6u/rfN\n",
       "/VjZV/reFAp2KeFUBAf3T4R2LpaX2tG8O+ID/AI6Ou/Np8qHwVgbigxWM7uPmG9iDFJFAACx9NYa\n",
       "baQAs6szIA2OvCptL60qM4+5dmZsR5aShm8RiumtS0ChOSr6fP1NDIm55y7J2jXzX6m4N3wDNkni\n",
       "322Oipwy7VdiRWxUJf8J8K7JsTxWXRCODKh10p+pD7s4cHD/NiffxtWad7QXaeNXlV/v8R5gARD3\n",
       "QwHQMFq5nitfrJIXyoJKZFsFnFC0UlZPXhshqv4FfZSXk2xFb4NDyXFv9t/qV8SsEBysR0CLztWx\n",
       "frlxHVfFdySZIWz28VGqE0OUVpqasibDEFt+M7xIj9avBh8ubOHXCfFKAMJ6KnTQ42cJI3rnMpdp\n",
       "XPjH5oN/FiUZNOFPMIfmSz1i+moalMe9oKGUh1qj5C7o0+YZQiuPLe1ws6SYsrppBw5NGj239qaf\n",
       "JhYPu5qaFWOMmAF8q7qxwKPXgWbsRGz78Nn92ZngccAmcHufoQ0ZpeZSJqudyvqw4j//4R1N3tjR\n",
       "pf6xfpP1JjbZI1AJ+tSYV+Qnufa8loZTX9SgeuALtG/uOtbwIXHFXuP2GC3p+vx36CMHfJ8nEsTC\n",
       "M71ujUpvJYAKfZHd9obSnF4mv6SEHvgJEtayLhhsei9jy9E/F9/mERIOJJp1yS/J+gArHM46TIcL\n",
       "AlkRXOzu1UFBQjwkGMXeMqZwTab6Ph500FYCg/kCZ/fsTPw9B+f+ZFM3ziMEb0dpWStcjtfJ1vRH\n",
       "v25HkP0KQYq4dcLJzmhimRhPTtrxM1gaDzJe1J+ugRSOj3uk+JZQupnNaK4Cb+L4zBr0teiE9Yzd\n",
       "HQt9LC14c2vS0/OrpmZ+nQqw7pYPBisarjs44XLQ3EEaMKWzHllgAe9VPes99jS1xJCowkojnZbb\n",
       "EMS7/xlAomZ9TKe3ifQ0FEescBAeunjqxn+YoRM+QL8r1/pRU5Smz8MWk5YAX6iy8g5RBUC9mMn/\n",
       "hZUXoOoe1hCMoAsBso9EkAB9+B49CS1YP65J+GHPcHu+hhQz16rDy7yFKFHkSfodQBC75L/exz4j\n",
       "6Iv7PhiP7s1GazQCNgOxmWretAYeT6RSWSl7il+1ecfP0I/9O7a0wD8rIzHfW9Pg6IeVE13K3kDm\n",
       "X/dGYmaYxIx5WnNzL5Iql5rA2AK4n5givcjL+nDjKbc1zfrV8testYkQIX5F3G0NYmOmf5fMNTqK\n",
       "0gzVv+wyzv0aC160xWspzI+u1AQLfB8n7g1F/iJEeFbKsFCJfqkk5huzJJIVBN1uuZrWpzrJqbqW\n",
       "E7P4j+J2bvcuOoGsHqp37eSYLqt85s9wXaAsz7yyfbqGRibD/zsBVgKswqsP0F/YcnlU4k5+S3cZ\n",
       "MXmznO0fBNw9uQDyFXFnmNQXwi/mV61v/JjpvJKOAyEq6Atzv16YhKnbqz6rPQPKz9Y4Jo7wdJ8o\n",
       "BSfO1DjDOYhAtMOouwFQI87bTKfb4gkAZCo0wbXWLXCXzk6lfKc5xu6rIGFJa8nnqY64SfZBymxw\n",
       "i5iCDRk6yOGA0zeh+tQqV6NB9Q91D8wVaXnnIh22ocJJy7cyLlBDjY5pyKS/Nv2FzYoA++WRDb7q\n",
       "hppBnJAeOCztgTlVskc+dQMg/SIYo623KtHTRY09mkiLm0h9cNeuoYkxPkmE2Bs6yheukpdYPrbK\n",
       "idFdcnFBahb7zM1s3mUq7nzIkn1zTuUSKkLyh9E5B5E+ohAk1qTQEufvk73qDK/i3d5KOWR5YlSH\n",
       "kFcTwHRl5+odfUGVKPWIKVx9kKnyxpX95niUwgQVmzYbsQgQws+m0jZiRQ3O1ffOWPnLWi6M9RSh\n",
       "zRHmLOqst3HN6u9XOygZDfCmvmb3mNL6ukJ6mU2Ynp+VX004iH8DDEDhko4Z2Gmb86Q4HY26LQVw\n",
       "VljSSD2FNpGh5eas/pD9BcExg3bC2bHJC9pRf09PYE0f776jrN6IVm5XzhFsysKHlgMVKah0Cg+v\n",
       "eWfHYCxwPw2gfLeFwuHCs4WidioIrQodjqyKo1FgFeXz2jyGezGzlLjBrBQQD/79L9j3t3uS1p5Y\n",
       "YO1ix2P0S0N3IczhKq5kfIeyD+R6E4i0Go9rJJfgH5uDMUz5F2qqeDoy3GMb2+C7UVNsFy/L/dZI\n",
       "ih28abY1ffrAlIiqNlSp7CTRWswgsNgU8AXyYivc7/xnRGlLZP4UkoAiUnddz44Cxkubc4Q0YDPG\n",
       "poXOq4errW2P8hpfx6cKzZrXTMP+WrHNGjNdoaU/9W3XXHGbbLFnil1UPbKQsCr9++HjQnTWFTuY\n",
       "0wR7dUgQOXNmwoqEBe1Ry+kiv1bbM7KG3oxqyCnpqigUdEUZoCan7CGbcczsanzkfOdKwCHhUm1D\n",
       "ZhTelKRr0WpZQwM3Fk+Uyp3fhRCn1H2olpTrz0AYdfuMjZYpEa+Popx6cfasUbI5q8hL+o2/Q3p1\n",
       "C9AauCrAzur/7gSDiQZOVfzePvKXoDCRIgpQN4GcIRUA27+tW+Ghn5yQw1iJMFvt5McLNkYq9mVS\n",
       "QkeQmwSs4O3Cwez7bbVqeIAnx2Q3g/Q/3YtxGa9XCf3oogu5uvKTXmTzDRlvsTzHoM+jvaR1aVS8\n",
       "LIfhJWN45ixlJSHj76FjD3PH/NHIfMLsZ74w5n864cun3KHNbcGKpb1TsbFZl3pN53UGIKTtwDdX\n",
       "OkLslC4yminjHbWOEw8Emm9aaSKeODLtvwc6+28NboQnip5gnI+mpmapattI7E0gfiaxTIs//T22\n",
       "p6w4Sj/+Kt7IUdPc0wOdJGxM+hlKuG6oEKJI2slh2OOAq1mddGhpNpQyN8De1cB+OTSM7VaO+SuV\n",
       "enJ5exB5BapVh3UBT8vgNIwDbxACmmRG0GHAOTURQh2Q/mZ0H368rQPacPQAfohhvfJ4QEKI58Ur\n",
       "LuD7XQZLR8ldNAM3qOqvTohSFGEYdnpw5xqjpkNW8A2Afc/DkESY+43kVuHgpYsqfUzBufo9CWJf\n",
       "N+H1PAe3/sGfBD/tXxxz/OBSNgUQc3vuDdnzlFnJNU/dwqjqxG3Rkdp2zPZbxQG0JHQBbOt5SX+W\n",
       "kTiNWbBUZ8ULd3IGp1TqtwPOw3AS8O8DPblB/+SzJygi5WzvYiGzFzvpTLP6k1dBoKnW+5l+dm3Z\n",
       "c51pnH+buAXhk2sCTpm5b6rskmNXnbudqdCM/9jPWi/1TnCvYHPWOwLqST2yUWezmKERZQJv6Tyu\n",
       "EUH9RSDxxmxNVr8t+VdhYQ/XEgoE6jO5AwrpYKT4EIqmqIDTEQtjUh4v4qjOJ38Dxv4GXpoFWCy2\n",
       "a6m1iFAUohiEWIFXrGOeS/1nZpZvRKOdbV+TnpTuIxkhyCKCYebg3IQnQYT0Y7yzN/vSTsdodX04\n",
       "G+hGvQfs7piZJsswhiJJ7b0i4PIbuUUBSleLAS8MxIFl2ne4eE7jxc07Kmat8sfJEmJdYj82E/Qy\n",
       "H4az/OIALSG0qnF3SUwSvpkAQAMODdJaWJ1an5+R6Qf7zLonRtsvJXRy4SfnkWgdEL5mUBmOdVpX\n",
       "3W2tD08LbkqMAj+PbCOr2fg7HfLtwr0zw4oav8cEj7ltLiYK++I5bBw3dgCcwY2uFmdvYoqsiW8l\n",
       "ItT0ltdhEU4qSReG7CdvR567TxL3B9O8vtKJW32XM38YJl0ov7vBUp+sKL4C2N6MVp5vWyjUTMKb\n",
       "n5N35I/c6hhJiLx7AAxzt5Y5ZWMfqNS92fv7RTt+iLIPVVo4r2ZkMzX5EmTdMpJfgBvgMQ4p1tKM\n",
       "fx+p7jTA1sRjT590u4fJ9wDoINvCBxpuWNdY2sIOo0U1Xgj/LameFLAk9kMKrBkzNuotBwkz4MV/\n",
       "EDH1zXE6fJ0M9lZQNZ31T+2MqDKeMh00XJIYezAokJZMkLhNokPwJGXUOOqCURYN8ISNqKy502XJ\n",
       "7qZ+60fdBJNssJjTBiA1D4GWxTU3o21W3ErnbeDO6Due/xASBF6xAAADIEGaImxDf/6nhCS9lcA1\n",
       "hYPK+8vmQ8/R+ZFvJIPWra13vSvpxU8CdaM8hRfOmJ6tbVhL7bH8DB7OlGTyRKnAscCV0chazWGI\n",
       "M/1LQwTN5B2QZQNqo1DLF49ACR9ksUApJ9dk7Pv97Ytt9vdaMHDnVdoQXXsc7GM9bDdygOZ6sRws\n",
       "vl5Mj3JoL1UpL2jMbFM3bx+sf+lcQIilRlsPla0wp+s09ArQVVU80UQ9Ink1XkdRjdX0S95wqFxL\n",
       "86WJYy3nd2Ik4ShQ9I42q3ZvZtsJZSlURJV6IOA2SZE2LxIhWaD6nCd3yZ394wFiOg8E3PX5UWlL\n",
       "8OTFsu6JBZktiS/Q40TTg4zuVQk9FEqDsTYnuvJ+u8lpqCWh/Gl/CTeTJcB9VHWLbgmy+muYOrml\n",
       "0kMedrbxCDBSqWdHhU+aMfavsNrUF2zV+8hprXm8ncy+4XaY8plCoeDtV3l/Rg5o7LsMBwBNTli+\n",
       "5H5UQxwTTYMlxub4odRJi8M62hNv0w2zTDla6O0geF6NhckGOYtrJqlNqFQzechpJJcvKXrHoCAb\n",
       "1fp/1ci3gXZGhsGAbD2OS+7HQ163G/Vq0BcDeLuyJ5+vXI19//Ox8c8ftMgZaxSYR0G3TtmgX/Zm\n",
       "WElUWXM3XS00K3E8QClBe5dqKQWSeT09a63RxqnaThMe3AD87sKfwGzOMxdrjibhqPr7DUNnr1ZS\n",
       "BjD52VijqybTmDRxJVRs1G8np9Ic6Oyy86BMmSnSMqa5ZQxuyhqpoIHV+vIkQOxntGoH6CCysqxC\n",
       "jJsIjRqiFZ8fBrPP9P4dHQAYWguQIMlitOoZcfA5wmvq3xLNr7RzGIlIbGjxaFrbdfU7Ofx26gnr\n",
       "stAqY9NWWBBy1LbgnjtQdrKejydU13jaUUmDpEbOqnv+fINEp65Dm/TL+FOu89HSUq31dJQwArAK\n",
       "VDNWFOWscRdStRi+L/N5YqV5zstT8gp79aP0bs+SPyigqRv6r1uGk0Q6daWUBc9jhqg5ulbmm7RE\n",
       "pXmwXtbcnGFeMBd8/7fRthxhO+yPEbI+N1xhYpJ3a0kIM9B6h461dKqCDbggAAABCgGeQXkK/wOa\n",
       "j72YsmQ75m/9xqP6TVJG2dYf3ACEIJdo3evwCrHLHBpZr/x8d+YmuixgD0shZJQTM3jJOMv8OadK\n",
       "s0jHGwSl/pQ9SHZs1WHaGni9bcrWICT+oJGXd2LsZcCMiS6i7amlYK+xwcOMLTsTxmWEbR/5CIFv\n",
       "i2YVHaU3GCSaAruJQwV6SQCY+5oQdebjel7lhi7nSYA/eCg5Jtq0IUM7HilpNdgA2a0bdovcHgoX\n",
       "JjzQJbE1jNYo501Lsl4lwIBPV+K3g//8uFXefROQM1Wi7v8AetM9cmeanqRDWNPNUbY1WOW+dqed\n",
       "hL5muAnhZVZG8W9CSjeESYNnuMBVN2zK459CZQC5AAACCUGaRDwhkymEN//+p4QAFs5l1+oYHy4A\n",
       "A4hzbRAjIf0SGGa7A9be4XWDbOK5KQSU/OwaSqRC7NNsxfpcRDhG9FHF28UTmNb6s5iuEnWmz5af\n",
       "Z/J/59FMlJ+8so+aJj7oUcnlthM2HxfucALuUf5X1tWWyJjpmJdHRc8/3G2tM2Plfv+AWJ7uystT\n",
       "Z6G7ZXA6d+Vr/55cZSMbfc/Rpnd8jyzfk8EumPOYCR1/eAiSQy1NB9+ARBH+hpSgjGBugE7zvXV3\n",
       "58T4ILmhWjtStSbA5glajDnRAgRsBumV9soAu6rAQsPvrYrcpvx7PkUDt5xqYHRnniF52Sl22F9i\n",
       "kdNH9kQEWK/CawOBlHdf/4l6ETpKV0Fyji6WxeIajkZ1U2rcoXlI/Q1bMhV9DHUSpZvWOIdN1DpR\n",
       "T3fCSu5a2oUmd15DiW6NU+xFqwh6a+gompP6bUKocGad75nomcWUnaHBZ7tA6SfxCwobq+9KZk9Q\n",
       "3zU1SMYNO+e9RSWG87BsgRRIGLPFf8YMEuIjx2ujkKPmtPprllDG7KGqmggdX68iRA7Ge0aFbVCL\n",
       "ex4goBwxpMWnnWNLC5qaMc8uaAM+YNtAcEeIMdre6J+hb/FRLcNYIjeIBowFGOqLm0Wha23X1Ozn\n",
       "8duoKLpeswlGta2o1QV9spnrRjP8Mbz9RhyoU/UmsOGYR4ytG5ayq9FgAAAA9wGeY2pCvwARwumU\n",
       "cZNA50rT2Iv4KhAAz/SQh7h6rgW0t4FAmkBf7uQx70RpBzIsr9SPPKfouLqt8siD7+JRidrgiPHV\n",
       "V2QiX1T7DzO1SCrZnyxd6r35xXouZaIV0zvTw2Rcxi7mFwub15v1sS/Aa8LRYGQbZuac8XSiGN0J\n",
       "zWD6bx9NyyQhRsYMkMcNj95OO4JaVobKDo3Dac+QuUdM7zO50Y5YaBKzisX4pEUoeOL3D0pmKvCr\n",
       "AydIG4Vd59m5A7cXpZObIWcgePNHp/0gRZ4baX5d+SQyXQiZqvMl8zXATrlFZB5uhUef4Zc5tcy5\n",
       "QRGYQHvjt4EAAAG0QZplSeEPJlMCHf/+qZYACyaA0LFrJgfbEhgA2oluuDM3L47AZ66PBD7EkTDU\n",
       "xkxPVlf9HVF888L+SWY/RkT0ouDPXOj6wddgfq5AWpwNGmGM8Y7WBlJ99glkWvjbsn698ivzGbPT\n",
       "bgYOmno87gS23XrB3B5TFrpNmmp/QGfxNTtt3cBC5R6hOOfhrxU9NQFzN8AeP7t722m9FSdakWbe\n",
       "ZBlh23nSSD8PivXmSKx3qcKPV20IzqltCyQrI8E9vOmRpK80IQSlt1u4//vSVwQ+vin5+7JSahDk\n",
       "WRB/XjptmN2iculSVY4ot+8uAJ0E613VfJEslkuVkhoXPEadKE1CgM3Sq43iH6YZoyY17zxtoSmX\n",
       "Wow+rT2w9JK20Fq3aCZ7huIDmOIdfgQ5OlJY1hdgzJ3MVRNJmTZpdOJUFCnf+9rUgk8KPvwIoqG6\n",
       "RM1ziv/2BYsQy2kxrOFvmvMzlOQzGR4AVS8bSQhvgObGJi5RF2TR2JW6LBCTHwkyUXGIlIbGjxaH\n",
       "Jo4j+Gm5MTVVOICxZoVG7tVDHdNkgLFiFFOhZq+6EBWhJLND2LXRyAa2wbjDaqM2mQAAAexBmodJ\n",
       "4Q8mUwURPDf//qeEABY9/fA1CSVCM5PjF6MTBRmVJCKILAmpuWake0JUS4XxrlEyc54nR7FsD5Lg\n",
       "LqQCV7pG4y3hQizuzM2bUvQZP+yQG6um35vtqPQ126UXMCuAJFkF5kcCNyvFfnmXZRv+MoAJyAyA\n",
       "8PTK3MQ3H3ZMTJy4SD3qYm0TChQYJ8as0zLvaspqH0b0pvXFaW/hS61O2lZHo8IGv5ozoX0KvnDB\n",
       "y6IRqWt5WuTrR13Q7/fqvpId70b4gyMTE18L2VjqITPt+NLoiCxIo0t8HAfa2PEHMBAvfecOdytS\n",
       "85vGWy8oDnJ7NQC396eMdRuTIFc/4DcyTwYr6Cx3TOC9ZhideUQa5jQUIXTW8BW+UrJqOBZv4dKy\n",
       "FqQl8XYyb2+0FH+lg2Xy5hIfJ2NdkVSJahFDY7OZPPZiBnKjqX+Wha3/S5k/fNU4/HRM2rCP3gG7\n",
       "3NiyfmVo3PGDDqRl/Odw3fnxSdzluQrpEZU1yyhjdlDVTQQOr9eRIgdjPaNl8/kB96ZiNReeZLEv\n",
       "DtMWxsf0lyEpT8srYFHZW3l4E0eUFhBExGtnS9bCyO/CaKKqMBRjqi5tFoWtt19Ts5/HbqCRJ0Ik\n",
       "uixhpFb3YXPOXKqgyP4+5O7JrliG7ygW688E7UrQ3cUAAADgAZ6makK/ABHbYwBsyC9bmmKACc+q\n",
       "P+381hv+WmwWgn31qOsy5xKcmxZ8vBVVY8eeVIT1UZfgaLtHWJriELfe4HNInDCaucIJoB8+fMXl\n",
       "xQJgAJYUbSFyefmI+kKDSyzk2Uz9NuIEG5Hg4h2mDta3ily0wpmF5cBaynzi2tGkaVB9pTP0tTlh\n",
       "ZZZbuZEc2Kq6C1ge1JtO65yotGoDslka+1D1Bb/J1UnfESmoFylQdHs7m2rTLYOdIW0etRGnVVeg\n",
       "s5K5Hqj6QHzmpEm/X53tEuGZRbgjEVRRMs2p+r7p46UAAAGwQZqoSeEPJlMCHf/+qZYACzc88ZvE\n",
       "Tb6ZQATqphaLrC3pgrijc/T38dEZaup6FY8uL9AUVJZ6631KYSkJr8r8sX80pwX6sB55B0d2zOuR\n",
       "L1WcsJRzoAXw1+Kc58ALCV8pP3xr9hiJ5fzqApVnl2IvxCK+TprO8/wwn/3NWWi/Uq6G8cvlu8Zv\n",
       "Q3BX/SFEbt8MQmBCuCADknH5kQxep/Y7F0VFsaUbBGfoOeBvCk2W15GKe5lyhQIfp2sdDxiCf9pi\n",
       "gNNkOyIcqPFXku78IbSQoXUDkBw7qRuy5ChPERkuVeKxiz5doiP7g64+saH90lepqzk4aEo3OfZS\n",
       "lVUO2Q6XzDAZjPrGHQAu8GYQT16gioEiUXui4z+MfiijgJkHSYdmidCXW65OsOZOWFy7GTeLO0W/\n",
       "BRQuAafTXLMQ+4lQUKd/72tSCTwo+/Ah1m/gnfTO7MAkGq2gp3HAsPjg4uTswsTca3SWGUzhWhwf\n",
       "I00gX8TnnUC6LBBXdV3urHAUY6oubRaHJo4j+Gm5MTVU8G0u7jbZ2iymHsLnnLlrJIaIJ760Ej1Y\n",
       "hu8oJRBRhOpKstNmAAAB70GayknhDyZTBRE8O//+qZYACu2wbw9cAgA/mQQncYPP3aHYkqHm8cmr\n",
       "5JNp5W9KX6dNuKxek2DTOPCkFzUR4AiuNRwajY1ugY/y9TWtIg/b3aQ5nY69YBcuKivlqq6PPI4k\n",
       "JEwPURKbvfGG921H68yeytebZYnY3H01veSx9VIrh8FpGKqbMztLccp/C7Npv/k/dAMu/scpF/qZ\n",
       "EfL/dvkSOEKVAGaS96f//CIonjBgAtso/o8Yu4MFSusEb8geY7ia7H+4AOiN6tMESzp12sQkG8hy\n",
       "m7DFOutzNlmab0hpGrDnZCleRwqKOn+m9Xh3fp400L+KaYBEKmxR8XCvFVPHYSby7ip4QmlLglO9\n",
       "AkvpydRFp88UAYSDLxGbxZZI5kwO6DMh3p3R/WSnDpSERLJncBqwklZFtYNgaK3Ipad1nuPP06/b\n",
       "ldQqH0CKv8N65VI0+PhGx/7y3e2vr6udkvK5DF7+csv188uPp4YZNvXOFpjSTNtT86yIOKj0jgvN\n",
       "m3Wqz4/cwqsC/KuzEJgrnL2Pkv4lyCPAN7naBxSP2l13R9zgtKCRmhT2CUevOHlC8qRjHio2iQCh\n",
       "NJF9T5eE5UGrUcxFfURkX38tOgWwRfdlWoDKYREB9z8HJ88DuonbZ9nBD33zQ9gG+k2lYdSnbAAA\n",
       "AOcBnulqQr8AIrX91CXsb6ROXO6ABOubhj31JUdUJpQoUDoeyztMNKUH2Wi6yDri/4gPDAsNyZo4\n",
       "6BndyAZw9ix2b0AAAAt9JA8hqAcgHD5CcOvGkglkOwIZ1rkOxkKQ7zvAylM/NCW7gyIdrEXPkS+H\n",
       "FSHNlp5etDDvTzRhnfnVZ7eICo6N40ghyw6hTaMEhWgqFqUlqyk2P2G0i/HEgLzj580CsMKXbEGN\n",
       "CJiG8aXG7qyogot8YmKYCc/v7tqScUFh6Tkpw5rPSLAO9fdFRVpfCRcSb9fne0S4ZlFs+T3bc0DJ\n",
       "au1p+LcAAAG/QZrsSeEPJlMFPDv//qmWAArj3rlKW74QASdm0/1Xcwa639FS1qGcPi+G0CmXn1J2\n",
       "sGZTJsuB98mg/QVtNOzV4iFpf1ZgR+Rd5/17KkwqE1usBO96Wf12Bi/41qKnbg7DYspdjOAaLtDE\n",
       "oeGj9YDcj0ewOfk3mY38U+Qpg6eQpX0V/iZ0ArDZHlwAAa7upB+YFT53tytAqAbrFMTLV6hpdPlI\n",
       "qAQ4A0oEzs+XExd3XOE6YxEaKe65ErEnuMvo85NFLQzeDYjiNIVAdtrqfprLKdSFdjqmO3vMruhy\n",
       "xmfgQctAVHO7G2OVipTcl7wUPT3553zVwhb4v9ESe4d9PVEbQXKASvC1Uua7AE78KjxYcnu9ATol\n",
       "xafPmEkrmZHazTOyiucvAZo2kGBvJHKSF6StQEpqdbBCD1mmQS5IvyhNATP9S1jSopF6G3YneDe5\n",
       "k2eI5bQn01yzJ2vBAqzQ4PE3KhtDLILVobqP3EKt23rqGJ7/v6UZNGPp0Sofc5K+C6mPs/FV4YIo\n",
       "CUfjU3JfrASpNr+s7tQBRDnVzMwlKCiLvu43Y8NpREcuH1l0kXNTs+5CC9UBNXhKn5UFb6ZnVrTY\n",
       "AAAA4QGfC2pCvwARQyIbJZNiYyin7kjPRwAmeMrORAxTgmk6ySu+gmKumIuujsTASIEwstaSPS4T\n",
       "PyI4hTmBeUKcihqbvgpR1y3BADgMBTsk3sBeO+fQ0kqAyqSIemmIh2pRKzHYK4xdSYcZ6YnO3ePn\n",
       "EoFmhN0WTHUYdEo0RCEyVEpr2IJgDsYYXu/ZK1ljKz5FLOS3nQxXHsK1VsxRYaBWNsulcgSa6eBb\n",
       "OlVRXisf3TQCPmmtjIZrissnNhve4gbS/i8YGBoDnvPT3mceg8NakSb9fne0S4ZlFsTaiLopWw3S\n",
       "eAAAAbFBmw5J4Q8mUwU8N//+p4QAFZDsTUu16BULT8CDkAAIHTdSEkZuMsPRlWlJiCDIlKnsO+fY\n",
       "0Sa0ffg43vaMmxmAUwjCIkdtjaDGEeyH7pEIdZ0XmRgWFZTy15j4CtP+K26vg2u2OwtLSd9DaHYa\n",
       "CV+NE66cZ8HA1k3tbN4B+K7S0PDRpGzfCK9D9QnS2ke/mbWE41FaZ1ijHN8KcuAY/057xdpMoowT\n",
       "222JV5NKHF/LQF9fImG0RQHZn6rrBgtPeJo5BP8F2nciKg/VNtPcV6KQJZrjcMagxUU1a2KKWdMY\n",
       "fFgDX+TTiWXSEJrslmrpASOhCw9k7RUHoz3q+CBv5TkOYSutz4Oh6bN3u8Vdq+1pBGM+7h40JO/4\n",
       "FZv4o7tAwI+FazHRvd+TPq3OROTcmPzxvp+pxAJlSPVkeM64IPoTtPprllDG7KGqmggdX77HG6i6\n",
       "5tgiRzT9NLw41kl859X4nFs4GyxoAPNSHovQByozmqj9vmNWNOze3aE7mWDvRspCPiUhsSEWjn5D\n",
       "4a+XbDqWe+I2j0RYYJ0WnQKv0AWiCg1DU3+sYOrVkmNuNMmzwkrBAAAA2QGfLWpCvwARVHJabOZN\n",
       "KMGndwVo9lilgyir0xCQvrDy+aCcqvEcQ2mjWF5lLk3kgO+slUYiylKp2kAv0NtLVz6HDwucBMsm\n",
       "tTgDWmP4UCH1b9M2BG+NI2Gchq04PgMUTFX6dp/eg5HIammtWHgBNIZS6/3cQE8cgf33j9P++5dJ\n",
       "Y3SFKeTgJoKyxmNLBRzq9jWqRLgQCeqn5UauzMBVWMbEso3Qq4ktaH80NrcOjfcW8uJ0WeF1EVgK\n",
       "Y5RYXULLBbd4CKElD/Q3kgwaGEm5tAkaStMzFRYzQkEAAAGbQZswSeEPJlMFPDf//qeEABWt/fAG\n",
       "AIO5LurQe4iFEuqvQ+5wNVyIErHb7Pmlcc0lpjgcZHgHJni4w36K97mtbNltt8kc32wUmz+D3fsi\n",
       "3Ob+9Weq/xCnPFePS/Qz8VSBybHbMS0Evz2HE3IdnlCO76hymyv8eaLltA0B1QRY6kGy1ukxqxgg\n",
       "auVdtapi9ch/WjZ0zGCtsdpjR+2/D5NtrtFLOmZ6IJmiQwkOLiCwfR5cKk2Gb2iCYmbVTNkbzvly\n",
       "juXwtyTtmnFB9W5x8KNkmvGkE4VCB2jEMLKzigXiZdyfENpes4tnxbYGlABA5jmpJFhrAluBTU7t\n",
       "Q7qlXYkKAoQeukzidQy1cBFXTekHdbRBRxJwB9JnfRmiMCKw+BjY+Nx6mn01yyhjdlDVTQQOr99j\n",
       "jdRdc2Bt3uuKxxmEit7o4S8+ex+UONJlW616so+J1P1BE8hTJZo2PEQUsAsK1Rco0zLzGIlRiiFy\n",
       "WMS23aIi7Dyj2EUH4jTgiXsRckmhWj+JpRhZn6IC9EzfFcP7EAPijvR4dyufwmSBAAAA6gGfT2pC\n",
       "vwARXNx6civ+qu8voAE16SHJAVEmG5ny5q0U9iECkYKLfnNsOgB4cGZTcIYH7rwb2+O6V78OTslz\n",
       "0Qwh4NWo60PP4b3S/Kbl0kcCeivlabt5DIa068HWsyVfMaj0rV0q943LzQLqEOt+0RTYoiDjkp8V\n",
       "HGNr2IDhExrSZytuwnLCxlL6jt2bFHerbYj/2RegqPcDzJ0JEmmAhXUC8kpU3aNTedpfuChL0WlQ\n",
       "cFzam9P4JFX18hWlvSKHrZwslu0syPn4IUvLyPvJ3sV/RybILOGDEZPjlpABfKtNwcjlZ1W0qo3+\n",
       "gAAAAYZBm1JJ4Q8mUwU8N//+p4QAFa5lRjlUu7qeqAC6i4/SgMmK2II5+oko8FxefrFIdt0tfjYC\n",
       "f0+f2BHcLWaFOedwc2JOnDIDyTcYgCNTf1oEGuD/t/LbfsatQS6HpgiN52BMSnrMjVSym4rkgb/4\n",
       "GruCq5F6T9bSs20lKnchqRsmcz5wZQ5S75HDg+ta/x1n336ix2qgdwSNTMscDZT8Ue9X7UBhUsLx\n",
       "rwPAkziH3iBzvUIBGdKcb5TM/ZJPXnixLkSc2FQTRSSmX4Wd1v66+G8X30xlX7xzon+mcSaw0xRz\n",
       "aKOPJXjrVkZa1qvDBGzbgxRMIfZkiVQ7QO6loKiyt3bWmnJpTNqqGr/5fEJ7f2aam/oa/e2ZuvIt\n",
       "RL7LOr/0kySzDZPCCShf7xRPs+j0mGgEsMI6YRFbJCiFf4Ik8WzA5LFj16RpaGATt7clf1nk8YEf\n",
       "K7Zqt+SKRNXAlymOhHLpsVh3bqmTaQKmIk7zsPoCuJ/bZsENFF6dDSsd4046c9JzKt+ERcUAAACl\n",
       "AZ9xakK/ABFY/FmMLhrwAmGNpgEDpjDxMmZtrGcuL9qPLDBoYxfuuBRHekYwg3gfx+5jlU30pp+N\n",
       "iZQUK3EnBBc+CwobOBtSmf6fZEZTYNGklEdO1sK7uPEhp0qHCDjBj6EGkjzyxgEDsJnjvp8wsWo6\n",
       "VuhZDDp4zwspOoDYbxvtni0iSkIaEiDjcWjPT6Eba6jQ8M46jEjkm6fybuLQBAekLpK/AAABJUGb\n",
       "c0nhDyZTAhv//qeEABULYe5CR6pACyrUtXziQRZ2LDCDUzeBrfiXJmi442Ht7Epn0lfLw9NMqqQG\n",
       "8Ct98cvFhf9Qwwlsat4pqqhGsrBmhrSGs7VBY6qh/uKxLtJWJZpRDeFw42UeieOyOy/A8N4ktBEd\n",
       "EPus5jOM+BtMbGWYTOMOuX0fL5CvNGOmAwbFP3ys9v57MEHkWV7sPfFyntT7FzB1Jqhu5p+E8QMF\n",
       "+325r0Xnlib2wkSU4qhx/nuewgUPb++vN+LbJtnO0SsGgvopYPwlKDrqWOD+Ov88LuMPgfVEIW3q\n",
       "/uc+ZEse1qomuPe3J+TqIvvwEz9VwsufmyRyofTTBWc6lpyd5ewZTANNE5/NIePrmgVM9DNtmR4T\n",
       "ZcJ+kRkKAAABI0GblEnhDyZTAhv//qeEABT//xLXIAHBBC4N9nEwJyN7YLZFMKOSXL+9NV1Z8JbH\n",
       "CXrlwR7Rby70Rlg1f1Tv45Fw79Pz+FgilreKiNLj7yUylw6ehk9vJ8H3zgEA9MgmIw3CcBnhMJ+G\n",
       "0GhQiPsNEvvFr0bVBydYm+PXqZ/qfl+dAAkDqMHG9FEEy8eTdD+g1/DoBP8+9sk04+Yc5t7f/UJL\n",
       "TbNGPvbhwcbvjBJErxf6cl5PP6S1if/nYVrNjmLOa6PGwpVEnpe62HQVvcFvq3S6d7TRGlXihoui\n",
       "k4FFRllOMhlyQV7MW9Wj/tFBkPtxsNg+lnZBDccdaSLil527FWyGjv+G+c0ypB9D+/Urr9kiyqB2\n",
       "MJvWRJJ7Lu1/kLXV1ndhQAAAASNBm7VJ4Q8mUwIb//6nhAAU//8YCkAC5vLPruoRUOUg3dq/KByR\n",
       "NDTmLYZR+NB4Y5bw2OQlUu/GeY/pUIK9ghYUJODQQIl8r4hzNz2L0AVBI/1icV0bqj4JvWgQkmO1\n",
       "UmuLz1L2SNhT1DWTRmJkq5wZ3BKTsL7FOHCNnpKFC7P/zQe4W6C3hVolLelqN9cKnGWmp99Caa0+\n",
       "2ITU5ehaY5Gp1sN5yuyUX8MxXx9ACUor1V8q8b4DKznCis7+/1VBCyJmPRJ2xYONwHS+QNecKF5m\n",
       "glOcSTKjUfxVLL8wg4wGl9vnXKOxYoUsxlLWXWL+C/fKpffruuETApjewTu+QOV+EJPxO6yRTFqv\n",
       "drWeRKeIXkDzuMsWSoRfHXoSaEO/uIkr7WMAAAFXQZvXSeEPJlMFETw3//6nhAAU/Dy29yAkgBKc\n",
       "3D6SUTi+0s0tSb3QZGG2zOD4QPGPzBOfheE41tse+3je3uZxBVmRgt8eXqdWR1JRrzfe3nEIqiKe\n",
       "NT4C8dyWQXzHnmtvgc7Kg+90N1bgwx3a9RQI2trxbmPyU2tOnozeBiZBFq2UuV+gsu28xHZM7uC1\n",
       "4pFwSzfwtJ26Cqse49o/NrhdYpG5zOIYA8rvBCIOs8iWtSGX6oxUCABvDNCJa3huOOLx0zkzz3mH\n",
       "NdJlwBsixuiAIrO7W83cp0kg4mg5B/di1lvycw3nGbdeE1Jx0ge9NpN2R0p0lM2mKhnuWN7/n7On\n",
       "QgewtGYVHwUnnLnKqsuxJ9ni3fFw0xaO7PKiEAoWs5+gBaba5AlUbqkSNvWChZUZZjqRNH0uo/Hy\n",
       "cr1le+rClphTDZSd7LUhu72c9Ed/9x9Pb7iWy+GFlQAAAJ4Bn/ZqQr8AEOCOT+Gb8sP1AB/LInb+\n",
       "yuvF5Uguv2aPR2Mbh8FqwnXJqwN5XkWfg9slU1rNaUEDapG1PrHEDA2mrnW2FQXN+3JsjcGSaf3+\n",
       "kU9kz67Uquwps6O/WLKnzfrMDNvqkfoijvMS6dLO8+jk16dFxLNeI2Yau5ats8PXlSAhDs5f8maC\n",
       "WJML8fbtFqw4imIjXLIgwo/lszcMaQAAAP1Bm/hJ4Q8mUwIb//6nhAAVHmXYJZW/xMAAnPH9liek\n",
       "aAgL08Hcw4Ndsgv9Z3ooiHI0m1/SgG9EBPcc/+l+fR/7+sm682ZNsNzI6lUVUTwI470/WRFxH24f\n",
       "oE+oMySEjhw513mGQMtwZW4zj0QE6BfRScBorFonzSh4HwXzcZTybVD6BPHaZ627Bpu7rHdkovKK\n",
       "nJADb+Kn4oefDGXxBNYv41buq9K3nE2BTD8X2Oy2l4Dd6HwNqKp0gm4dJgr01gAAAwApIb2/s2Ov\n",
       "icHBG+HH1yp8N2Sm5T1EAKD1syI5MF/cXQ1/PtRBmAL6FEr5Gn/97qdlDZ9w4cYPR0ppAAABC0Ga\n",
       "GknhDyZTBRE8M//+nhAAT2tpjk4AF1EbqevjxU/vdjYPg33Iw1oWV9p4tD9iplG+RtkiGR8W8Qza\n",
       "5D5wjvd8MV0/TcQm3B3caN5QH1VHscMdK5h8WY8j3pNoIIOB23JQPX+iWcUSSdDJdeJSuTv/lRlS\n",
       "HGj+tnXJgWBbzhbNC1lGgQQSff0iUBJLBxAg4x7x3eLEA4d5+rjecg3RmYhfoPrZQfLc5STbXXvx\n",
       "pZJ3Y+wJbG9MZsVyTbz7e+nKO9stx7s4ifUVbn0sKlHPvuBClsKP79XIGni3ilSRpYZam4x0NbIU\n",
       "/HoburiVQPpre2ytpKw3H7+SZ8jaCoi5FSpIL/Z7xYklpOKxZQAAAI4BnjlqQr8AEE2/QzRUGgAP\n",
       "4JrvusFTeTHSrJo9QZnjg9IlpGq014BFxl3Ujyv0FDf1uEfsd569lXy2KbkzDi01tNikMQgnzPfT\n",
       "llOR3h4DUhxspNCiEGIs3mgAxaHLCtbhWYgBGMzjr2tpcSgKTUb2uE24i7oTRcE7AS3NyB3rk58K\n",
       "WORbTNQH7M6E7FrBAAAA40GaO0nhDyZTAhn//p4QAE/Xsl1hYsADhpKlFn5imwe/RMvzv/eYLAC3\n",
       "Bos7qj3JL6AQJnIhcuyn+hbV6sFwmqLCWd4KIlgLCgfc8f2uoO/kOfHDvYbxwR5W7aqy++riDhk8\n",
       "J2U+Pg0U7zia4WLBFXJyzsIEVVWUjFqOr70/HB95rxdeb3C6JljHOkg2PiZHFPb3eYfWtPI1H9Ty\n",
       "k7/XUHv12X3WSowH1+wX5RvuJed2vi/XM5DyaHANG28tVbWKvteLvhXKvWRMPt0Yan+aCusbG8xW\n",
       "Apxu129dHHx3YjtUFJcnAAAA0EGaXEnhDyZTAhn//p4QAE97t8XyAAXReJKKaOajyLB8fFJ+9p6V\n",
       "ZUqr7HrrtfEis9wlPjkmPffotQd+8RhWugHKNNAK3HsEAyj0gI5tZ+L5r4XY6/ROZ9M5lXiMXDDu\n",
       "qmpAjifEAAADAAHIE/mIJBpGzfzxklMvGaXDRapWkzoEnOweiQu+1WpnIAayaHNFUEY5HAJGZe3u\n",
       "als8BjBk1+nVK81MLCAH2/Jf2uhcw2tIWZTOiBCvZrBVSyMDYkL85Fk5fTjNcDyXvdoZJ9+oxM0A\n",
       "AACmQZp9SeEPJlMCFf/+OEABNPFPe6SElkE9DOtKeKpYSgBMF4zNQrugbU8tnPsBE59CO3vq3dCO\n",
       "tbr83zXTXgo72za8035G7W+XwujD9w3HoSnkKgqGsy0EMEeH1966Ik565GAIAAzec0UM1NaIzGco\n",
       "UiQab0XNCMDmmmpvuumuYmLEnjCBwo71bbEgNsM5+QZzJIKVwaSy89hEv7RiED4MihUnosqZkQAA\n",
       "BHZtb292AAAAbG12aGQAAAAAAAAAAAAAAAAAAAPoAAAF3AABAAABAAAAAAAAAAAAAAAAAQAAAAAA\n",
       "AAAAAAAAAAAAAAEAAAAAAAAAAAAAAAAAAEAAAAAAAAAAAAAAAAAAAAAAAAAAAAAAAAAAAAAAAAAC\n",
       "AAADoHRyYWsAAABcdGtoZAAAAAMAAAAAAAAAAAAAAAEAAAAAAAAF3AAAAAAAAAAAAAAAAAAAAAAA\n",
       "AQAAAAAAAAAAAAAAAAAAAAEAAAAAAAAAAAAAAAAAAEAAAAABsAAAASAAAAAAACRlZHRzAAAAHGVs\n",
       "c3QAAAAAAAAAAQAABdwAAAQAAAEAAAAAAxhtZGlhAAAAIG1kaGQAAAAAAAAAAAAAAAAAACgAAAA8\n",
       "AFXEAAAAAAAtaGRscgAAAAAAAAAAdmlkZQAAAAAAAAAAAAAAAFZpZGVvSGFuZGxlcgAAAALDbWlu\n",
       "ZgAAABR2bWhkAAAAAQAAAAAAAAAAAAAAJGRpbmYAAAAcZHJlZgAAAAAAAAABAAAADHVybCAAAAAB\n",
       "AAACg3N0YmwAAACzc3RzZAAAAAAAAAABAAAAo2F2YzEAAAAAAAAAAQAAAAAAAAAAAAAAAAAAAAAB\n",
       "sAEgAEgAAABIAAAAAAAAAAEAAAAAAAAAAAAAAAAAAAAAAAAAAAAAAAAAAAAAAAAAAAAY//8AAAAx\n",
       "YXZjQwFkABX/4QAYZ2QAFazZQbCWhAAAAwAEAAADAKA8WLZYAQAGaOvjyyLAAAAAHHV1aWRraEDy\n",
       "XyRPxbo5pRvPAyPzAAAAAAAAABhzdHRzAAAAAAAAAAEAAAAeAAACAAAAABRzdHNzAAAAAAAAAAEA\n",
       "AAABAAAA4GN0dHMAAAAAAAAAGgAAAAEAAAQAAAAAAQAABgAAAAABAAACAAAAAAEAAAYAAAAAAQAA\n",
       "AgAAAAABAAAEAAAAAAEAAAYAAAAAAQAAAgAAAAABAAAEAAAAAAEAAAYAAAAAAQAAAgAAAAABAAAG\n",
       "AAAAAAEAAAIAAAAAAQAABgAAAAABAAACAAAAAAEAAAYAAAAAAQAAAgAAAAABAAAGAAAAAAEAAAIA\n",
       "AAAAAwAABAAAAAABAAAGAAAAAAEAAAIAAAAAAQAABAAAAAABAAAGAAAAAAEAAAIAAAAAAwAABAAA\n",
       "AAAcc3RzYwAAAAAAAAABAAAAAQAAAB4AAAABAAAAjHN0c3oAAAAAAAAAAAAAAB4AABpBAAADJAAA\n",
       "AQ4AAAINAAAA+wAAAbgAAAHwAAAA5AAAAbQAAAHzAAAA6wAAAcMAAADlAAABtQAAAN0AAAGfAAAA\n",
       "7gAAAYoAAACpAAABKQAAAScAAAEnAAABWwAAAKIAAAEBAAABDwAAAJIAAADnAAAA1AAAAKoAAAAU\n",
       "c3RjbwAAAAAAAAABAAAALAAAAGJ1ZHRhAAAAWm1ldGEAAAAAAAAAIWhkbHIAAAAAAAAAAG1kaXJh\n",
       "cHBsAAAAAAAAAAAAAAAALWlsc3QAAAAlqXRvbwAAAB1kYXRhAAAAAQAAAABMYXZmNTcuNDEuMTAw\n",
       "\">\n",
       "  Your browser does not support the video tag.\n",
       "</video>"
      ],
      "text/plain": [
       "<IPython.core.display.HTML object>"
      ]
     },
     "execution_count": 34,
     "metadata": {},
     "output_type": "execute_result"
    }
   ],
   "source": [
    "HTML(anim.to_html5_video())"
   ]
  },
  {
   "cell_type": "markdown",
   "metadata": {},
   "source": [
    "That definitely looks different!  Do you think this is more or less accurate than our previous model?"
   ]
  },
  {
   "cell_type": "markdown",
   "metadata": {},
   "source": [
    "##### Dig Deeper"
   ]
  },
  {
   "cell_type": "markdown",
   "metadata": {},
   "source": [
    "The new traffic-flux model that we developed here changes the way that traffic patterns evolve. In this lesson, we only experimented with the most basic scheme: forward-time, backward-space.  Try to implement the green-light problem using one of the second-order schemes from [Lesson 2](http://nbviewer.ipython.org/github/numerical-mooc/numerical-mooc/blob/master/lessons/03_wave/03_02_convectionSchemes.ipynb)."
   ]
  },
  {
   "cell_type": "markdown",
   "metadata": {},
   "source": [
    "## References"
   ]
  },
  {
   "cell_type": "markdown",
   "metadata": {},
   "source": [
    "* Neville D. Fowkes and John J. Mahony, *\"An Introduction to Mathematical Modelling,\"* Wiley & Sons, 1994. Chapter 14: Traffic Flow."
   ]
  },
  {
   "cell_type": "markdown",
   "metadata": {},
   "source": [
    "---\n",
    "\n",
    "###### The cell below loads the style of the notebook."
   ]
  },
  {
   "cell_type": "code",
   "execution_count": 35,
   "metadata": {
    "collapsed": false
   },
   "outputs": [
    {
     "data": {
      "text/html": [
       "<link href='http://fonts.googleapis.com/css?family=Alegreya+Sans:100,300,400,500,700,800,900,100italic,300italic,400italic,500italic,700italic,800italic,900italic' rel='stylesheet' type='text/css'>\n",
       "<link href='http://fonts.googleapis.com/css?family=Arvo:400,700,400italic' rel='stylesheet' type='text/css'>\n",
       "<link href='http://fonts.googleapis.com/css?family=PT+Mono' rel='stylesheet' type='text/css'>\n",
       "<link href='http://fonts.googleapis.com/css?family=Shadows+Into+Light' rel='stylesheet' type='text/css'>\n",
       "<link href='http://fonts.googleapis.com/css?family=Nixie+One' rel='stylesheet' type='text/css'>\n",
       "<link href='https://fonts.googleapis.com/css?family=Source+Code+Pro' rel='stylesheet' type='text/css'>\n",
       "<style>\n",
       "\n",
       "@font-face {\n",
       "    font-family: \"Computer Modern\";\n",
       "    src: url('http://mirrors.ctan.org/fonts/cm-unicode/fonts/otf/cmunss.otf');\n",
       "}\n",
       "\n",
       "#notebook_panel { /* main background */\n",
       "    background: rgb(245,245,245);\n",
       "}\n",
       "\n",
       "div.cell { /* set cell width */\n",
       "    width: 750px;\n",
       "}\n",
       "\n",
       "div #notebook { /* centre the content */\n",
       "    background: #fff; /* white background for content */\n",
       "    width: 1000px;\n",
       "    margin: auto;\n",
       "    padding-left: 0em;\n",
       "}\n",
       "\n",
       "#notebook li { /* More space between bullet points */\n",
       "    margin-top:0.8em;\n",
       "}\n",
       "\n",
       "/* draw border around running cells */\n",
       "div.cell.border-box-sizing.code_cell.running { \n",
       "    border: 1px solid #111;\n",
       "}\n",
       "\n",
       "/* Put a solid color box around each cell and its output, visually linking them*/\n",
       "div.cell.code_cell {\n",
       "    background-color: rgb(256,256,256); \n",
       "    border-radius: 0px; \n",
       "    padding: 0.5em;\n",
       "    margin-left:1em;\n",
       "    margin-top: 1em;\n",
       "}\n",
       "\n",
       "div.text_cell_render{\n",
       "    font-family: 'Alegreya Sans' sans-serif;\n",
       "    line-height: 140%;\n",
       "    font-size: 125%;\n",
       "    font-weight: 400;\n",
       "    width:600px;\n",
       "    margin-left:auto;\n",
       "    margin-right:auto;\n",
       "}\n",
       "\n",
       "\n",
       "/* Formatting for header cells */\n",
       ".text_cell_render h1 {\n",
       "    font-family: 'Nixie One', serif;\n",
       "    font-style:regular;\n",
       "    font-weight: 400;    \n",
       "    font-size: 45pt;\n",
       "    line-height: 100%;\n",
       "    color: rgb(0,51,102);\n",
       "    margin-bottom: 0.5em;\n",
       "    margin-top: 0.5em;\n",
       "    display: block;\n",
       "}\n",
       "\n",
       ".text_cell_render h2 {\n",
       "    font-family: 'Nixie One', serif;\n",
       "    font-weight: 400;\n",
       "    font-size: 30pt;\n",
       "    line-height: 100%;\n",
       "    color: rgb(0,51,102);\n",
       "    margin-bottom: 0.1em;\n",
       "    margin-top: 0.3em;\n",
       "    display: block;\n",
       "}\t\n",
       "\n",
       ".text_cell_render h3 {\n",
       "    font-family: 'Nixie One', serif;\n",
       "    margin-top:16px;\n",
       "    font-size: 22pt;\n",
       "    font-weight: 600;\n",
       "    margin-bottom: 3px;\n",
       "    font-style: regular;\n",
       "    color: rgb(102,102,0);\n",
       "}\n",
       "\n",
       ".text_cell_render h4 {    /*Use this for captions*/\n",
       "    font-family: 'Nixie One', serif;\n",
       "    font-size: 14pt;\n",
       "    text-align: center;\n",
       "    margin-top: 0em;\n",
       "    margin-bottom: 2em;\n",
       "    font-style: regular;\n",
       "}\n",
       "\n",
       ".text_cell_render h5 {  /*Use this for small titles*/\n",
       "    font-family: 'Nixie One', sans-serif;\n",
       "    font-weight: 400;\n",
       "    font-size: 16pt;\n",
       "    color: rgb(163,0,0);\n",
       "    font-style: italic;\n",
       "    margin-bottom: .1em;\n",
       "    margin-top: 0.8em;\n",
       "    display: block;\n",
       "}\n",
       "\n",
       ".text_cell_render h6 { /*use this for copyright note*/\n",
       "    font-family: 'PT Mono', sans-serif;\n",
       "    font-weight: 300;\n",
       "    font-size: 9pt;\n",
       "    line-height: 100%;\n",
       "    color: grey;\n",
       "    margin-bottom: 1px;\n",
       "    margin-top: 1px;\n",
       "}\n",
       "\n",
       ".CodeMirror{\n",
       "    font-family: \"Source Code Pro\";\n",
       "    font-size: 90%;\n",
       "}\n",
       "\n",
       ".alert-box {\n",
       "    padding:10px 10px 10px 36px;\n",
       "    margin:5px;\n",
       "}\n",
       "\n",
       ".success {\n",
       "    color:#666600;\n",
       "    background:rgb(240,242,229);\n",
       "}\n",
       "</style>\n",
       "<script>\n",
       "    MathJax.Hub.Config({\n",
       "                        TeX: {\n",
       "                           extensions: [\"AMSmath.js\"],\n",
       "                           equationNumbers: { autoNumber: \"AMS\", useLabelIds: true}\n",
       "                           },\n",
       "                tex2jax: {\n",
       "                    inlineMath: [ ['$','$'], [\"\\\\(\",\"\\\\)\"] ],\n",
       "                    displayMath: [ ['$$','$$'], [\"\\\\[\",\"\\\\]\"] ]\n",
       "                },\n",
       "                displayAlign: 'center', // Change this to 'center' to center equations.\n",
       "                \"HTML-CSS\": {\n",
       "                    styles: {'.MathJax_Display': {\"margin\": 4}}\n",
       "                }\n",
       "        });\n",
       "</script>\n"
      ],
      "text/plain": [
       "<IPython.core.display.HTML object>"
      ]
     },
     "execution_count": 35,
     "metadata": {},
     "output_type": "execute_result"
    }
   ],
   "source": [
    "from IPython.core.display import HTML\n",
    "css_file = '../../styles/numericalmoocstyle.css'\n",
    "HTML(open(css_file, \"r\").read())"
   ]
  }
 ],
 "metadata": {
  "kernelspec": {
   "display_name": "Python 3",
   "language": "python",
   "name": "python3"
  },
  "language_info": {
   "codemirror_mode": {
    "name": "ipython",
    "version": 3
   },
   "file_extension": ".py",
   "mimetype": "text/x-python",
   "name": "python",
   "nbconvert_exporter": "python",
   "pygments_lexer": "ipython3",
   "version": "3.5.2"
  }
 },
 "nbformat": 4,
 "nbformat_minor": 0
}
