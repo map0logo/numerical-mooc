{
 "cells": [
  {
   "cell_type": "markdown",
   "metadata": {},
   "source": [
    "###### Content under Creative Commons Attribution license CC-BY 4.0, code under MIT license (c)2014 L.A. Barba, G.F. Forsyth, I. Hawke. Partly based on [HyperPython](http://nbviewer.ipython.org/github/ketch/HyperPython/tree/master/) by D.I. Ketcheson, also under CC-BY."
   ]
  },
  {
   "cell_type": "markdown",
   "metadata": {},
   "source": [
    "# Riding the wave"
   ]
  },
  {
   "cell_type": "markdown",
   "metadata": {},
   "source": [
    "This is the fourth and final lesson of Module 3, _Riding the wave: convection problems_, of the course **\"Practical Numerical Methods with Python\"** (a.k.a., [#numericalmooc](https://twitter.com/hashtag/numericalmooc)). We learned about conservation laws and the traffic-flow model in the [first lesson](http://nbviewer.ipython.org/github/numerical-mooc/numerical-mooc/blob/master/lessons/03_wave/03_01_conservationLaw.ipynb), and then about better numerical schemes for convection in [lesson 2](http://nbviewer.ipython.org/github/numerical-mooc/numerical-mooc/blob/master/lessons/03_wave/03_02_convectionSchemes.ipynb). \n",
    "\n",
    "By then, you should have started to recognize that both mathematical models and numerical schemes work together to give us a good solution to a problem. To drive the point home, [lesson 3](http://nbviewer.ipython.org/github/numerical-mooc/numerical-mooc/blob/master/lessons/03_wave/03_03_aBetterModel.ipynb) deals only with an improved model—and showed you some impressive SymPy tricks!\n",
    "\n",
    "In this lesson, we'll learn about a new class of discretization schemes, known as finite-volume methods. They are the _most widely used_ methods in computational fluid dynamics, and for good reasons! Let's get started ..."
   ]
  },
  {
   "cell_type": "markdown",
   "metadata": {},
   "source": [
    "## Finite-volume method"
   ]
  },
  {
   "cell_type": "markdown",
   "metadata": {},
   "source": [
    "Are you curious to find out why the finite-volume method (FVM) is the _most popular method_ in computational fluid dynamics? In fact, almost all of the commercial CFD software packages are based on the finite-volume discretization. Here are some reasons:\n",
    "\n",
    "* FVM discretizations are very general and have no requirement that the grid be structured, like in the finite-difference method. This makes FVM very _flexible_.\n",
    "\n",
    "* FVM gives a _conservative discretization_ automatically by using directly the conservation laws in integral form."
   ]
  },
  {
   "cell_type": "markdown",
   "metadata": {},
   "source": [
    "### Conservative discretization"
   ]
  },
  {
   "cell_type": "markdown",
   "metadata": {},
   "source": [
    "Let's go right back to the start of this module, where we explained conservation laws looking at a tiny control volume. To simplify the discussion, we just looked at flow in one dimension, with velocity $u$. Imagining a tiny cylindrical volume, like the one shown in Figure 1, there is flux on the left face and right face and we easily explained conservation of mass in that case."
   ]
  },
  {
   "cell_type": "markdown",
   "metadata": {},
   "source": [
    "![1Dcontrolvolume](./figures/1Dcontrolvolume.png)\n",
    "#### Figure 1. Tiny control volume in the shape of a cylinder."
   ]
  },
  {
   "cell_type": "markdown",
   "metadata": {},
   "source": [
    "The law of conservation of mass says that the rate of change of mass in the control volume, plus the net rate of flow of mass across the control surfaces must be zero. The same idea works for other conserved quantities.\n",
    "\n",
    "Conservation means that any change in the quantity within a volume is due to the amount of that quantity that crosses the boundary. Sounds simple enough. (Remember that we are ignoring possible internal sources of the quantity.) The amount crossing the boundary is the flux. A general conservation law for a quantity $e$ is thus:\n",
    "\n",
    "\\begin{equation}\n",
    "\\frac{\\partial}{\\partial t}\\int_{\\text{cv}}e \\, dV + \\oint_{\\text{cs}}\\vec{F}\\cdot d\\vec{A} =0\n",
    "\\end{equation}\n",
    "\n",
    "where $\\vec{F}$ is the flux, and $\\text{cv}$ denotes the control volume with control surface $\\text{cs}$."
   ]
  },
  {
   "cell_type": "markdown",
   "metadata": {},
   "source": [
    "**Why not make the control volume itself our computational cell?**\n",
    "\n",
    "Imagine that the one-dimensional domain of interest is divided using grid points $x_i$. But instead of trying to compute local values at the grid points, like we did before, we now want to follow the time evolution of _average_ values within each one-dimensional cell of width $\\Delta x$ with center at $x_i$ (the idea is that as long as the cells are small enough, the average values will be a good representation of the quantities we are interested in). \n",
    "\n",
    "Define $e_i$ as the integral average across the little control volume on the cell with center at $x_i$ (see Figure 2).\n",
    "\n",
    "$$\n",
    "\\begin{equation}\n",
    "  e_i = \\frac{1}{\\Delta x} \\int_{x_i - \\Delta x / 2}^{x_i + \\Delta x / 2} e(x, t) \\, dx.\n",
    "\\end{equation}\n",
    "$$\n",
    "\n",
    "If we know the flux terms at the boundaries of the control volume, which are at $x_{i-1/2}$ and $x_{i+1/2}$, the general conservation law for this small control volume gives:\n",
    "\n",
    "$$\n",
    "\\begin{equation}\n",
    "  \\frac{\\partial}{\\partial t} e_i + \\frac{1}{\\Delta x} \\left[ F \\left( x_{i+1/2}, t \\right) - F \\left( x_{i - 1 / 2}, t \\right) \\right] = 0.\n",
    "\\end{equation}\n",
    "$$ \n",
    "\n",
    "This now just requires a time-stepping scheme, and is easy to solve *if* we can find $F$ on the control surfaces."
   ]
  },
  {
   "cell_type": "markdown",
   "metadata": {},
   "source": [
    "![finite volume](./figures/finite_volume.png)\n",
    "\n",
    "#### Figure 2. Discretizing a 1D domain into finite volumes."
   ]
  },
  {
   "cell_type": "markdown",
   "metadata": {},
   "source": [
    "We've seen with the traffic model that the flux can depend on the conserved quantity (in that case, the traffic density). That is generally the case, so we write that $F = F(e)$. We will need to compute, or approximate, the flux terms at the cell edges (control surfaces) from the integral averages, $e_i$.\n",
    "\n",
    "If we had a simple convection equation with $c>0$, then the flux going into the cell centered at $x_i$ from the left would be $F(e_{i-1})$ and the flux going out the cell on the right side would be $F(e_{i})$ (see Figure 2). Applying these fluxes in Equation (3) results in a scheme that is equivalent to our tried-and-tested backward-space (upwind) scheme! \n",
    "\n",
    "We know from previous lessons that the backward-space scheme is first order and the error introduces numerical diffusion. Also, remember what happened when we tried to use it with the non-linear [traffic model](http://nbviewer.ipython.org/github/numerical-mooc/numerical-mooc/blob/master/lessons/03_wave/03_01_conservationLaw.ipynb) in the green-light problem? *It blew up!* That was because the problem contains both right-moving and left-moving waves (if you don't remember that discussion, go back and review it; it's important!).\n",
    "\n",
    "To skirt this difficulty in the green-light problem, we chose initial conditions that don't produce negative wave speeds. But that's cheating! A genuine solution would be to have a scheme that can deal with both positive and negative wave speeds. Here is where Godunov comes in."
   ]
  },
  {
   "cell_type": "markdown",
   "metadata": {},
   "source": [
    "### Godunov's method"
   ]
  },
  {
   "cell_type": "markdown",
   "metadata": {},
   "source": [
    "Godunov proposed a first-order method in 1959 that uses the integral form of the conservation laws, Equation (1), and a piecewise constant representation of the solution, as shown in Figure (2). Notice that representing the solution in this way is like having a myriad of little shocks at the cell boundaries (control surfaces).\n",
    "\n",
    "For each control surface, we have *two values* for the solution $e$ at a given time: the constant value to the left, $e_L$, and the constant value to the right, $e_R$. A situation where you have a conservation law with a constant initial condition, except for a single jump discontinuity is called a **Riemann problem**. \n",
    "\n",
    "The Riemann problem has an exact solution for the Euler equations (as well as for any scalar conservation law). The [shock-tube problem](http://nbviewer.ipython.org/github/numerical-mooc/numerical-mooc/blob/master/lessons/03_wave/03_05_Sods_Shock_Tube.ipynb), subject of your assignment for this course module, is a Riemann problem! And because it has an analytical solution, we can use it for testing the accuracy of numerical methods. \n",
    "\n",
    "But Godunov had a better idea. With the solution represented as piecewise constant (Figure 2), why not use the analytical solution of the Riemann problem at each cell boundary? Solving a Riemann problem gives all the information about the characteristic structure of the solution, including the sign of the wave speed. The full solution can then be reconstructed from the union of all the Riemann solutions at cell boundaries. *Neat idea, Godunov!*\n",
    "\n",
    "Figure 3 illustrates a Riemann problem for the Euler equations, associated to the shock tube. The space-time plot shows the characteristic lines for the left-traveling expansion wave, and the right-traveling contact discontinuity and shock."
   ]
  },
  {
   "cell_type": "markdown",
   "metadata": {},
   "source": [
    "![Riemann-shocktube](./figures/Riemann-shocktube.png)\n",
    "\n",
    "#### Figure 3. The shock tube: a Riemann problem for Euler's equations. Physical space (top) and $x, t$ space (bottom)."
   ]
  },
  {
   "cell_type": "markdown",
   "metadata": {},
   "source": [
    "We need to solve many Riemann problems from $t$ to $\\Delta t$, one on each cell boundary (illustrated in Figure 4). The numerical flux on $x_{i+1/2}$ is \n",
    "\n",
    "\\begin{equation}\n",
    "  F_{i+1/2}= \\frac{1}{\\Delta t} \\int_{t^n}^{t^{n+1}} F\\left(e(x_{i+1/2},t) \\right)\\,dt\n",
    "\\end{equation}\n",
    "\n",
    "To be able to solve each Riemann problem independently, they should not interact, which imposes a limit on $\\Delta t$. Looking at Figure 4, you might conclude that we must require a CFL number of 1/2 to avoid interactions between the Riemann solutions, but the numerical flux above only depends on the state at $x_{i+1/2}$, so we're fine as long as the solution there is not affected by that at $x_{i-1/2}$—i.e., the CFL limit is really 1."
   ]
  },
  {
   "cell_type": "markdown",
   "metadata": {},
   "source": [
    "![many_Rieman_problems](./figures/many_Rieman_problems.png)\n",
    "\n",
    "#### Figure 4. Riemann problems on each cell boundary."
   ]
  },
  {
   "cell_type": "markdown",
   "metadata": {},
   "source": [
    "The Riemann solution, even though known analytically, can get quite hairy for non-linear systems of conservation laws (like the Euler equations). And we need as many Riemann solutions as there are finite-volume cell boundaries, and again at each time step! This gets really cumbersome. \n",
    "\n",
    "Godunov solved the Riemann problems exactly, but many after him proposed *approximate* Riemann solutions instead. We'll be calculating the full solution numerically, after all, so some controlled approximations can be made. You might imagine a simple approximation for the flux at a cell boundary that is just the average between the left and right values, for example: $\\frac{1}{2}\\left[F(e_L)+F(e_R)\\right]$. But that leads to a central scheme and, on its own, is unstable. Adding a term proportional to the difference between left and right states, $e_R-e_L$, supplies artificial dissipation and gives stability (see van Leer et al., 1987).\n",
    "\n",
    "One formula for the numerical flux at $x_{i+1/2}$ called the Rusanov flux, a.k.a. Lax-Friedrichs flux, is given by\n",
    "\n",
    "\\begin{equation}\n",
    "  F_{i+1/2}= \\frac{1}{2} \\left[ F \\left( e_L \\right) + F \\left( e_R \\right)  \\right] -  \\frac{1}{2}  \\max \\left|F'(e)\\right| \\left( e_R - e_L \\right)\n",
    "\\end{equation}\n",
    "\n",
    "where $F'(e)$ is the Jacobian of the flux function and $\\max\\left|F'(e)\\right|$ is the local propagation speed of the fastest traveling wave. The Riemann solutions at each cell boundary do not interact if $\\max|F'(e)|\\leq\\frac{\\Delta x}{\\Delta t}$, which leads to a flux formula we can now use:\n",
    "\n",
    "\\begin{equation}\n",
    "  F_{i+1/2}= \\frac{1}{2} \\left( F \\left( e_{i} \\right) + F \\left( e_{i+1} \\right) -  \\frac{\\Delta x}{\\Delta t} \\left( e_{i+1} - e_{i} \\right) \\right)\n",
    "\\end{equation}"
   ]
  },
  {
   "cell_type": "markdown",
   "metadata": {},
   "source": [
    "### Let's try it!"
   ]
  },
  {
   "cell_type": "markdown",
   "metadata": {},
   "source": [
    "Let's apply Godunov's method to the [LWR traffic model](http://nbviewer.ipython.org/github/numerical-mooc/numerical-mooc/blob/master/lessons/03_wave/03_01_conservationLaw.ipynb). In [lesson 2](http://nbviewer.ipython.org/github/numerical-mooc/numerical-mooc/blob/master/lessons/03_wave/03_02_convectionSchemes.ipynb) we already wrote functions to set the initial conditions for a red-light problem and to compute the fluxes.  To save us from  writing this out again, we saved those functions into a Python file named `traffic.py` (found in the same directory of the course repository).  Now, we can use those functions by importing them in the same way that we import NumPy or any other library. Like this:"
   ]
  },
  {
   "cell_type": "code",
   "execution_count": 1,
   "metadata": {
    "collapsed": false
   },
   "outputs": [],
   "source": [
    "from traffic import rho_red_light, computeF"
   ]
  },
  {
   "cell_type": "markdown",
   "metadata": {},
   "source": [
    "\n",
    "You've probably noticed that we have the habit of writing detailed explanations of what a function does after defining it, in comments.  These comments are called *docstrings* and it is good practice to include them in all your functions.  It can be very useful when loading a function that you aren't familiar with (or don't remember!), because the `help` command will print them out for you.  Check it out:"
   ]
  },
  {
   "cell_type": "code",
   "execution_count": 2,
   "metadata": {
    "collapsed": false
   },
   "outputs": [
    {
     "name": "stdout",
     "output_type": "stream",
     "text": [
      "Help on function rho_red_light in module traffic:\n",
      "\n",
      "rho_red_light(nx, rho_max, rho_in)\n",
      "    Computes \"red light\" initial condition with shock\n",
      "    \n",
      "    Parameters\n",
      "    ----------\n",
      "    nx        : int\n",
      "        Number of grid points in x\n",
      "    rho_max   : float\n",
      "        Maximum allowed car density\n",
      "    rho_in    : float\n",
      "        Density of incoming cars\n",
      "    \n",
      "    Returns\n",
      "    -------\n",
      "    rho: array of floats\n",
      "        Array with initial values of density\n",
      "\n"
     ]
    }
   ],
   "source": [
    "help(rho_red_light)"
   ]
  },
  {
   "cell_type": "markdown",
   "metadata": {},
   "source": [
    "Now, we can write some code to set up our notebook environment, and set the calculation parameters, with the functions imported above readily available."
   ]
  },
  {
   "cell_type": "code",
   "execution_count": 3,
   "metadata": {
    "collapsed": false
   },
   "outputs": [],
   "source": [
    "%matplotlib inline\n",
    "import numpy \n",
    "from matplotlib import pyplot\n",
    "from matplotlib import rcParams\n",
    "rcParams['font.family'] = 'serif'\n",
    "rcParams['font.size'] = 16\n",
    "from matplotlib import animation\n",
    "from IPython.display import HTML"
   ]
  },
  {
   "cell_type": "code",
   "execution_count": 4,
   "metadata": {
    "collapsed": false
   },
   "outputs": [],
   "source": [
    "#Basic initial condition parameters\n",
    "#defining grid size, time steps, CFL condition, etc...\n",
    "nx = 101\n",
    "nt = 30\n",
    "dx = 4.0/(nx-2)\n",
    "\n",
    "rho_in = 5.\n",
    "rho_max = 10.\n",
    "\n",
    "V_max = 1.\n",
    "\n",
    "x = numpy.linspace(0,4,nx-1)\n",
    "\n",
    "\n",
    "rho = rho_red_light(nx-1, rho_max, rho_in)"
   ]
  },
  {
   "cell_type": "code",
   "execution_count": 5,
   "metadata": {
    "collapsed": false
   },
   "outputs": [],
   "source": [
    "def animate(data):\n",
    "    x = numpy.linspace(0,4,nx-1)\n",
    "    y = data\n",
    "    line.set_data(x,y)\n",
    "    return line,"
   ]
  },
  {
   "cell_type": "markdown",
   "metadata": {},
   "source": [
    "The cells above are code that you are already familiar with from lesson 2.  Below is a new function for applying Godunov's method with Lax-Friedrichs fluxes. Study it carefully."
   ]
  },
  {
   "cell_type": "code",
   "execution_count": 6,
   "metadata": {
    "collapsed": false
   },
   "outputs": [],
   "source": [
    "def godunov(rho, nt, dt, dx, rho_max, V_max):\n",
    "    \"\"\" Computes the solution with the Godunov scheme using the Lax-Friedrichs flux.\n",
    "    \n",
    "    Parameters\n",
    "    ----------\n",
    "    rho    : array of floats\n",
    "            Density at current time-step\n",
    "    nt     : int\n",
    "            Number of time steps\n",
    "    dt     : float\n",
    "            Time-step size\n",
    "    dx     : float\n",
    "            Mesh spacing\n",
    "    rho_max: float\n",
    "            Maximum allowed car density\n",
    "    V_max  : float\n",
    "            Speed limit\n",
    "    \n",
    "    Returns\n",
    "    -------\n",
    "    rho_n : array of floats\n",
    "            Density after nt time steps at every point x\n",
    "    \"\"\"\n",
    "    \n",
    "    #initialize our results array with dimensions nt by nx\n",
    "    rho_n = numpy.zeros((nt,len(rho)))      \n",
    "    #copy the initial u array into each row of our new array\n",
    "    rho_n[:,:] = rho.copy()              \n",
    "    \n",
    "    #setup some temporary arrays\n",
    "    rho_plus = numpy.zeros_like(rho)\n",
    "    rho_minus = numpy.zeros_like(rho)\n",
    "    flux = numpy.zeros_like(rho)\n",
    "  \n",
    "    for t in range(1,nt):\n",
    "        \n",
    "        rho_plus[:-1] = rho[1:] # Can't do i+1/2 indices, so cell boundary\n",
    "        rho_minus = rho.copy() # arrays at index i are at location i+1/2\n",
    "        flux = 0.5 * (computeF(V_max, rho_max, rho_minus) + \n",
    "                      computeF(V_max, rho_max, rho_plus) + \n",
    "                      dx / dt * (rho_minus - rho_plus))\n",
    "        rho_n[t,1:-1] = rho[1:-1] + dt/dx*(flux[:-2]-flux[1:-1])\n",
    "        rho_n[t,0] = rho[0]\n",
    "        rho_n[t,-1] = rho[-1]\n",
    "        rho = rho_n[t].copy()\n",
    "        \n",
    "    return rho_n"
   ]
  },
  {
   "cell_type": "markdown",
   "metadata": {},
   "source": [
    "We can run using a CFL of $1$, to start with, but you should experiment with different values."
   ]
  },
  {
   "cell_type": "code",
   "execution_count": 7,
   "metadata": {
    "collapsed": false
   },
   "outputs": [],
   "source": [
    "sigma = 1.0\n",
    "dt = sigma*dx/V_max\n",
    "\n",
    "rho = rho_red_light(nx-1, rho_max, rho_in)      #make sure that u is set to our expected initial conditions\n",
    "rho_n = godunov(rho, nt, dt, dx, rho_max, V_max)"
   ]
  },
  {
   "cell_type": "code",
   "execution_count": 8,
   "metadata": {
    "collapsed": false
   },
   "outputs": [
    {
     "data": {
      "image/png": "[encoded data removed]",
      "text/plain": [
       "<matplotlib.figure.Figure at 0x7f3c586c6a90>"
      ]
     },
     "metadata": {},
     "output_type": "display_data"
    }
   ],
   "source": [
    "fig = pyplot.figure();\n",
    "ax = pyplot.axes(xlim=(0,4),ylim=(4.5,11),xlabel=('Distance'),ylabel=('Traffic density'));\n",
    "line, = ax.plot([],[],color='#003366', lw=2);"
   ]
  },
  {
   "cell_type": "code",
   "execution_count": 9,
   "metadata": {
    "collapsed": false
   },
   "outputs": [
    {
     "data": {
      "text/html": [
       "<video width=\"432.0\" height=\"288.0\" controls autoplay loop>\n",
       "  <source type=\"video/mp4\" src=\"data:video/mp4;base64,AAAAHGZ0eXBNNFYgAAACAGlzb21pc28yYXZjMQAAAAhmcmVlAAAsjm1kYXQAAAKuBgX//6rcRem9\n",
       "5tlIt5Ys2CDZI+7veDI2NCAtIGNvcmUgMTQ4IHIyNjk5IGE1ZTA2YjkgLSBILjI2NC9NUEVHLTQg\n",
       "QVZDIGNvZGVjIC0gQ29weWxlZnQgMjAwMy0yMDE2IC0gaHR0cDovL3d3dy52aWRlb2xhbi5vcmcv\n",
       "eDI2NC5odG1sIC0gb3B0aW9uczogY2FiYWM9MSByZWY9MyBkZWJsb2NrPTE6MDowIGFuYWx5c2U9\n",
       "MHgzOjB4MTEzIG1lPWhleCBzdWJtZT03IHBzeT0xIHBzeV9yZD0xLjAwOjAuMDAgbWl4ZWRfcmVm\n",
       "PTEgbWVfcmFuZ2U9MTYgY2hyb21hX21lPTEgdHJlbGxpcz0xIDh4OGRjdD0xIGNxbT0wIGRlYWR6\n",
       "b25lPTIxLDExIGZhc3RfcHNraXA9MSBjaHJvbWFfcXBfb2Zmc2V0PS0yIHRocmVhZHM9OSBsb29r\n",
       "YWhlYWRfdGhyZWFkcz0xIHNsaWNlZF90aHJlYWRzPTAgbnI9MCBkZWNpbWF0ZT0xIGludGVybGFj\n",
       "ZWQ9MCBibHVyYXlfY29tcGF0PTAgY29uc3RyYWluZWRfaW50cmE9MCBiZnJhbWVzPTMgYl9weXJh\n",
       "bWlkPTIgYl9hZGFwdD0xIGJfYmlhcz0wIGRpcmVjdD0xIHdlaWdodGI9MSBvcGVuX2dvcD0wIHdl\n",
       "aWdodHA9MiBrZXlpbnQ9MjUwIGtleWludF9taW49MjAgc2NlbmVjdXQ9NDAgaW50cmFfcmVmcmVz\n",
       "aD0wIHJjX2xvb2thaGVhZD00MCByYz1jcmYgbWJ0cmVlPTEgY3JmPTIzLjAgcWNvbXA9MC42MCBx\n",
       "cG1pbj0wIHFwbWF4PTY5IHFwc3RlcD00IGlwX3JhdGlvPTEuNDAgYXE9MToxLjAwAIAAABMvZYiE\n",
       "ADv//vdOvwKbRZdqA5JXCvbKpCZZuVJrAfKmAAADAAARsIYOcTH6I/UARl2fIzSoxxIMTv/HMrQF\n",
       "+CTKFMlo9EQieA/2oyvndiZfbOXf3dxMCLsAcBzkD8+MoMJASpLCueBTikfkwUJ2YQNhHCpYT1NW\n",
       "BC6GlJNRMIi+tPt7ton61l9fMRypri5telw9pV8VxbDNJDqqFcU5jEEuKGiebWZCykbtIFQ6HWJS\n",
       "5NQW7mHicSM2EVHQNusJ1ndAiuLf/n5ATn09DPzsLn5rr3ypIMSPm3k/W+gN/Llr5B65yk65ohYS\n",
       "b4TjhDs3aRWrXg+TxQwc9PuiLkRki7IdhEpltMYXdtauqBp/eYPQQz7ZR8o8i8ivsACgU26u9r3C\n",
       "4l9H5nds5a66qqUTD8TISPx0YhUDoQL8FaxyzZuplgFLiNtL2GvqRwbgXayU3Kl3jdqAVlUKkY5E\n",
       "UAxwzrypxU4KzwSWG8P4EzbiSL0Lq/+OoMQ17GXk5XEjTc/TWVMSmO8oAuGz5CJJaMw3xQ86PYTw\n",
       "6tvBSUznFBNhUGzMuv4l1k05oW8vxHmMZnrCOt0bpGW2gqrkjye7chd8sy8KbEFnjOclxGPxx5E0\n",
       "BkuynamwmMY4a3LypCHLjAKfUa6+U8SzYHoHZklHsh3+bCrEn8wMudsRxWgY5nsGV5d54ITkWi2x\n",
       "voWZTzVjbj+eCR2q4jcpYidGy84ZxnLdr+NMwVfqeIJQLcE/oqH0TdyftCoFQWrwcjpOtrScK6be\n",
       "10H6sVCy9cf28LZTaivggcslEtvE/OhGi1wfNQTvoM/BKW9B/VHUJQAXoYlZRwTKdDeF2I973lDu\n",
       "/LVwn58J9o9mX0pjygXxUx8S5mp+Ah/IlFz1OL1/IOZexUFv0mkMuDdLwY28GcwPM9AU/Ju4yhUF\n",
       "fTX6n9H7pJEvc4VBxjGwBI+b2xpG1+RTM+2GTnz0uRdA3QyfXkBKZIEv+rl/DP2faVX8OUm2A5b3\n",
       "i5ON06Nvxumh2DKduy7m2hQK+Y/LRWut372eoK2EYKpTHyxSUHRkp5Ol5qd3KQ+LKR2ruZoJwmPW\n",
       "48jPKjeNTXpVoCXK0F0cNdFCmt5HDm/0KgsXrRBtl51wQmZHbviM4dzKHN5ia79LTXgCJAOpN92D\n",
       "AG9I5DmTifYaa2ShXggxMto0YWa8LboAkxtw/jHMPvs7waFh9n8cbPDbN89fDFyPkcdX7N2yzivt\n",
       "WsWEUcuwKsRkpXwjHnoUNXVyCqjAaQlhN98J+w3AyYswwqaBfporVBAC5L11ilPsFn9rSMIZolUo\n",
       "j7LcItXZ4SF4tGuRjQk7g39pl+bIKspUrtfkihuAofm1bMmxsDNBZ8piNaWcaIzx3xcCYk1nhbQF\n",
       "Rt1DIc2hEUiqYsjkX4u/0VzuonDNjkJzKI6JDV5Uglpkx/g5fwSB0oTElsIVvbaCA2TZHVS866Br\n",
       "vtnlU4O2zsT2Iq4H2RmHFEFv3FeimK/bUJmtX9PvFfNzHzB7HCcwIwC4SwKGlLefVflSPsyiSLKX\n",
       "kvsYRpUhLh4ZEEkNK7r9EhRPg62IykMOU5pkMoOnxnLmel/VYgoDDxiwqqX9MctWvXQHqgCj7cMh\n",
       "odirUrnbnyjwsXrDcua47xXehAgwZ1Npo2KPYmT2QCVfDkuxz7Mh44r7VJYhnmnSoq7kDxPX4MH7\n",
       "B1qQpLROdgKbc5zuo5wk1ZcwxpOaJ+zVbB+cPYxk6YlFV3VNloL3FdTPURLCboFAkQfbARIda1Y/\n",
       "Mp/JSmDvuNlKGQs/V1eF35Blc293Yl7y0v77XyIMzuKncK4IlVFiWfklbTrUT4e8jrsf+1xldCZM\n",
       "ZvtA257p4wRp+nLoK2q6v0m7fNWrSWUgO9DiqOXY+Rd4/xdmFkp7W+al2IErkZ3k/K1lhtyzs7QH\n",
       "6UNHbM57d6s89INSPpw8mHEj9/zZAgMrwTFCEeS6R1d6XYe7PYoAvyQ6vmubRhgtf3ycSzmqfHH2\n",
       "9BM/056c7oG2/G/RcTd4BBnOTKur9rz7j5tTV6s1GL3pvWwcoCtlvZLPy/eIoYV6KGaBQOvw1QzO\n",
       "aDJDanTIwMgLSQxJx4fVmSymzTbnRV6795Nr5N3JDHs+in/GH7n/+xWVX+bnCDAyYHQpjk2WgHKf\n",
       "xhSLqzef6OOsD6jm/hiWPL82+7F8zvAxOy0DeGY8d8nZtOFESUA3Oyb+cCPhk7G3mz+TEgSTjtkO\n",
       "QVfKHt1B6JsBydXp+0SjtKTxBY8OAks0TABv9qbmap/TZZ/9LNrdnf1k0LyH/yvWY3TpxbbCQ0iQ\n",
       "lHzmO3Bc303W+MMi4D6lG3GPwn2nI0ajB33EvtsZJ91LFbf6FtxEOiGn6syAQ8feE8TTVrbi3AsU\n",
       "rpk4k67Vs8ySTfxWxH9dT8wFUtAvZ8q5Yi6bXGuLkJFFCFnFlzDs42GS3dBJjY/3jjcNiR6865ja\n",
       "Di9ZuFBNOmWv8ZnDrnHAnwZRxMJQw2jH/YJkjxGf8uDZH/3wKzH6ovNY7y97RsmY86Qofm6tZ+/G\n",
       "G66qccySpaTq7Pep4selEUKgGUHLtBBrWMPV/9OQHF0br9KqfIFppm9qunMlQDlPfujTaOYtVrHV\n",
       "JPpQVh6oQhvTDb885n7Kqpmvjr92XppqqhRKvT8F7JqBhAOF0wrtTo+fSBuaV42SKD+yD+fHJWHN\n",
       "JToo0pllxyTq9YIE0HjnEr+PBydrYohPaePtWHdQkkrFjipUYiWVM1U5HFDY52mC6jYV6tx02auF\n",
       "3KgToQHgVVhlnAanda4vE21NllKvIVYynWpDtJJY/gMUp4NUyEvUcB1NNZBHaASHX7GsvJq6RiqH\n",
       "QLPrc0KSncRWzdSUWAZISZhgCzuqLf5R00+xBhKv183HBVGyu9NGFSDoLrp8xP11QNVv9J2XffUn\n",
       "X/+CuriigdP1qWhT5AFmDmHDNOnHsbkbKmqxct19lvUQW6WpQqwedJGAlu0B+vDDu8isaqLFys9Q\n",
       "aF6LxGIlja8o/RPOWjftnlhpaUs+BpNKzwmaxGhiwVVO+VRe9ee1dl/xNtxP409lXrcUObT0ruqD\n",
       "Y7F4QO51TpOoA5Mz893gW0j/U7ruphoy6IQ5DKulPR175AfTzGtWwTQEnKtgSVt9jf2tM9gnsprC\n",
       "4Sud3W8ghax/2QlkdwzygHFb1tkTTPwBLcqOKlaksnoRK1YTaY/wWAQ2FBS0u1Ck9SDxj90JHqdN\n",
       "SUJeYnwCS4jPX/Jt2wqWOgTiTSLfSAUu9cMxHVA3gPondw19ax8sHaCZDcH6PG4Y9p7Cf2jKCupM\n",
       "yLQ1YGsQFfZ7Vgqh6PXji4V4/unKUJGiILX1Lza45eKsy946GK+qrcAkjEE4mdsQPkr5gCBmASsU\n",
       "resJA45oJRLfSZemzpR/ICbsnYZgFmU/5y7QHzVdNqnmYDwyp0AZTLCcUGHrqanRRwUAwmozpPO6\n",
       "ZXOyeCRIIKcf9SdXNL/8ULn4g/UpvzTZfjzjish1ync1d8G/gJrh0pSbt7FaQkZPrTtDDA3kn1v1\n",
       "lxbmiResVIVA/Cuu/y/og6ePf3VRA8VTkYclwsPOpK0fONRwvqi06l6CCTJjIQ4JD5K4xCXkl1ip\n",
       "15ttb/c3jnVB4yuwkDNzEBxdrn8Mqwg4LGd5nCUdjgHZE9ALZqhyeOP88yFbbDYD8cLCeFR9Z2Tg\n",
       "jxv0s3Elk5il7bqu+PgbCyxXLTX8AWao92mvtNiypk/f+uChdcvMpdt1f8NGOySzeB2rCxZ2lA38\n",
       "CckJ9+VLkUr6MG7w5xdFUGW8ygs0QxpzD4XJrRcoiTwteyPq+1ASwLbPmhpwAVCHB5AaeUPnLP0U\n",
       "TnM9l1LU/a67DDVWa2bG++hBJOeMDKgoGHxskZAgX5KS8I7Vq0pB+vgV0J5ligfHJFSL2vaTdQzy\n",
       "x5Hf457d0s6mK3U64J4iGV6+gnvQWTCamj0m9TiO6rqIiVnfZILL+tXEkt7l7UhERMeuHQOGOtMF\n",
       "ckRP47/FCCcJJl2F0Qw8lBe8Q2FxuhrQA58CM/RvRGkdSEPm6SxCVO3Vn3zHoeJASw1xn0ZLppIo\n",
       "QgPUGZrRAo9ikc1jm1L72z/dDkUWSUk/jlG6GvFkMh+F5Us35Mzd0/DdZqpC+6ywTjuzMcTtrt06\n",
       "ON1dy42TrL42U8XE0as6+lOMqLIRxD9MpaXnnIhw5NfQcrPcyLlA2dqnWTA2jmxqomsV9VieHGQl\n",
       "5zpDlQQ0STE2aXOUBXbLEpqw3eO4HYJkLnmB0jkacJy0x4NllRMzZhy1DEmJ8kwlqdjO0L10lLrB\n",
       "9xAEBMUc5r4uMVNZRmtm8ylXYB6HauT9UUpEipC8oTGxUaxXJZScDtmTbXD5tY4mn6/+S/2NlYZB\n",
       "57xQLt0CvAFLVXFQ6+oMqqB1Xe6WeQqfLGfbAUXy1yLK8A6ElNu4EMLPptI2YkTD4BZT1jEuEUDx\n",
       "F8NK/AacbIR7bCTyYbz10RWAg9QE+ddgD1kzRBEkhqaLa4Q+eXI5OuK9EOV0/Az/ct27u9TwPtkk\n",
       "QZmS7eAsV29vQgP0bbrVRuW6sRVB+C4JYxrja6h4tk+L/7+3QOlP4CKQXk61M3K+cItmVhPMcgib\n",
       "NkOgUH17qyK7AWOB+G0D47Z9N5NBIozLGV6sHZhHhFMiRsg0zENOf30FVrB5+BbNAHiAf/fpfmh1\n",
       "q9yWtPLDA76zax+iWhu5BvSaybeSYDFaSh/oXC9fcNhyjtQPwZJL8A/NwZimfIpFVTwdGW4xje5J\n",
       "v/wNNsFy/L/bpxmh28abY0qH0MV/ZVGyh8N3oHVrMLY7sdcgF8mIr3O/jxq1pS2T+FJKAWvj5Tiv\n",
       "VmGUjiECVS91/19D8AtIVVsJNKgr1sCU6i7++UpVJVYCZd4rBybqJH6SECg8pGZxu/kUoywkFRV/\n",
       "HuoqUZU+BrCFdAAw0jV2DQI8lF2O0SIVX3IG63B52X9Qk388NBp5ca42IAQr8FGbgwksaEbewki1\n",
       "41h4R+OVO+cdfuzi6Wh2rIw/qN4KaHFkwf/aRSfyxhV0iUdNx+v78ToxdJeXIlqkRr4+inHpwx2a\n",
       "EhuzCDnVYZvrAi1RAf6A1cFWBn3X/3skHEhlPvHBajoTgmftixxXUmVds0lmBf32n2+H8Ki3Foaw\n",
       "jGBf28mOFmyLgdKlb7y42XnlLHMAuoSWxQTwmbGAJ8dkL5KQP92LcRl7JjprtfH2XPxq815l9pI1\n",
       "eXe/wLHRJjBfrae1k5gcDvn787N+unfoufsLvsTiCk/2//vxLFoOL9YZ8x+PlsfzCtRNkRGL7YtJ\n",
       "TciLUVzcpQBANnNjg0SQAmBVQQ1PVoy8RaeIpX49cmh8yfeII3Lfg519uexIEzsUVPKmYvMFtREM\n",
       "PrMFynzCZ11HLHX+nd6yAL3tyrUBe9kKOnRqWZjS9YmfQylXDdUC83SxjrsKIcIeqOiNKbZ+0oZG\n",
       "/oyESXGnxo5swwva37m3YzzKqfndmvdjMtEjKZKAw7EC+P7VO9tstzozaPFCj6hbNWIrdfnKcnO/\n",
       "I+AF3KuOUqeqQGjRJh4ZVFN8/Mcq7Pw4/N2BETybInOWzGSFa2Y9Lv2sfrqo3TqBD+kfjfDlnQzx\n",
       "zvTosYgoYYKKOMLfhI8dicCUDLZvo9v/YvjhP/ge8F4jGS9NZ7nyWMrS1VdP4LZ7TmE3y+XumUbh\n",
       "iEDVRpIJAoeOxwwO5q3pZzLSJxSIz1k0V2BXWWK+iplaQ+o39crjq0/SVpj/+JzJygc4nRvBqBeE\n",
       "TYEoajUdO+g0FTrfcyM0swAi2C6Zx/l9aFe3i5yTkCdLfVdkkxqjbdyp3nEz/3rj6EDqTOjOBJ20\n",
       "NLkjUq+1RZ7PW3jLqZxfgVhiR0jj8QF7TPhWHuFNKhsLCH64kE8MO014HvizUHp8q2SpjI7EkKck\n",
       "l6bKMhm3Pomxm/MrxmSsML8yAIIpiTimeXNRSqDLWWIPeHDb7D/w8aEurQpLc8iy6GSAQ1fMr0I+\n",
       "PZoNpbaxjvLM34lbQB2iUIv4b5MJ/Vv3rZxA5lmEMRJPbekW+L7dyigKUrxYCPxmTOsu073Vu3ce\n",
       "LmnZYwM3YPl2piXWI/NhP0MoUIn0oTEwSQ3KQzy6ubWPNl3H+4kGoAh7t6SzAKwAZl4aZ6QJ42oV\n",
       "+NAKlg65DcJPztMErZX+ZlAZjnVu8ppU+vs9ZzEqAgcf22YR1ez8HY6KosqNvLKD2r+zBKmtbS4m\n",
       "Cvvi/6hj9v/y7sGNrhZjb2Uv0rmA36w09JbXYUAHmxDUIIheb0eeu08RWc+neX2lErb7NImkq3vA\n",
       "sX93gqVAtdF8BbG9GK0825ETKJmFNz8m78+LudQwkxF49gAY5w50csrGP1GpPFGPL/XuC7lmMFKx\n",
       "sV7JUoQZJOMySEruAZxHwGIcU62lGP4/UyrdDhuAoR6ZQ/FtAZfd5hN0y0v8zhbX7aAwC88EQpk5\n",
       "bl4zPClgSW5eFVgyZm3UXA4SZ8GlqV64eerY49Sblf2i396G4yklLIbXLke5StkQ/X6ceLUv0SFw\n",
       "m0SH6aqyUaKgcWMjY97BMIFsudNlye6mfw1n3QSTbLCY0wYgNGwBbZ1M/3FkCpw62ytdZIdBFib8\n",
       "azkwH4BBAAAB70GaIWxD//6plhMCmfAF/ux2uCLBMwBkvPISDHsn3CUJBeupmsj0jXuGgsIpQgTw\n",
       "E2w3oF6gYg46GJf9zvwD/W7OaDGTb7OSSu3gARP3kSqOVLyUrR1W98N8aodfnfXUo9dW72ubwGnu\n",
       "GmZg+u+ams7oexhx+OTJxzgxFhAU4Km7j6eXyb/anBYsRqepJRDUHAJcCnEkcmhdMNs+lQKoBLP9\n",
       "puDPH1Wmb8ILDdDGNrh+lRFk/+dJW30D0y7Zpmkk18oM8ThbjHgTUK+XPi7NiUWUGv8XUmNClBFj\n",
       "fQUdUSHcpCtg7J3/m8iZRpdh9FaE/0ramdodW7/4VWiT3nzEKwniyk6asqCS4qO0hU9IC+l5YXm2\n",
       "sjbDCxti3+BUf7iM8v83rIvgRms4XkgUoFNaKuACNkXq76Ldu3Mj/pE99cZNRdQGGn6IhUgx2CpB\n",
       "RMbIrmSK7pC/qfRonarJwLCa52n676Rch5OaGO4Bn4MQ+l42Ix1h91nys0YPpc48LvRaNpBON0Kf\n",
       "EEiPdjGmpdymumm7TElZuw4eRkQU+W/Nveryq3/ymN+Ayh4LPQIax1mvfQMNcYgr+HLaTH6+UxHk\n",
       "2qvy2H9S2gg6Pr+CTfWLujwcnS3f/0Es1jm1ieQbX3KBWkfSxgC+H9KL78PL4fMcEAAAAUNBmkU8\n",
       "IZMphD///qmWAEx5X/gnb5dohK7AMmqBelWyKEqTFK7gH0A0fVntAQSxy7UEKObqoEnUvU4lsOi2\n",
       "9Rpq6YoLVbhCJQy83mXv8qy7aQf4eNO7vOuEIVlwfJFARlf1uDyuAE2rqnI2sOA4B4ZZqOVPOBnu\n",
       "e66KvGKtyeQCNSHTMeJFkrRJJyEjixhGcNK2RD7WzYxP47QRZRXfre+2JjbRAvVlueQPHhHXIJ7B\n",
       "l3jE6s5pCV18DRobS6KjXqbDkeRGzcJceRtXnXKL8vDoJIVPiC7ZIqpyPftADTWcphCJ0Rtd5v+x\n",
       "O/z3tBWQ/EdmscRMSxzH/oQxzqOvZWWM0Mxg4/NFOvx80P48tPRdnycsYhtsp5iQBVc/VXo41Hh/\n",
       "Y/UmZTMNf0wjd5BYAtlhnFH3mIkStv8SE99AnT5p0Xvj0QAAAPxBnmNqU8M/AEFuIB3s34JPxcAH\n",
       "4uzZcwOQzl1JJobXKUwwfvzbNz6/Pa/gz6hiTUjDVw/jc7ELVodkcph71rcXt05ZxCETuI6PpMbJ\n",
       "siz0/Beq7ggxNnXZEF4HmS1h56+TCKZHpulWXXtBpZGuPBWYZbSmOu00aFevMvsOSoUNBIv+OFmc\n",
       "z1zzDwZLjc23KeyiHGk80wHqA9a8X23CFcH9EaUDrBTwzbtQBaEtfpiU14P8b2bJd/2DcWqX19zC\n",
       "x8DrMT8odGYAZfXadIaUg5uTlezWxtMgmWPoZrujK+QtTE/RIBAOSvbJBjVcTwhdKs0r/mysI/3u\n",
       "XJjpH9YAAADLAZ6CdEK/AHbZtr4AAul4s5sKBBB5hLUhY53J4uu0MpHWzZqZ80w7kN26d/L1+vxv\n",
       "Zo/+TYq6uu682Mw64XJRea4/Wni5y/Nx55OxWpBEqWt/Hol2RIrB/HNXL9byQcXhGR60arAQkGj0\n",
       "h5TVmwoIi+sRzxT9s/KaRT+uDQAHKZuTQZFuTRaImLb2Q+iXniEet5bJWN87pEv+kPlEU3/da6lR\n",
       "bQPJ9nIWVopGolu8R6nUN1vKO/P7ruG+ofruHlDpXKWB60xRAV+3f6kAAADVAZ6EakK/AHl4oEZY\n",
       "889pwAmqj7rNK/+u5GTjykcnLaochypBVlfkRrnqpPktH+VR91rl1jemIFgq/hjXdzXYGc5PxyYW\n",
       "vETAjDqvCV17XZ1N64/U57yXP8p2blG1wzKSGSBN10o+LXVBKn3PsuRimP+dzaKysV2WZCTwN4r4\n",
       "qIklGFmvsbdpuLdBLN24OPzynwrlfhJjxWFI6uLeiOY8vGuLTfD1MtNEC4bHfI5O4/uLFHerbYkB\n",
       "1+GPRW6/Xk+n6esMe8DLb9XFfRcRghbRoYttl6YlAAABHEGaiUmoQWiZTAh///6plgBMJ+UGWgBG\n",
       "GTu8nXbVtLoD1zKMdWeIO6ySxs5adD8H8ibklUztQc/NPVyF7H1fQS7f9nZCroyhG4boHhpFWlzv\n",
       "T9Wfl3sYUfanoJHpbjDsGbO6S7zz2Kqy94KEdA9C3jHAptYlRnn7Qgy2pM9PsMURqdW3+Eh3HZRT\n",
       "yGQEPjiQTHwNuYofVCdD0jSHy74aHd3NBLKpizw3ZPO0NvJMfLs0JsQpYDxzy5NcGVsgXiyu1/se\n",
       "oBbf2OUETROislZOartVMoRHt10R+3RUKA9Z5vFUjZK88h250lHUvDGivafbNKIkydKoYUxsaPce\n",
       "ANmcCULU3FfIlE8ltyyZp3Sf6vkuywR2jb3f4A7AsSh5AAAAwEGep0URLDP/AEGQ8gBuaxYFQqUq\n",
       "Oo1tfuNrp+pXs8jlLe/OOIMccAsaBDvVU3XASt6EcAlfJyzCimh3A2/umlyB1ovQNkXIPeVfFdeg\n",
       "axGmamF/N0fnoMETnbZl6WNSVA3gsf8GKh0npTgXMRgPksO/Xw310SXqwqOXq7/jH7v6W4uAq5r3\n",
       "3y+iP0+d1SEkG9D6YvjR4Khs9A+GDsX/1+lodmBJDSkHNycr2a2NpkHKCWyWcRsQqbSf+LesTM7K\n",
       "MQAAANEBnsZ0Qr8AeYmtr2AHRVpPmnojbxToNrGOqriWvvE7VtexsYaksYFdOSo/RPrKankmKo2z\n",
       "I3zwVp4NDntjLJQXr7SOrza1fN5CDZ9v3DiTfL/SgTx1UMoujJuv4UyIOGokne/xi9PDccausnc9\n",
       "GmtnsN1pWyT7ztxDCyOfa7gkybS4VVvb+qbfYt1NSNbonquK7I8n25cu/QKH2uFwTdsE1kejMq/2\n",
       "sg+0VRuW4PWOmJfsGXKs3XBXcOaCr3ToI4RhXCt60Rlg1/QuqqFwAFG4gAAAAMkBnshqQr8AeBVx\n",
       "ifEANuJoyTS6pAOXKeorcLGIr05MeR5kFlxjohqr9gzCzZyK6P/Zfbd0LN1RO9EFur4lR/9d74Le\n",
       "RTp96oS87ltEOjbSf2wP6GnhcZuXUaDZatJ2kGEl8SOQ/FcUos5tgsi4o9ViIZtMVWWyGijtUQE3\n",
       "c80GcVr1LOMFsOY7nqqYewZ3+xXwrcVeMfL5w6WnetN6vubhlrqzWNZSUW9oHrRtqJc41psy/jbY\n",
       "7FrKDJn8gykTDrtPN9MEJ4HG2WgAAADJQZrNSahBbJlMCH///qmWAEwMV9ynSU/XAB9m7TPGNgF3\n",
       "14b8TN0ZMu8IepX3sSquxWdv2JGzktDqbaPJD7icNu/5FUb99wGuBG+ftl29kaLnTCragz6iJPNL\n",
       "yewuGcD6u+mtTNqDZrY0mjyT6iegN5seanoMiHC+Gta+uKSceoENdOWfl0NyCBulx0DCxP9/isQJ\n",
       "bZlR+Sd1sCJgLIW9U3fkNQqKp7fpjFhPCRwoVW11DCoJQfDbdttsX+UX/LzWSYCy8KZpxhlhAAAA\n",
       "lEGe60UVLDP/AEF1OI9Yzj3ALL0mACFCs3XFDqB7pzbf473pPU1PnqrIQLITFhZ8xbGD8mg/jAhN\n",
       "X7ik2q2/01aEZjfccJofWwUGkoXjsaaRnY3pLzzescbiBdo9KlPcJQYSKDKATjlWkf0b+n5R27lH\n",
       "hgp75aLSsoEfnFzcRX7gK3lIGn6n5WrfHtLFObIZ9xrvGEAAAAC0AZ8KdEK/AHlfXPhGaRly5wAm\n",
       "WrG8wtxbyomwYWWoOw1T5YTqD5GgV6voupbEw/EqZHRfrxtrnA21IvyYzvyoOodLqHem42Nrj/5G\n",
       "UTWY8J48q2cWTaty+ZlhkrB4Pyeo2o9jwHpOg+UNjalbJOWpb0rd6tyxnqrwpK8WBqvzzKark7m4\n",
       "Tp5lfWySfo+26OpU4TItHNaJvTAkSUCr3FHVNRWykAGwmT9oTnlokhCqao4v45BAAAAArwGfDGpC\n",
       "vwB5XGCKifUABKBZn9x/OsY0CLcWBG6AzxHa8y1898jtAqjPs5q4G83i06BsDyO/rjKIcoRgFBcp\n",
       "6DCVutb/G8qpn5b6t/VGb7N4CydAmKZ+R7BGBuxtfo8kmarIiBkVgFkJJTG6nytYRrDxaby+Eqbs\n",
       "W/5TCYDAVVH1BRZfSrRwbIwlmfsv2/cIELVtD5SsR8k8IbIGAmKBDqO6j/rpkmcd4xfIxHzPvYEA\n",
       "AACtQZsRSahBbJlMCHf//qmWAE4KDx2AKZGUN0AECEnSOuZE8D9VS4lBBJZMrLdkiydqU3r9T3Kb\n",
       "lC65CjkRkqyAUzfctyGJrsHJbgHFa457PP6MEugPXJGiW76bbBa8sH+ZoGJi2iMHm+Twg3+y5GyD\n",
       "Z58mxfqu2mzI6usBQDimJTaSRpJRBpKZF7Plfb85yaVPn16fBXNP9VBq0uMBgjUvtZY7k9474yDg\n",
       "brDDzkcAAACMQZ8vRRUsM/8AQ1mOJ4nSUXb0LDQAcn7AJGbc+mVlLH8SKB1IXTvo/r10ggvyJnb1\n",
       "9lVB8RI4toLgvrVHApRkpMX15I+EjTjxb6UpCFsCu/qIFjnIghPKP7vTObRYzSt3yPYbae7cs77Y\n",
       "S8ssOrfsPF5JyJTC2e5NEm4f0K6bY9E2zSnH092FPcmQ/tkAAAChAZ9OdEK/AHsUbxWU8Mhd3+QA\n",
       "P550ZGZv5gloBtZgL6UpGXukQt+IQlDqdpKZL1pF3NdXGjTu5JNiLUS44yDa8nDrjR9LJROZtICb\n",
       "+kTExZzMrxlUkRmuc3YZJHeljWu0AwBW8pHbjApKB/squTJVvenZpa0H/EZlsyjwtO+YoDVEjsxf\n",
       "cs/yJgVcjDmn+0GGvY8EvnZ6vbW3KP77EdNDT6UAAACjAZ9QakK/AHxVSLWcAC0lEcFwX5JLt9XE\n",
       "w8BNfeP6eN9NqOCK2FJQyoWPK2c9cVagtOPYAsXUZJCtRqBB8Um6X9JfPC2wVaAjEhUFSAMWb5pW\n",
       "Xf/6ttuJXUMPRm15ddgcgLk5tJ3BisKiqu6aT1CyVlbjpW+fYs174b0v+/viOhU5agduWCCLqY9w\n",
       "ySX1ZjG7bBpX2Fho0SDboGeqdpHmRiTNUAAAAJ5Bm1VJqEFsmUwId//+qZYATgoPJhFDViDABMn0\n",
       "Dj0b5wdFeEPu7GS8FSeziRPukp0q285dpsOGndsB/YSgD+k6aRzjJ137can3DBb5bh4EZeAXxJ4T\n",
       "OqCIfk3lgvsPLThHF6vb6QcZpbKzTVCReOJD2pUvm7UdX98lax8q/dYo0RbDq/Nvm65Eh8a3ZvOD\n",
       "wQse9xYZWUkYfjcmEo3LCQAAAKNBn3NFFSwz/wBDdTiOsvoe632NACDVlBJOEiULx8MioZRINcft\n",
       "vzW9XhyZOE+cz5/qysCTQzuimDXOOIWG7y7QU8aFa6ITBF1aQYhAW8sjoR6peFEYBuP4Vr48a9nm\n",
       "RtwcII5ScismJ5uXZe7BH6C+UA+qrsn/Y3h5OiVaHWAFds/UXhbbJ5SVdjxsa4zRZHcbrYRZdhLw\n",
       "zIcGHM8OyUWDV6JwAAAArwGfknRCvwB8MymaHktZU4TpxRoATV5da8GUK355QBzxAxMCqQjPZfXQ\n",
       "IevQK/087D6KPM5AtJ1PGWSMkezg4AyMPL2fwUtG5iZJZb6PBrDUegrgxgvNUbM/mGkYuuipXX+7\n",
       "duATjfQguhLcf32ueKpYVZNceW6su3s39UokxI7cZK4DRtsqHxH7XmNoYslUCjKqURoNIeZfIHrX\n",
       "aTc0/imOr0nDj02yexqLX63b/FAAAAC3AZ+UakK/AHv+DiF2XMAF02gWXWGSKDGSUOnADGCmLvoK\n",
       "fVHfDukVO7qUdBc0n7JKV/foEtHduDvlC7nca+/4t6/I1r4yeglQpPsTWoNQCH/cPXqdZanvohj6\n",
       "taUiKuI4bfUzlvX76RRdSJT3MTCVYJ1Uwc5BpbAAccYmPpGCeRh0mEL3Zazw6lDhR2kkXsTgNrF9\n",
       "3dCHByaIgIIDstGA/HeBqRSlrkOc8lNoQrPCQUedxFWj5nn9AAAAmEGbmUmoQWyZTAhv//6nhACe\n",
       "l84SoRnK4sBkQol1V2B1PtB/y4EjbMayA2QlBjxwrCNPkKzI1rZxpJ1gj1t8d3NEhf3OEo4BMPs3\n",
       "hbDulv4iIbm666plkbpr1h3nJTbO7q+i1U1ht0Xqs8MOBRagAHtGmBWdDR+aCYepFkr1X6GqAYsx\n",
       "/b0Du115nb1QpzqL2iAeobqwpoz4AAAAkkGft0UVLDP/AEVuIgLTE5sgdIDnKACT/iDvydVvAstK\n",
       "HkukH2gnDTVrfqavyF79hmrix6lts281zSZI9DatSHOHU5tJFOanNW3BfpyHKLgK7VDciB9+8jiz\n",
       "DtlEBAi7OgcEDwIGOwsqB+tyVLHydy5Vz6BMIQ9DLnTnd/C4vPu9ntiXIuTYVNRDE/g/1HxjoC2B\n",
       "AAAArgGf1nRCvwB8DW+NqHRMK9TwAtB2Q6KmEvfZuTChUWdeq3MR07XYtQ9fIOBwyt7wF/v32Aea\n",
       "0sy1dj57O5H+JRV/c3+oDA1xId1EAfW6OZ5QnigBe/+gcja0WpEnAPkBYBcNAmVosFI7eMN4y177\n",
       "cQynzhsSaO9vLRkfQEOXfmJDeSYHFX/zbXhU3Ae/C8oQZXVUZcSFjgHbeOGMzLYbYsK/06SwgQIR\n",
       "GInaz+qm+QAAAL0Bn9hqQr8AfxVYvAWAFh7UdNRH0m/84CSL6/NmVWj2/EC4CoK9N7/GxlYzXkbC\n",
       "xo9zbYBHCZHqstv3ZuOSmgs35iyySwVVWP0eBFU/wNX7V4jfmBn7dv/0/t3EZSA0ej8/cAsLLZLS\n",
       "ELqUckBwxCZR0+JNalkociVqIDbv3oXB2dAYSq5ocBA4AIflOwkZ5jPONAP7ldhHViZsHXangj2H\n",
       "4BdQ3fqRjiECepEqxCL+yLv566SxxBOuxNSF49YAAABsQZvdSahBbJlMCFf//jhACWeic6/glSGD\n",
       "uoAP2hRlzSehhk0ohJipfu1dMPwfNTzn9oDxfhAWPBvfayeO1jzq8a37nY8oJBVXNg6CvpyYw39f\n",
       "1d5jShC1FkGj4kyQ8SHkr2fDu1CI2XvuGA6BAAAAmEGf+0UVLDP/AEV1OJqwAC5doZXUETDV/eti\n",
       "XCF8N5rSppl58dm1wPlOZjMupdUsNYRi+G6VCcdzsjR5eC9JIIHh+ESg0QyggVJTD+sZXUdgikI3\n",
       "0N6BS43fWJ7HjGauLZjyvjTLM755c+d9VkMXodqdKOzl8iCm3G5RxwtCrDFcAB88an/3HXbAFXKg\n",
       "OvlFBM0LGdGKnWbAAAAAvAGeGnRCvwB+8yk/+mCOVveoSeAE1ecDRfwqQGzjuYZERL0f7PgX3Pnr\n",
       "ltCxbAx7KuW5BlG9NK9GnhNrD6rh68h3FFIVKr8iCC1rEmRXuUZPL26VDTIT62Bgr5Ychjal+yvb\n",
       "J2dNBEFBVA6nkFfLIEGwUgH9v1+a2UYJpbM7t4hlMWPxr/wE1qAE2dHhQOGSgLT2UA0ZLgu1Cz85\n",
       "2PUHmtvU5tC2AWT0pKhZB2YPx/Cz5oHjf40kMsGeQrs3AAAAsAGeHGpCvwB9lOxRwDABc8M+p8+J\n",
       "NvIZmBY8W/kayNrVqkZn4MuMNbxmN5Z6W42akPA8FC0DlD1wqTovGbCgLFP5M2332wYd0gp5nEX9\n",
       "fPcZaV8wXZyLhnYXnE9ImDvtWuXGOTHhUaIYtvuEE6F0ULdM4AGR4C3itg/m7ZFQd1Ec6N+98xzi\n",
       "pMf6WpUIflQexSdmooDlIfnxFLoCUuYhuuQgIgyjz/YgKNkP0B96VxjhAAAEjm1vb3YAAABsbXZo\n",
       "ZAAAAAAAAAAAAAAAAAAAA+gAAAXcAAEAAAEAAAAAAAAAAAAAAAABAAAAAAAAAAAAAAAAAAAAAQAA\n",
       "AAAAAAAAAAAAAAAAQAAAAAAAAAAAAAAAAAAAAAAAAAAAAAAAAAAAAAAAAAIAAAO4dHJhawAAAFx0\n",
       "a2hkAAAAAwAAAAAAAAAAAAAAAQAAAAAAAAXcAAAAAAAAAAAAAAAAAAAAAAABAAAAAAAAAAAAAAAA\n",
       "AAAAAQAAAAAAAAAAAAAAAAAAQAAAAAGwAAABIAAAAAAAJGVkdHMAAAAcZWxzdAAAAAAAAAABAAAF\n",
       "3AAABAAAAQAAAAADMG1kaWEAAAAgbWRoZAAAAAAAAAAAAAAAAAAAKAAAADwAVcQAAAAAAC1oZGxy\n",
       "AAAAAAAAAAB2aWRlAAAAAAAAAAAAAAAAVmlkZW9IYW5kbGVyAAAAAtttaW5mAAAAFHZtaGQAAAAB\n",
       "AAAAAAAAAAAAAAAkZGluZgAAABxkcmVmAAAAAAAAAAEAAAAMdXJsIAAAAAEAAAKbc3RibAAAALNz\n",
       "dHNkAAAAAAAAAAEAAACjYXZjMQAAAAAAAAABAAAAAAAAAAAAAAAAAAAAAAGwASAASAAAAEgAAAAA\n",
       "AAAAAQAAAAAAAAAAAAAAAAAAAAAAAAAAAAAAAAAAAAAAAAAAABj//wAAADFhdmNDAWQAFf/hABhn\n",
       "ZAAVrNlBsJaEAAADAAQAAAMAoDxYtlgBAAZo6+PLIsAAAAAcdXVpZGtoQPJfJE/FujmlG88DI/MA\n",
       "AAAAAAAAGHN0dHMAAAAAAAAAAQAAAB4AAAIAAAAAFHN0c3MAAAAAAAAAAQAAAAEAAAD4Y3R0cwAA\n",
       "AAAAAAAdAAAAAgAABAAAAAABAAAKAAAAAAEAAAQAAAAAAQAAAAAAAAABAAACAAAAAAEAAAoAAAAA\n",
       "AQAABAAAAAABAAAAAAAAAAEAAAIAAAAAAQAACgAAAAABAAAEAAAAAAEAAAAAAAAAAQAAAgAAAAAB\n",
       "AAAKAAAAAAEAAAQAAAAAAQAAAAAAAAABAAACAAAAAAEAAAoAAAAAAQAABAAAAAABAAAAAAAAAAEA\n",
       "AAIAAAAAAQAACgAAAAABAAAEAAAAAAEAAAAAAAAAAQAAAgAAAAABAAAKAAAAAAEAAAQAAAAAAQAA\n",
       "AAAAAAABAAACAAAAABxzdHNjAAAAAAAAAAEAAAABAAAAHgAAAAEAAACMc3RzegAAAAAAAAAAAAAA\n",
       "HgAAFeUAAAHzAAABRwAAAQAAAADPAAAA2QAAASAAAADEAAAA1QAAAM0AAADNAAAAmAAAALgAAACz\n",
       "AAAAsQAAAJAAAAClAAAApwAAAKIAAACnAAAAswAAALsAAACcAAAAlgAAALIAAADBAAAAcAAAAJwA\n",
       "AADAAAAAtAAAABRzdGNvAAAAAAAAAAEAAAAsAAAAYnVkdGEAAABabWV0YQAAAAAAAAAhaGRscgAA\n",
       "AAAAAAAAbWRpcmFwcGwAAAAAAAAAAAAAAAAtaWxzdAAAACWpdG9vAAAAHWRhdGEAAAABAAAAAExh\n",
       "dmY1Ny40MS4xMDA=\n",
       "\">\n",
       "  Your browser does not support the video tag.\n",
       "</video>"
      ],
      "text/plain": [
       "<IPython.core.display.HTML object>"
      ]
     },
     "execution_count": 9,
     "metadata": {},
     "output_type": "execute_result"
    }
   ],
   "source": [
    "anim = animation.FuncAnimation(fig, animate, frames=rho_n, interval=50)\n",
    "HTML(anim.to_html5_video())"
   ]
  },
  {
   "cell_type": "markdown",
   "metadata": {},
   "source": [
    "You'll see that the result is very similar to the original Lax-Friedrichs method, and with good reason: they're essentially the same! But this is only because we are using a uniform grid. In the finite-volume approach, using the integral form of the equations, we were free to use a spatially varying grid spacing, if we wanted to. \n",
    "\n",
    "The original Godunov method is first-order accurate, due to representing the conserved quantity by a piecewise-constant approximation. That is why you see considerable numerical diffusion in the solution. But Godunov's method laid the foundation for all finite-volume methods to follow and it was a milestone in numerical solutions of hyperbolic conservation laws. A whole industry developed inventing \"high-resolution\" methods that offer second-order accuracy and higher."
   ]
  },
  {
   "cell_type": "markdown",
   "metadata": {},
   "source": [
    "##### Dig deeper"
   ]
  },
  {
   "cell_type": "markdown",
   "metadata": {},
   "source": [
    "* Godunov's method works in problems having waves moving with positive or negative wave speeds. Try it on the green-light problem introduced in [lesson 1](http://nbviewer.ipython.org/github/numerical-mooc/numerical-mooc/blob/master/lessons/03_wave/03_01_conservationLaw.ipynb) using the initial condition containing waves traveling in both directions.\n",
    "\n",
    "* Investigate two or three different numerical flux schemes (you can start with van Leer et al., 1987, or Google for other references. Implement the different flux schemes and compare!"
   ]
  },
  {
   "cell_type": "markdown",
   "metadata": {},
   "source": [
    "## MUSCL schemes"
   ]
  },
  {
   "cell_type": "markdown",
   "metadata": {},
   "source": [
    "Godunov's method is first-order accurate, which we already know is not appropriate for hyperbolic conservation laws, due to the high numerical diffusion. This poses particular difficulty near sharp gradients in the solution.\n",
    "\n",
    "To do better, we can replace the piecewise constant representation of the solution with a piecewise linear version (still discontinuous at the edges). This leads to the MUSCL scheme (for Monotonic Upstream-Centered Scheme for Conservation Laws), invented by van Leer (1979)."
   ]
  },
  {
   "cell_type": "markdown",
   "metadata": {},
   "source": [
    "### Reconstruction in space"
   ]
  },
  {
   "cell_type": "markdown",
   "metadata": {},
   "source": [
    "The piecewise linear reconstruction consists of representing the solution inside each cell with a *straight line* (see Figure 5). Define the cell representation as follows:\n",
    "\n",
    "\\begin{equation}\n",
    "  e(x) = e_i + \\sigma_i (x - x_i).\n",
    "\\end{equation}\n",
    "\n",
    "where $\\sigma_i$ is the *slope* of the approximation within the cell (to be defined), and $e_i$ is the Godunov cell average. The choice $\\sigma_i=0$ gives Godunov's method.\n",
    "\n",
    "Standard central differencing would give\n",
    "\n",
    "\\begin{equation}\n",
    "  \\sigma_i = \\frac{e_{i+1} - e_{i-1}}{2 \\Delta x}.\n",
    "\\end{equation}"
   ]
  },
  {
   "cell_type": "markdown",
   "metadata": {},
   "source": [
    "<img src=\"./figures/cell_boundaries.svg\">\n",
    "\n",
    "#### Figure 5. Piecewise linear approximation of the solution."
   ]
  },
  {
   "cell_type": "markdown",
   "metadata": {},
   "source": [
    "But we saw with the results [in the second lesson](http://nbviewer.ipython.org/github/numerical-mooc/numerical-mooc/blob/master/lessons/03_wave/03_02_convectionSchemes.ipynb) that this can lead to oscillations near shocks. These [Gibbs oscillations](http://en.wikipedia.org/wiki/Gibbs_phenomenon) will always appear (according to [Godunov's theorem](http://en.wikipedia.org/wiki/Godunov's_theorem)) unless we use constant reconstruction. So we have to modify, or *limit* the slope, near shocks.\n",
    "\n",
    "The easiest way to limit is to compute one-sided slopes\n",
    "\n",
    "\\begin{equation}\n",
    "  \\Delta e^- = \\frac{e_i - e_{i-1}}{\\Delta x}, \\quad \\Delta e^+ = \\frac{e_{i+1} - e_{i}}{\\Delta x}, \n",
    "\\end{equation}"
   ]
  },
  {
   "cell_type": "markdown",
   "metadata": {},
   "source": [
    "<img src=\"./figures/calc_sigma.svg\">"
   ]
  },
  {
   "cell_type": "markdown",
   "metadata": {},
   "source": [
    "#### Figure 6. One-sided slopes"
   ]
  },
  {
   "cell_type": "markdown",
   "metadata": {},
   "source": [
    "Now build the *minmod* slope\n",
    "\n",
    "\\begin{align}\n",
    "  \\sigma_i & = \\text{minmod}(\\Delta e^-, \\Delta e^+) \\\\\n",
    "  & = \\begin{cases} \\min(\\Delta e^-, \\Delta e^+) & \\text{ if } \\Delta e^-, \\Delta e^+ > 0 \\\\\n",
    "  \\max(\\Delta e^-, \\Delta e^+) & \\text{ if } \\Delta e^-, \\Delta e^+ < 0 \\\\\n",
    "0 & \\text{ if } \\Delta e^- \\cdot \\Delta e^+ \\leq 0\n",
    "  \\end{cases}\n",
    "\\end{align}\n",
    "\n",
    "That is, use the *smallest* one-sided slope in magnitude, unless the slopes have different sign, in which cases it uses the constant reconstruction (i.e., Godunov's method).\n",
    "\n",
    "Once the *minmod* slope is calculated, we can use it to obtain the values at the interfaces between cells.\n",
    "\n",
    "\\begin{align}\n",
    "e^{R}_{i-1/2} &= e_i - \\sigma_i \\frac{\\Delta x}{2}\\\\\n",
    "e^{L}_{i+1/2} &= e_i + \\sigma_i \\frac{\\Delta x}{2}\n",
    "\\end{align}\n",
    "\n",
    "where $e^R$ and $e^L$ are the local interpolated values of the conserved quantity immediately to the right and left of the cell boundary, respectively.  "
   ]
  },
  {
   "cell_type": "markdown",
   "metadata": {},
   "source": [
    "##### Index headache"
   ]
  },
  {
   "cell_type": "markdown",
   "metadata": {},
   "source": [
    "Notice that for the cell with index $i$, we calculate $e^R_{i-1/2}$ and $e^L_{i+1/2}$.  Look at Figure 5: those are the two local values of the solution are at opposite cell boundaries.\n",
    "\n",
    "However, when we calculate the local flux at the cell boundaries, we use the local solution values on either side of that cell boundary. That is:\n",
    "\n",
    "\\begin{equation}\n",
    "F_{i+1/2} = f(e^L_{i+1/2}, e^R_{i+1/2})\n",
    "\\end{equation}\n",
    "\n",
    "You can calculate two flux vectors; one for the right-boundary values and one for the left-boundary values. Be careful that you know which boundary value a given index in these two vectors might refer to!\n",
    "\n",
    "_____"
   ]
  },
  {
   "cell_type": "markdown",
   "metadata": {},
   "source": [
    "Here is a Python function implementing minmod."
   ]
  },
  {
   "cell_type": "code",
   "execution_count": 10,
   "metadata": {
    "collapsed": false
   },
   "outputs": [],
   "source": [
    "def minmod(e, dx):\n",
    "    \"\"\"\n",
    "    Compute the minmod approximation to the slope\n",
    "    \n",
    "    Parameters\n",
    "    ----------\n",
    "    e : array of float \n",
    "        input data\n",
    "    dx : float \n",
    "        spacestep\n",
    "    \n",
    "    Returns\n",
    "    -------\n",
    "    sigma : array of float \n",
    "            minmod slope\n",
    "    \"\"\"\n",
    "    \n",
    "    sigma = numpy.zeros_like(e)\n",
    "    de_minus = numpy.ones_like(e)\n",
    "    de_plus = numpy.ones_like(e)\n",
    "    \n",
    "    de_minus[1:] = (e[1:] - e[:-1])/dx\n",
    "    de_plus[:-1] = (e[1:] - e[:-1])/dx\n",
    "    \n",
    "    # The following is inefficient but easy to read\n",
    "    for i in range(1, len(e)-1):\n",
    "        if (de_minus[i] * de_plus[i] < 0.0):\n",
    "            sigma[i] = 0.0\n",
    "        elif (numpy.abs(de_minus[i]) < numpy.abs(de_plus[i])):\n",
    "            sigma[i] = de_minus[i]\n",
    "        else:\n",
    "            sigma[i] = de_plus[i]\n",
    "            \n",
    "    return sigma"
   ]
  },
  {
   "cell_type": "markdown",
   "metadata": {},
   "source": [
    "### Evolution in time"
   ]
  },
  {
   "cell_type": "markdown",
   "metadata": {},
   "source": [
    "Since we are aiming for second-order accuracy in space, we might as well try for second-order in time, as well. We need a method to evolve the *ordinary* differential equation forwards in time:\n",
    "\n",
    "\\begin{equation}\n",
    "  \\frac{\\partial}{\\partial t} e_i + \\frac{1}{\\Delta x} \\left[ F \\left( x_{i+1/2}, t \\right) - F \\left( x_{i - 1 / 2}, t \\right) \\right] = 0\n",
    "\\end{equation} \n",
    "\n",
    "A second-order Runge-Kutta method with special characteristics (due to Shu & Osher, 1988) gives the following scheme:\n",
    "\n",
    "\\begin{align}\n",
    "e^*_i & = e^n_i + \\frac{\\Delta t}{\\Delta x}\\left( F^n_{i-1/2} - F^n_{i+1/2} \\right) \\\\\n",
    "e^{n+1}_i & = \\frac{1}{2} e^n_i + \\frac{1}{2}\\left( e^*_i + \\frac{\\Delta t}{\\Delta x}\\left( F^*_{i-1/2} - F^*_{i+1/2} \\right) \\right)\n",
    "\\end{align}\n",
    "\n",
    "Recall that the Rusanov flux is defined as\n",
    "                          \n",
    "$$\n",
    "F_{i+1/2}= \\frac{1}{2} \\left[ F \\left( e_L \\right) + F \\left( e_R \\right)  \\right] -  \\frac{1}{2}  \\max \\left|F'(e)\\right| \\left( e_R - e_L \\right)\n",
    "$$\n",
    "\n",
    "Armed with the interpolated values of $e$ at the cell boundaries we can generate a more accurate Rusanov flux. At cell boundary $i+1/2$, for example, this is:\n",
    "\n",
    "\\begin{equation}\n",
    "F_{i+1/2} = \\frac{1}{2} \\left( F \\left( e^L_{i+1/2} \\right) + F \\left( e^R_{i+1/2} \\right)   -  \\frac{\\Delta x}{\\Delta t} \\left( e^R_{i+1/2} - e^L_{i+1/2} \\right) \\right)\n",
    "\\end{equation}\n",
    "\n",
    "Now we are ready to try some MUSCL!"
   ]
  },
  {
   "cell_type": "code",
   "execution_count": 11,
   "metadata": {
    "collapsed": false
   },
   "outputs": [],
   "source": [
    "def muscl(rho, nt, dt, dx, rho_max, V_max):\n",
    "    \"\"\" Computes the solution with the MUSCL scheme using the Lax-Friedrichs flux,\n",
    "    RK2 in time and minmod slope limiting.\n",
    "    \n",
    "    Parameters\n",
    "    ----------\n",
    "    rho    : array of floats\n",
    "            Density at current time-step\n",
    "    nt     : int\n",
    "            Number of time steps\n",
    "    dt     : float\n",
    "            Time-step size\n",
    "    dx     : float\n",
    "            Mesh spacing\n",
    "    rho_max: float\n",
    "            Maximum allowed car density\n",
    "    V_max  : float\n",
    "            Speed limit\n",
    "    \n",
    "    Returns\n",
    "    -------\n",
    "    rho_n : array of floats\n",
    "            Density after nt time steps at every point x\n",
    "    \"\"\"\n",
    "    \n",
    "    #initialize our results array with dimensions nt by nx\n",
    "    rho_n = numpy.zeros((nt,len(rho)))      \n",
    "    #copy the initial u array into each row of our new array\n",
    "    rho_n[:,:] = rho.copy()              \n",
    "    \n",
    "    #setup some temporary arrays\n",
    "    rho_plus = numpy.zeros_like(rho)\n",
    "    rho_minus = numpy.zeros_like(rho)\n",
    "    flux = numpy.zeros_like(rho)\n",
    "    rho_star = numpy.zeros_like(rho)\n",
    "\n",
    "    for t in range(1,nt):\n",
    "               \n",
    "        sigma = minmod(rho,dx) #calculate minmod slope\n",
    "\n",
    "        #reconstruct values at cell boundaries\n",
    "        rho_left = rho + sigma*dx/2.\n",
    "        rho_right = rho - sigma*dx/2.     \n",
    "        \n",
    "        flux_left = computeF(V_max, rho_max, rho_left) \n",
    "        flux_right = computeF(V_max, rho_max, rho_right)\n",
    "        \n",
    "        #flux i = i + 1/2\n",
    "        flux[:-1] = 0.5 * (flux_right[1:] + flux_left[:-1] - dx/dt *\\\n",
    "                          (rho_right[1:] - rho_left[:-1] ))\n",
    "        \n",
    "        #rk2 step 1\n",
    "        rho_star[1:-1] = rho[1:-1] + dt/dx * (flux[:-2] - flux[1:-1])\n",
    "        \n",
    "        rho_star[0] = rho[0]\n",
    "        rho_star[-1] = rho[-1]\n",
    "        \n",
    "        \n",
    "        sigma = minmod(rho_star,dx) #calculate minmod slope\n",
    "    \n",
    "        #reconstruct values at cell boundaries\n",
    "        rho_left = rho_star + sigma*dx/2.\n",
    "        rho_right = rho_star - sigma*dx/2.\n",
    "        \n",
    "        flux_left = computeF(V_max, rho_max, rho_left) \n",
    "        flux_right = computeF(V_max, rho_max, rho_right)\n",
    "        \n",
    "        flux[:-1] = 0.5 * (flux_right[1:] + flux_left[:-1] - dx/dt *\\\n",
    "                          (rho_right[1:] - rho_left[:-1] ))\n",
    "        \n",
    "        rho_n[t,1:-1] = .5 * (rho[1:-1] + rho_star[1:-1] + dt/dx * (flux[:-2] - flux[1:-1]))\n",
    "        \n",
    "        rho_n[t,0] = rho[0]\n",
    "        rho_n[t,-1] = rho[-1]\n",
    "        rho = rho_n[t].copy()\n",
    "        \n",
    "    return rho_n"
   ]
  },
  {
   "cell_type": "code",
   "execution_count": 12,
   "metadata": {
    "collapsed": false
   },
   "outputs": [],
   "source": [
    "sigma = 1.\n",
    "dt = sigma*dx/V_max\n",
    "rho = rho_red_light(nx-1, rho_max, rho_in)      #make sure that u is set to our expected initial conditions\n",
    "rho_n = muscl(rho, nt, dt, dx, rho_max, V_max)"
   ]
  },
  {
   "cell_type": "code",
   "execution_count": 13,
   "metadata": {
    "collapsed": false
   },
   "outputs": [
    {
     "data": {
      "text/html": [
       "<video width=\"432.0\" height=\"288.0\" controls autoplay loop>\n",
       "  <source type=\"video/mp4\" src=\"data:video/mp4;base64,AAAAHGZ0eXBNNFYgAAACAGlzb21pc28yYXZjMQAAAAhmcmVlAAAuKG1kYXQAAAKuBgX//6rcRem9\n",
       "5tlIt5Ys2CDZI+7veDI2NCAtIGNvcmUgMTQ4IHIyNjk5IGE1ZTA2YjkgLSBILjI2NC9NUEVHLTQg\n",
       "QVZDIGNvZGVjIC0gQ29weWxlZnQgMjAwMy0yMDE2IC0gaHR0cDovL3d3dy52aWRlb2xhbi5vcmcv\n",
       "eDI2NC5odG1sIC0gb3B0aW9uczogY2FiYWM9MSByZWY9MyBkZWJsb2NrPTE6MDowIGFuYWx5c2U9\n",
       "MHgzOjB4MTEzIG1lPWhleCBzdWJtZT03IHBzeT0xIHBzeV9yZD0xLjAwOjAuMDAgbWl4ZWRfcmVm\n",
       "PTEgbWVfcmFuZ2U9MTYgY2hyb21hX21lPTEgdHJlbGxpcz0xIDh4OGRjdD0xIGNxbT0wIGRlYWR6\n",
       "b25lPTIxLDExIGZhc3RfcHNraXA9MSBjaHJvbWFfcXBfb2Zmc2V0PS0yIHRocmVhZHM9OSBsb29r\n",
       "YWhlYWRfdGhyZWFkcz0xIHNsaWNlZF90aHJlYWRzPTAgbnI9MCBkZWNpbWF0ZT0xIGludGVybGFj\n",
       "ZWQ9MCBibHVyYXlfY29tcGF0PTAgY29uc3RyYWluZWRfaW50cmE9MCBiZnJhbWVzPTMgYl9weXJh\n",
       "bWlkPTIgYl9hZGFwdD0xIGJfYmlhcz0wIGRpcmVjdD0xIHdlaWdodGI9MSBvcGVuX2dvcD0wIHdl\n",
       "aWdodHA9MiBrZXlpbnQ9MjUwIGtleWludF9taW49MjAgc2NlbmVjdXQ9NDAgaW50cmFfcmVmcmVz\n",
       "aD0wIHJjX2xvb2thaGVhZD00MCByYz1jcmYgbWJ0cmVlPTEgY3JmPTIzLjAgcWNvbXA9MC42MCBx\n",
       "cG1pbj0wIHFwbWF4PTY5IHFwc3RlcD00IGlwX3JhdGlvPTEuNDAgYXE9MToxLjAwAIAAABMsZYiE\n",
       "ADv//vdOvwKbRZdqA5JXCvbKpCZZuVJrAfKmAAADAAARsIYOcTH6I/UARl2fIzSoxxIMTv/HMrQF\n",
       "+CTKFMlo9EQieA/2oyvndiZfbOXf3dxMCLsAcBzkD8+MoMJASpLCueBTikfkwUJ2YQNhHCpYT1NW\n",
       "BC6GlJNRMIi+tPt7ton61l9fMRypri5telw9pV8VxbDNJDqqFcU5jEEuKGiebWZCykbtIFQ6HWJS\n",
       "5NQW7mHicSM2EVHQNusJ1ndAiuLf/n5ATn09DPzsLn5rr3ypIMSPm3k/W+gN/Llr5B65yk65ohYS\n",
       "b4TjhDs3aRWrXg+TxQwc9PuiLkRki7IdhEpltMYXdtauqBp/eYPQQz7ZR8o8i8ivsACgU26u9r3C\n",
       "4l9H5nds5a66qqUTD8TISPx0YhUDoQL8FaxyzZuplgFLiNtL2GvqRwbgXayU3Kl3jdqAVlUKkY5E\n",
       "UAxwzrypxU4KzwSWG8P4EzbiSM7VujgRrGR+jrawc0zdDF7TWVMSmO8oAuGz5CJJaMw3xQ86PYTw\n",
       "6tvBSUznFBNhUGzMuv4l1k05oW8vxHmMZnrCOt0bpGW2gqrkjye7chd8sy8KbEFnjOclxGPxx5E0\n",
       "BkuynamwmMY4a3LypCHLi/ki+YNWxd71JT31dGKYX9bbV6cmexW/EcVoGOZ7BYCRkAsDNMowEX+Q\n",
       "//2/epnKV0MQK0ftMNruk1MAJXO1it+F3EVCuSRMo4ldjeYFX9hu95nI8G0E6WUL5/ZAsxXtn5lX\n",
       "MhsyltFiV6je6kOm1OIk9aunPE8+9jnjI6CpsN17a4L7k5XkZe+PLK8+AohAoAMicUQd7AZ6qewR\n",
       "UpiU1Yey7g5+4a9Vv0gkhYPkonPThu6tuFeyxkoBnfBOgSSImYW9ou5bkzAb42BpGLJc8iKHSF5X\n",
       "4vHq4DIXVJVRtqVzlkQzNjlwhx1u00VHsVzvNOfyVVyNDxaeU1305zZzIyCljZIXv+jOoFC6FzKf\n",
       "OLe7HvtWwbdIt7LDGsCDdasqVzLY7lBNqCQQu79V5UIQKoH9ldPxEDevsdOOaLGgclN+2pF0jLVH\n",
       "yz7povC1QUwjPpFoBlh9cG2HCqodsrqBV7vT4Jw3KMoaS9egq0MVyfMjtCMozcMZw7mUQML4b/iW\n",
       "mvAESq0/4uW6rGAwhch2+Ozd67ul2pCOMnHkyVlKzh2BmAOQphWryhxSJ+HyeKpaUSNDSwP2riWh\n",
       "R4NYlwm1h8O91l/mYqCZr/e2f9xCWE34FH2Vlqrk+maUDvporVA/4D9R3Tn+sGlV6ip4Utq6PYmW\n",
       "amecPC+Y4MKgi9KMKj8tbA0jIDEcKleiPWqmedGO5HKHuY6PkAiviO2tLONAPecwCNCIc5qLSqdi\n",
       "E9UAEeLnyUlTSccHF9M8xUm6HT5Nus/qqqGqvv7Pw21BYKbURboKinmRENfeBMlQooiiUoAghRFK\n",
       "HQg/x27i+ODkLhG+PRbI4VP0GEiUIhZAc3TGPvRq/R665V0bbN4eNdcJ4GOnfMvsiYeYrOVJ7Fvc\n",
       "/VvtrTcBx6hgXdRxs5+ycmb7OIHSfqBa/dxZ0Gsmt5YRtpBy47JbXYxT6dFHswNP0KFQtYhJK6Ww\n",
       "jji0NDQu7Kx258o8LF6w18TPrHu9LPCUn/WScNij2JmjvCW0zYF2aU0P5isXPmwSQa9KXKVAqKA/\n",
       "mwOAtsbyH+tCgnx0Ek6X6M5UesowxpOaJ+zVNaorTDnnBs3pFVS8y6OEb6meoiWE3QKBIg+2ZWZx\n",
       "3AB+ZT+SlMIMNXF2GQs/V1eF8pMw7mhdnL+C6Mhb7KKSE/aRIvFxouWUzOfsy2Ojjv0996blvn3/\n",
       "mph/JEuEg+bUYonYVz6IBry2FFD4o+eRIgZFIQSg6uJfh5w9YlJf1yqEQiNww72PwCuwwiWrEgrJ\n",
       "oCzs7QH6UNJWyz1gKpeQQrz6dLSLKqEVNLyH/W4ddH9PGJAMpJvN0wlClzMSyXZ28ai6BKp98nEs\n",
       "5qnxx9vQTP9OenO6Btvxv0XE3eAQZzkyrq/a8+4+bU1j/tFwhMzk94vBBeVeIjJHh1AL76KGcjQO\n",
       "vw1QzOkMN26nTIwMgTeqAe018VuxGcKQ9hNasGsGjuZEaHWw7LxqpWhGrJ6Mkg7xmKVLwYrvFdt7\n",
       "NYQkbcyzdt5g50BUHZlCz2GCja25AFzFampCOps8XVSpzOrw7aHg9DgLdSc5Q39nIKvIUaPyI/0A\n",
       "1Vr0/aITHx54gseHASWaJgM/+/pZByGiNtw7LP0/7+smheQ/+ZSSN06cW2wkNIYC985jtwXN9N1t\n",
       "moouA+pRtxj8OJ9XuoAwd9xL7bGSfdSxcowfyHAJ5DFHCtbtvhbItW4ChIhaawzPOGdEO4IaIENk\n",
       "AhIIJ46wvpKQUAD5vpgiRv2hpx8QHmP8qIZYFPw4OfYwtIBtuuObW/5BUbTEVwFDlovMN2VyabDy\n",
       "Msn7Jz2EbQC+Eoj61JQwvoAfZYQrxGf8uDZJ/3wKzQWKlNZ7l72jZMx5xiWJIb739cc42w4IYLBy\n",
       "m812e9TyWpxNHCgajm3ZyDWsYer/6cgOLko36VU+QLTTMrVdOZHAS1U/dGm0cxarYd/SfSgrD1Qh\n",
       "Del7/6VhIqjNntHXA9ec8815zNoe44No4w7oM4XTCaMdH1FUFHnR16AFRXMnMUUGML8oZQxp2fAj\n",
       "KRH8FAfFRY3WfW2IDVGajO7LlCVTaqY7Eh/oe4J3lCYvEFfslGT7kJ2GfTsMMD9h4WnPIXl/Bgui\n",
       "CTsuaCfduTLlXT1D+tcWQr3w1ZPyY1TIS9RPF001kEdoBIUZP6y8mrpGKodAsrRKNpKdxFbN1JRg\n",
       "CT0rIJtzExft/lHTT7EGErB7z5YeyFhiNPoQiOguunzE/XVCc5yHfZKzvqbJWWJNW71dxSf7XD+r\n",
       "kI4+hS0Fc61vwskGPY3F4EjEVLsCL1pVL7oNOwaJgSjTJrsZwnLvvuyKTmiyf7EEO0L0JqzIcqEW\n",
       "SQnnLL0sWpUHK3s5cnU6MGEWSEBGLBVU75VF715Xe5YnO4MfI1ATXfU3CkpxeSmmwqT7AyFu0I4Q\n",
       "kvSEnAYtH2kf6nd4IN0YlWCNrhV0p6OvfID6eY0+0MaAk5VsCS6N5d+EJB4J7DeRysLwZ6jHivov\n",
       "LoztS59xOhijAGyJpnQAi3q67FvTTi4fWycTRqPXmzM7hUYA74XUyTEPJLWpm01n9X9iPjQS4yNA\n",
       "FkYbCFXX1kditi7ttR5qh5eQTtd64ZiOqAfv/QBqBuPvXMxqcT78ulVZI4/npvCWEO/H+cn6coc+\n",
       "fYIKCTLxNC5ElNbl5N4/unKUK2bgZv9fIg+HeKsy92qCw0/3jbypIq4mVsQPkj8Om3SLzwEresI8\n",
       "b74gqvySZemzrN/Hdd9O6kN1wOqepkwDOQ1yogDKP8JfPBveVNdwergVKPaTKzqpbNktwKXwQ3Pg\n",
       "awd8C+xIjlHWLxSbgRZdNKBrnMlakpdkdNeMR8GjXDpSluS98p63zSMD3Ubn/nKmJHAkEufqDjOQ\n",
       "ykoBEKMK1p1yjrujJkDQA1ohO7KKZDCZAUbMxObHJFoT7bZf6MNy6yW6AjyjeAgTz+Q4pnTu7/RY\n",
       "awYqtTLlpvw7nNZkI7hdZToSvaIVqlQ4wNxfbktEOrtB7ujFiNyl5NsuJ2MlJH4rFG2SUxCuV4vU\n",
       "mKVi+NDyoQHyP1CBGiRntJvxZl6F6VR7Cj16iSHqn7wUKXIUrBytA23o2JPnmRvL5AnOgHBbu2lq\n",
       "qbfcMD1bWnD2TgQ1Neg2/LduNCKqPSZDhUM9t8DJPYvKvtQEsC2z6bhkenQUzgRQUVN85Z+iic5n\n",
       "spU3JvrBzlJgNf/eTz18rQVeG7l4YBOl6JVctb/jVTdQqDPjWC+BXQnmWJ98VbOLk9mhW6hnljyO\n",
       "/xOF0rBNYrdTrf4hMZXr6Ce89XOFdq3QLVKi7quSutI2mPU2VwT8SS3p4PvPbJj1w5P0N1pgrkiJ\n",
       "/Hf4jjwRm0uwujCEEwBTFHzt6UNaAHOOwz6N6I0jp/dHkSWISp26s/AX/OUHQw2+aDoSJwZW2wS+\n",
       "gzNXUFHsUjmsczJfe2f7ociiyejtLz83Q14sheVS0Irm/JlOK3z8gYVEm7rLBON2YYZO2u3To43V\n",
       "3LjZOsvmaY0zel6zr6U4yosiOsP0ylpeeciHA019Bys9zIuUDZTqdZMDaObGqe55WQ8mwcZCauOk\n",
       "OVBDTDMTZpc5QFdssyR4pRo7gdgmGQd3HSORppEa2khmu5nHNDOasu8xPkmEl/vTtC9dJS6wfXAB\n",
       "ATFHNXWLZlTWUZrZvMpV1zknNVifqilIkVIXk7NLSjWK5LKTfBsyZskfNrHE2/X/yX+xsrDEtPeK\n",
       "BdugV4Aweq4qHX1BlVQBS73SzyFT5Yz9Xm9vi/RZXgHRsgt3AhhZ9NpGzEiX/lLKesYlxCfQ5AL1\n",
       "kcOmX3hCj2t8nsS34EVgIPUBPnXYA9ZM0QRJIami2uEPnlCazrqm0XzjkzI/3Ldu7vU8D7ZJEGZk\n",
       "u3gEnIur0ID9G261UblurEVQfguCWN642uodfZ3i/+/t0DpT+AikF5OtTNyvnCLZlZUqY0ImzZDo\n",
       "FB9e6siuwFjgfhtA+O2fTeTQSKMyxlerB2YR4RTIkbINMxDTn99BVcIefgWzQV4gH/36X5odavcl\n",
       "rTywwO+s2sfolobuQb0msm3kkYJ2kof50UJ33DYco7Sj8GSS/APzcGYpnyKRVU8HRluMY3uSb/8D\n",
       "TbBcvy/26cZodvGm2NKh9DFf2VRsofDd6B1azC2O7HXIBfJiK9zv48ataUtk/hSSgFr4+U4r1Zhl\n",
       "I4hwlUvdf9fQ+sOSFVbCTSoK9kIlOou/tVKVSVXVgWOKwcm6iR+khAoPKRmcbv5FKMsJBPVf0bKo\n",
       "RddWKHQdRYAIDzKuwaBHkoux2iRCq+5A3W4POy/qEm/nhoNPLjXGxBAi50PX4I4o2Ajb2DFB0H2L\n",
       "7N4i53zjr92cXS0OtZGH9RvBTQ4smD/7SJt+WMKukSjpuPb/fidGLpMGdrdUiNfH0U49OGODQkN2\n",
       "YQc6rDN9YEWqID/QGrgqwM+6/+9kg4kMp9z4LUdCcEz9sWOK6kyrtmkswL++0+3w/hUW4tDWEYwL\n",
       "+3kxws2RcD2YrfeXGy88pY5gF1CS2KCeEzYwBPjshfJSB/uxbiMvZ6dNdr4+y5+NXmvMm/zEtV9X\n",
       "8Cx0SYwX62ntZOYHA75+/Ozfrp36Ln7C77E4gpP9wBf8S4hxvGHM/N2HmafzCtRNkQ2NjGcfBAbK\n",
       "mEdPriISuILHBnsgBMCqghqerRl4i08RSvx65ND5k+8QRuW/Bzr7cv3W6AygqeVMxeYLaiIYfWYL\n",
       "lPmEzrqOWOv9O71kAXvvlWoCp7IUdOgkszGl6xM+hlKuG6oFRumNRNpOOMo9UdEaU2z9pQyN/RkI\n",
       "kuNPjRzZhho1v3NuxpmVU/O7Ne7GZaJGUyUBh2IF8f2qd7bZbnRm0eKhH1C2asRW6/OU5Od+R8AM\n",
       "+VccpU9UgyOmmMzZVFN8/iyw1e9jfN2BETybInOWzGSFa2Y9Lv2sfrqo3TqBD+kfjfDlnQzxzvTo\n",
       "sYgoYYKKOMLfhI8diMCUDLZvo9v/YPjhP/ge8F4jGS9NZ7nyWMrS1Vcz4LZ7TmE3y+XumUbhiEDV\n",
       "RsC5IoeOxwwO5q3pZzLSJxSIz1k0V2BXWWK+iplaQ+o39d7jq0/SbJj/+JzJygc4nRvBqBeETYEo\n",
       "ajUdO+g0FTrfcyM0swAi2C6Zx/l9aFe3i5yTkCdLfVdkkxqjbdyp3nEz/3rj6EDnzOjOBJ20NLkj\n",
       "Uq+1RZ7PW3jLqZxfgVhiR0jj8QF7TPhWHtQdFIfOvdNV6TqIv9FJNxuC6OPZT7JUxkdiSFOSP9Nl\n",
       "GQzbr0TYzfmV4zJWGF+ZAEEUxJxTPLmopVBlrLEHtDht9h/4eNCXVoUlueRZdDJAIavmV6EfHs0G\n",
       "0ttYx3lmb8StoA7RKEX8N8mE/q371s4gcyzCGIkntvSLfF9u5RQFKV4sBH4zJnWXad7q3buPFzTs\n",
       "rbc3Y/l2piXWI/NhP0MoUIn0oTE1NY/k46s3W14XjQnVpRtLnFcbCpc2xDPLcy8NM9IE5lW/J0E6\n",
       "lg65DcJPztMErZX+ZlAZjnVu8ppU+vs9ZzEqAgcf22YR1ez8HY4+osqNvLKD2r+zBKmtbS4mCvvi\n",
       "/6hj9v/y7sGNrhZjb2Uv0rmA36w09JbXYTIHmxDUkeneb0eeu08RWc+neX2lErb7NImkq3vAsX93\n",
       "gqVAtdF8BbG9GK0825ETKJmFNz8m78+LudQwkxF49gAY5t50csrGP1GpPFGPL/XuC7lmMFKycV7J\n",
       "UoQZJOMySEruAZxHwGIcU62lGP4/UyrdDhuAoR6ZQ/FtAZfd5hN0y0v8zhbX7aAwC88EQpk5bl4z\n",
       "PClgSW5eFVgyZm3URyZTO+DS1K9cPPVscepNyv7Rb+9DcZSSlkNrlyPcpWyIfr9OPFqX6JC4TaJD\n",
       "9NVZKNFQOLGRse9gmEC2XOmy5PdTP4az7oJJtlhMaYMQGjYAts6mf7iyBU4grZWuskOgixN+NL5X\n",
       "DbkhAAACQkGaImxDv/6plhMAz0AQj4XwkKT9fJ4y88hHz+1JSQ5WVOXwMvNt3t6fDMkGQAlxey6K\n",
       "NbSRjpCmwuvfZ8CsAU1p5z34cUAxt9VeBXoePA2/uBghUD6+Wbi7f+2ntYeqxg41dYDK/V5OFdYV\n",
       "VEm2Qgvij4jukM2YnxdUTyTGZnM/gPasgLdpx/sNvUAlG3QqD1hXFjBBLENCMrTj6u4rXkBPuwgk\n",
       "CD8ZGLZgtbZTJIjbcVBjVelATQpDRkXCDFv42MuIKBN0Y42XUHJZfdfQD+Z8TTuFYVFc+YEXWHfq\n",
       "nZeZhqEbJERp41P51zhmN510DT+wrYog6dL0ftLlld9DMglAk1G0K+tTdbrf+y/92bJHaJ7ahiAi\n",
       "cx+SR8jG0A0tvKWw5Z+h078FJIKny6pHVVfpLI8b60xRNQ2Uv6/G2rnYdwzDvDm5Bg3XWwpdo8Z3\n",
       "3Ion6BYcCp2kd1LQSBV7tt6h3qxuzQYUb/dNRRxWOoB7xDW0R5SP74TQhAOTwVhxk2BiOpgNRJyy\n",
       "Uv0nGEkQFLsYPv7t9PuJMWcHa/nItCbHbrr1CZWX/xiW5SJqudfbNMG5TrpHnVMTokYD83uDADMI\n",
       "aA9BBjqDLyqHVCe66RIRYft6dCc2SRkFP/7eFls4kYE9hI2PGh02LW5fi2BAJz7Vqf616B/5raES\n",
       "3A33R/ekB014DkkOqlVVwQzjmZIWM1h+6qmTolvnzZGOUkgj2WwelyVp92euvf2sQRu+eiAGoXzY\n",
       "ePnLBiTOX2+AHp6XJ1VAAAAA0AGeQXkK/wOajmdmxy2gAJ1MG/x3HuX7OYNSpJEvvUJ5TLm1OBYj\n",
       "5G+FbgGwPz3Bst7iAcExdWoWdmEXbWaru+kheVa45iQc6WqXm4htt3dEaGJtpMCoUaid7irl4OgP\n",
       "rPRG1XABljtTQ8LXPnAVFezLxvbEiVvmJY9E+ziR+Met4md/iJ22wWDzumD4ywUtLqbmv4P579pq\n",
       "cxAgbT20oVBEb2OuGAK7HgpfskHR3q22JrcyqAVpCKKmLS+Wbr8CHDvE/C+c0xAWT5Ok6ZvHzOEA\n",
       "AAEsQZpFPCGTKYQ7//6plgBMEYvJfwcAFuXiEFP0j+8qhvuNdxcae3kIivJdO97CvWB++xIc905h\n",
       "cMY+7Vtzc2M27ux2RfPuB6BLnm3UXDoAdDD5QM7jrSjqn/26j08HEfOt4eAz+0ntQ/Mqqh8pN/uw\n",
       "+UlSOAykLKufgMhTguaW8ejxjau5f4/hjY9c61MRdOPb9v5eGRoLjwUf/dGQZYwyGSw7NHf//KRz\n",
       "DR+LCzB9pXoflfYtTq4IOoW2xrXqcJFbH78YnhtMEwjSTaS4GNtXI+3ZWbvyzgnPiHSs+krdPxgw\n",
       "ohb1gb1K+F3hwWSbd+t2ypqGV7BSTof0KUYbqtLkJa6/ZGcEN9pX0tay56ubSNEkiEFkCfauXpC9\n",
       "A1g+5mc3NlOrmlOsTI/fN53IAAAA30GeY2pTwv8AWuvU1Z0ItFqKMD2tzoAWDMT8SGfZXsqQbR5a\n",
       "Il71LpFIq2pdPiSPnF5WqeRhSTK0tarYv3mZtW4FshDCWg5FTjz5a9/rnGirH2Gz9pqNhAkATvIW\n",
       "mJLL3lDUHmMYo6xntnsfuH5/FEwkDPi73IZ50G3c+zakuYG6qIFIQlbKGEYB5/5IHvy1vBvVPzcq\n",
       "oEdJprXMmLr9Z0890+Ti2ZgFDgLJsH1nLC/8Ff6Q+URWlv9BKsclNgL5lw+vkLUyeo3EkryIXWoI\n",
       "jdyXL7iZI4B5U6RWXpKY/zUAAACnAZ6EakK/AF+dOaAM8MjmNzf5xK5YvrvS7g6qZFABNp3bqMR9\n",
       "Wmt/wxwG2wvWTIzomNZ3mOhHy8vUByx7p+S3/nah1zk9TvQR9hJvg+PHDMxWJ6j+aAEOtRubqKku\n",
       "Q/WmDr3A7Z4g09QGn9XbXuwhdo8CwjCFdtBPzmTxjzUx2nUC4Roo71bbEgOvwx6K6zA47v6FG+c/\n",
       "ga0VXqwdvNpSyZqDVx44vkEAAAEWQZqJSahBaJlMCHf//qmWAEwKw5ygBYdaShnAKuYqyI8LZSEt\n",
       "hLD8+93+9lbhwnANK2HQiUYpMO/esPH63DcEvr7ZRSfs6Y3aGInOd8OP7u9hVjCtMItzxEZW7/bl\n",
       "TieGZL6MzfGMEWo+2T5w1YyKEiMiCSW5hsGT+p23ZV26uu7uRMj3lN8Zc+DEDiyjvyyDOncEZzcG\n",
       "501P5N4jz6RNY7yT+npFeP4nxQjtqUowBtNsP8yCHt0mprPIYF/gKWWyxEKwo0P9YX3Wzv7GCM7R\n",
       "sWIlxLasL1mexAGQUnL9B9qjfSEwRm6uAplaPflibFRccF74ltcwClxCgsYaP7sdxbC04T0XwI7h\n",
       "15OfDWe6737C/xP1/2cAAAEAQZ6nRREsM/8AQW/VNTZGQ+902AAg/nADstDSwZA91LzonoP6mq7P\n",
       "IA7XhQMGzJS4uPrZSNP/gevdSVqnTda1/80J8edj07KhUSE3JzqW4Q+/7fg6KYPfqwGoJee6DziL\n",
       "rUIxNwdhTVg304v5PZgZeSbEXudMy8DAI+M2RgYzZ7DfwwBZt00RW8eiifCeQZqNg6IearXMT8MG\n",
       "Kr/TvdiDvp2z779R53d43mE8almdCfZ/ksJsGbNPJPYRCx4HRBNyCTediggXfCsRvKBHpkSDCsiL\n",
       "fJ4hDLVCEJXWUQCTPYH8dY/nSpzpOa2NpkFpRXsa/7+FzzguHBcB96JpmIvRsQAAALgBnsZ0Qr8A\n",
       "X3+6SYA6tfi0ABN9UgZvcyWdg8/fER0Ml75fH490Vf80l9ZJJenn/3t3IfSiE2SAHUDuqeKwUyjV\n",
       "a6nmY0MQ8YVAik/McUchQr9RI9w1vdB82STHV3QiWFXRAOUCYCskB/YCmwMNqEsKSEGMfecamds6\n",
       "s9w9ZRaJes5H+9qXXIxlUw3PHKqUxgGBAx8GMruiLwI3bFiCj6hioybunyGKRAs8+r3Obz57a07n\n",
       "TrGTlYLVAAAAwwGeyGpCvwBfnTlSaMsCFZsejOgASmV9p4BBejNcPcoDrCachawzmLAAIkb4W/UB\n",
       "kiDMSpWd7YnB7q9fmm1nuchX2TRNgG1uqJsxJHTGyVK3m1ZUelpcx2UV1a4cReQq5pwahwKqXWUu\n",
       "n6Giy4IOfdw5L2mCUTU81Jlxc8HXgomDXHdOdVXxWmvuuPDBxE97zrkVLlek4R5OpfLn8n2dLXUE\n",
       "LdBnxb5qq2PE14yJP0I8AZHge3Y3hbmf1TVRJGfAsKY9gAAAAPZBmspJqEFsmUwId//+qZYATF9a\n",
       "oh6WgCO2weY/8B92cr95Y/N04beexgrc9fHMvr2Z/g/yNAJuhNadrBtAA6pUrEZQqPfSf2V+NMV2\n",
       "diFtjjU2iEH2ZYrf5OreGXOwZotQqGcXkviy11xbDcKoxcajyAE0ZAs/f2XSczl/zQL+doSDlQbc\n",
       "ENU22xPz1mh7L6tJuYSX9AoBsJ8nTizGfrUDZi9jAHqGQmOCLyx7xfhHDlEyTeR6XMJOGZ0POCJv\n",
       "WfN2h29eSigQ7dDNFRJuhgXwWFjH9/vucjZ3PGgyJfGqeFN3gv+lnv3Qux2OBzn36ZjY0OUptwMA\n",
       "AAEMQZruSeEKUmUwId/+qZYATDd9hqhUAHGZigZwnXPPHZZF6TZ9rRjOXfdAZ+JMpvbIPxyszfcy\n",
       "OzX9ALYMJWn/VQHUwUHb28CfaQbMIS23yuVBjEPz3P+AeqWFy5XftLtUpvoK//ApzhgKSrP5/ifi\n",
       "Jp4v2bDuvA3WcEsjD7EO8hoI/egqn+aArTnNxvLLdJa4LH2sl811bYBHbcqFj/rSa9hheMZtFhNs\n",
       "3x1HWkGr6iIs02gtHjoFI/1tlF4pnp+tubbruEIgmf083JzkZlmnGbRTbgklW8XttExAYJGwRK27\n",
       "9StNIj70/sOrdYMAu9mKnGHvdEvCqYbPB+WVexOp/vDz6wlrlZ2GqDBiUgAAAPJBnwxFNEwz/wBB\n",
       "UtpycPIAbqBi3vBaK8fsisFf8F23BIyag2fw51mVN8XS2vtYg5Zn+taTR31Qcmi9YxQwA47ZYUy4\n",
       "waxu2ALlEa01TokU7Sx7Zz+w4wqS/+f8Vh/87JtCsu5NvgtktWzvTpukmJvaHjJKcNFrwS9feml5\n",
       "IchVdm0smk0lH8uF3XX192V33VsaQlnn+yi7JMHoy34SCobCVp5VvNvx0oSSeGM4r96rkCM+PAdB\n",
       "1Eh+lBquChrQw05iqNYbkrff7C+BrWN+I1e5eLe5KMy6SIbtNY/nSpzpOa2NpkE/CK4e1pZfK9zY\n",
       "CDR9egAAAH8Bnyt0Qr8APjCjwzLvYwAagAnGtN/GKo103mCrIChh+tEA+NV1I2DJ8YUYbYeluGZm\n",
       "pF+bxgd6mly0iwKNzgIUG/D3mBHVGY/UxYmHPbweKhJp1sLi/B+OULDjsaXEG2oyoPIESePncS7x\n",
       "8aopaWcybqC7vx8mvmk8fH/woSTvAAAAnAGfLWpCvwB5D9qILX2J7LqSBb9IoATEUQdsbg5qxcKI\n",
       "DrWlyWk9Eg/YGbkGgpbfP63Jd0ijrCXpGNuUq/ajw4GQtk1pEYDyx6lGbs+7RAXDZo7f0CatQRGy\n",
       "T5xyQS+F8UbaXZsopUwl71HE6qeXLbR6wqcOfR8CRciPABnoXauJ9JJJCZbEdiBjogzAirRQ0p7E\n",
       "TG1bFTHi7VyK0QAAAMhBmzJJqEFomUwId//+qZYATg2mopboBfZOzJ4bdeHZSwhCgp8JxulGCOXQ\n",
       "5GpOZTrn0BBWllCUWQCg5tGpUQy31ALg1TpnhRkYM3o+LG3eLWNGwSsXCdB5qnRBDwJZ5F251hpb\n",
       "MvUgk1McrKqizzqKNZy9n5Sf5iH9urUo2dO7Wwc7OejclTgJ/K/486SupWEGLrH8uJdrxK4Rz+4e\n",
       "p2H2c1JLIzMPPE/hHMrHPePExeEFle6hjhYRbYQHMfDd2czmnyLnjVpdsQAAALZBn1BFESwz/wBD\n",
       "biICslNAA/mlupQLB91UrtTS22p5ibP4YREUPISCURHRq22PvY2HcHRADWIH42FojeQZ7c/rPtz9\n",
       "mhkngg8/1tGkRSNDDTDORaMUnohgXvwBRLOxBOyQ+yqTEX3XNKAxNT3nJTefIhgukp2BfeO2dQ/P\n",
       "a1m6bllGN+OZfrVgfPoHlFXbaWFROLPkxbdcoIMW2/TSGlIObk5Xs1sbTINeKChTthciEGajef3k\n",
       "wAAAAJcBn290Qr8AeAjVUibqsAJqN1G0Cqb7Gfv9QjeWtuJ3y5UASmz0PlpsoQD2IQ0Sw29dUcMn\n",
       "gc3WXlJJlSBYwhgyopYSsYsXSPddzc3YOec0jtcgco483Ub9pACLCT+G6Un7zx/LwP/KdJEAYN8m\n",
       "/fpZb8W/yHHzyQUvvvjHuBphpcS/6Q+UmCo9l9LgnEYZAK16kEX4QjKAAAAAsAGfcWpCvwB8WQ4L\n",
       "h8hfSlSXt+RaJdhgAzd6ni/iu0YUDVvlS0RlDimnPYArG7sgMtb508zl/UIaVw0zM+M87LB2lj8t\n",
       "Y5jy9EygqGqxm48xHql3+9xKqduEeNXf1AkYowu105/b2arYR+ZXiLX+JSarTorRgCRj+kPRs79R\n",
       "rrtuOBZXAwUPzhrS9tXizU4CzUpjXZ7Ia/mTQISdHmncsfobDO5kYMgFkQ+vVtBp5soTAAAA40Gb\n",
       "c0moQWyZTAh3//6plgBOEYyNQA6T21lyMdIr50AESRhFW6N1AS0bWFDcicOkXEVWnCWuhxTH850r\n",
       "Lqdo661E3LnQKPgB035CD8SSlrFO5fESY0rL1VrDmlCGSom7q0piYhqb3/l1Gf3DWcsxZvLcrw9h\n",
       "PUiXC1/zkNPowtj/dSNp6kWf2YKHKqauX5zqyXj8Oi97EaHHfekpPvdw008nV23E5NQH01fe9Z/M\n",
       "O2PvwqREdRVAcDZ5jVRfQTZDz7J4EyRSTJoQ2NGbUQORTT+E2ca5a5W5xYnZ0/UH1Xl0qlmAAAAA\n",
       "xUGbl0nhClJlMCG//qeEAJqPLUWAA42vLV/WdbcDpqHBU+kqEadQ2ZZk7OqjuGTgXbGAKm5B9eBv\n",
       "KavSCusb4N2d4F2wU67bfsMQ105+nLWKW0nxw4A31FWT7vZJi6jqjGmWdZVWxXQGF5JrAjT5nmCk\n",
       "R6UDGQZaAWaIoLdysmqxzhrkL+tOFTaon9TIIs76EVZpn5oLYd1N1rzxxcE6QfzmDFVUhKAGKUnH\n",
       "b7W20eN2TQEdN5wZ3yXe8wdgmNUr3GzlbRu4AAAA2EGftUU0TDP/AENxmWocjuT7lKI0/b09gAg/\n",
       "fsW3vKI0cHnleIBf2Rzf9QX2G1L9ez11mB3N7fOqqOr7/rvw1HwpaPn4jovZQmAaSBTp8Kg4MTd5\n",
       "Mhd6lNIj+xr1QR72BOj63nZQTLxjl+zxhmeyCHXaXXGssu2RkIcFlD/tSgjUTG2/tq1RFesKOahw\n",
       "XxE6tL5uTk5ZAEujnCPWdemKur9brkUo+2ps92AJ/qB69QGbU6vcLvhVR6x7WwGBz4xz/5IaUg5u\n",
       "TlezWxtMoH2SCJ6tsFF2ZZbF/QAAAJgBn9R0Qr8AfCofzA+4w0p+ANKV0R8T8AH8KOff4S2a6ett\n",
       "1W4Wf5ZOIgL8lBlFN0j2eE4Hq4JLgzPi9hIn6jHXl038xszQzIcRAyLqehaIR1NLaWgyu5AikdCA\n",
       "WZEKFDHPKTh9VW2nEzIox1o49b/Cr1mA2X6FBSL+ckKkZ+II3mD0uJf9IfKTBUey+losbvyWS8We\n",
       "zlVKgAAAAJABn9ZqQr8Aesq3rsAHFXaaFJviNNV8hjU9YMhz7eBTDxXn3oeMg4/j9T+25PKFJWQE\n",
       "nBJImv66Qm+BsVqH759wVMLHYeKRyL1xmJB5tbfAJZDhIQ62LRLDrb5+apFjGnhYrOgP5dfmP71Q\n",
       "b1x026o08E5bCYoI3hy0PR5p3LH6GwzuZGFfbfF3H2YpxmprboEAAAC5QZvZSahBaJlMFPDf/qeE\n",
       "AJqlzTvbOobKADWn37q/b8y7lDS2dpiP0eUBmo5+GfNxqFEj7u1qGp4/jJyDuTAyUN/iV8WP/u90\n",
       "5xvSNMfz1tzu/CrkfQT/u+mJXvU2lHcUqp9etYefHEzvroKI7PkfsKMNG1OEQxDXT2/m02o7eh5S\n",
       "dbpguWXMN20sXJZCN/g0Pv+CUm9/THDFPx8VvR+cfjWQbr3fiaNWGz7gi7C4d2a5T5+eNtvHO4EA\n",
       "AACKAZ/4akK/AH8ZSCWcGEfWXFFkPDIAWjOfsvQ0u5CM1Bl7XlNgYdsAOA2M+NRvjuzJC4KOrXrc\n",
       "DYke4LJubNLyv6kAvyp7eEzq3KEbsedmXpfocKxT+vy0ugCdr3vLq9UfdqOHqc86JY63LYEhsiBK\n",
       "DWh6PNO5Y/JZF6HLFKi+ZR3OB/fP/qlfh7KAAAAAykGb+knhClJlMCG//qeEAJ903r90P2AARB6Y\n",
       "ulPaj/Hpgf7SBYKA+yG8SjjcUEXIywJWirNbTNVyQg+0ZVWxxwnMuVDgYVNBmIAQBETAgRnHKGX7\n",
       "/gwpl77DF1Ee1yZYS/lkuxf1ER3+EUk5Yinh7AC8TWdZ7QZN5E6WCClxXwChNFO2XGFapH6tYsDC\n",
       "8XDhb7F0y7atGfeBXmkX1DEjEOTNhp9flV5VdkUUnUJKT650Mul3Jakkw3dFknO64DHwW+jKD+3z\n",
       "cUeh30EAAACGQZodSeEOiZTAhX/+OEAJaUmIs/4DlTEI2gAJ2WokeFhc1tr61EACs2G1evXqbJDK\n",
       "l9uvEt5a8JhwXqP2oyKmZzZXeiDO06NrjZfMVzOLSztP+SxL1ZYDP1Mo5w5XlR9HwHQUEI1Og06T\n",
       "/FspJgkSYxTA8WV6QErUUiX/SHykwVHsvpevVeAAAADTQZ47RRE8L/8AX4zlY0jACaSD6wRAjouh\n",
       "H6BsHkdtE/MjHMdywfuWMTMtw4Nv/yUfCCX47eIAnGvumgop6jjtO8tSvE/sNBx7ixQFDba2Fw1D\n",
       "4XeEcqafV3gT2gU/zrOtmJIuSPKDRybtGzfwISt2QY1RPXTpR1/c3TLLw+5VV2Bl1FgN93y8Lfm5\n",
       "Teuj/tlitKmZZuM0PxJVsL7Io3XDHbShZikrBShdYT16pqSwV1lA//fu/sKTz1Y6F2av9IfKIrS3\n",
       "+glWPV93p+1dX8oO4dtXLQAAAJMBnlxqQr8AfvJkEmhcHG0WlyIhyO0AAm0pLP4XBtuBDV09UMcY\n",
       "3luVotYhvdv4+V9VNDuxq9TOnly4hFzZ0V/fiNL7b9xLg9DWQ5f0myxuEQjCDF5zTEEeb/OLFJUL\n",
       "cJKo1NF/b0zO2DL3XuDh5TEklCOMpMkK3eepGH3oBSJf9IfKTBUey+luj2dtcosGpTzCgUEAAASG\n",
       "bW9vdgAAAGxtdmhkAAAAAAAAAAAAAAAAAAAD6AAABdwAAQAAAQAAAAAAAAAAAAAAAAEAAAAAAAAA\n",
       "AAAAAAAAAAABAAAAAAAAAAAAAAAAAABAAAAAAAAAAAAAAAAAAAAAAAAAAAAAAAAAAAAAAAAAAgAA\n",
       "A7B0cmFrAAAAXHRraGQAAAADAAAAAAAAAAAAAAABAAAAAAAABdwAAAAAAAAAAAAAAAAAAAAAAAEA\n",
       "AAAAAAAAAAAAAAAAAAABAAAAAAAAAAAAAAAAAABAAAAAAbAAAAEgAAAAAAAkZWR0cwAAABxlbHN0\n",
       "AAAAAAAAAAEAAAXcAAAEAAABAAAAAAMobWRpYQAAACBtZGhkAAAAAAAAAAAAAAAAAAAoAAAAPABV\n",
       "xAAAAAAALWhkbHIAAAAAAAAAAHZpZGUAAAAAAAAAAAAAAABWaWRlb0hhbmRsZXIAAAAC021pbmYA\n",
       "AAAUdm1oZAAAAAEAAAAAAAAAAAAAACRkaW5mAAAAHGRyZWYAAAAAAAAAAQAAAAx1cmwgAAAAAQAA\n",
       "ApNzdGJsAAAAs3N0c2QAAAAAAAAAAQAAAKNhdmMxAAAAAAAAAAEAAAAAAAAAAAAAAAAAAAAAAbAB\n",
       "IABIAAAASAAAAAAAAAABAAAAAAAAAAAAAAAAAAAAAAAAAAAAAAAAAAAAAAAAAAAAGP//AAAAMWF2\n",
       "Y0MBZAAV/+EAGGdkABWs2UGwloQAAAMABAAAAwCgPFi2WAEABmjr48siwAAAABx1dWlka2hA8l8k\n",
       "T8W6OaUbzwMj8wAAAAAAAAAYc3R0cwAAAAAAAAABAAAAHgAAAgAAAAAUc3RzcwAAAAAAAAABAAAA\n",
       "AQAAAPBjdHRzAAAAAAAAABwAAAABAAAEAAAAAAEAAAYAAAAAAQAAAgAAAAABAAAIAAAAAAIAAAIA\n",
       "AAAAAQAACgAAAAABAAAEAAAAAAEAAAAAAAAAAQAAAgAAAAABAAAEAAAAAAEAAAoAAAAAAQAABAAA\n",
       "AAABAAAAAAAAAAEAAAIAAAAAAQAACgAAAAABAAAEAAAAAAEAAAAAAAAAAQAAAgAAAAABAAAEAAAA\n",
       "AAEAAAoAAAAAAQAABAAAAAABAAAAAAAAAAEAAAIAAAAAAQAABgAAAAABAAACAAAAAAEAAAQAAAAA\n",
       "AQAACAAAAAACAAACAAAAABxzdHNjAAAAAAAAAAEAAAABAAAAHgAAAAEAAACMc3RzegAAAAAAAAAA\n",
       "AAAAHgAAFeIAAAJGAAAA1AAAATAAAADjAAAAqwAAARoAAAEEAAAAvAAAAMcAAAD6AAABEAAAAPYA\n",
       "AACDAAAAoAAAAMwAAAC6AAAAmwAAALQAAADnAAAAyQAAANwAAACcAAAAlAAAAL0AAACOAAAAzgAA\n",
       "AIoAAADXAAAAlwAAABRzdGNvAAAAAAAAAAEAAAAsAAAAYnVkdGEAAABabWV0YQAAAAAAAAAhaGRs\n",
       "cgAAAAAAAAAAbWRpcmFwcGwAAAAAAAAAAAAAAAAtaWxzdAAAACWpdG9vAAAAHWRhdGEAAAABAAAA\n",
       "AExhdmY1Ny40MS4xMDA=\n",
       "\">\n",
       "  Your browser does not support the video tag.\n",
       "</video>"
      ],
      "text/plain": [
       "<IPython.core.display.HTML object>"
      ]
     },
     "execution_count": 13,
     "metadata": {},
     "output_type": "execute_result"
    }
   ],
   "source": [
    "anim = animation.FuncAnimation(fig, animate, frames=rho_n, interval=50)\n",
    "HTML(anim.to_html5_video())"
   ]
  },
  {
   "cell_type": "markdown",
   "metadata": {},
   "source": [
    "This MUSCL scheme does not show any of the oscillations you might see with MacCormack or Lax-Wendroff, but the features are not as sharp. Using the _minmod_ slopes led to some smearing of the shock, which motivated many researchers to investigate other options. Bucketloads of so-called _shock-capturing_ schemes exist and whole books are written on this topic. Some people dedicate their lives to developing numerical methods for hyperbolic equations!"
   ]
  },
  {
   "cell_type": "markdown",
   "metadata": {},
   "source": [
    "##### Challenge task"
   ]
  },
  {
   "cell_type": "markdown",
   "metadata": {},
   "source": [
    "* Go back to Sod! Calculate the shock-tube problem using the MUSCL scheme and compare with your previous results. What do think?"
   ]
  },
  {
   "cell_type": "markdown",
   "metadata": {},
   "source": [
    "## References"
   ]
  },
  {
   "cell_type": "markdown",
   "metadata": {},
   "source": [
    "* Godunov, S.K. (1959), \"A difference scheme for numerical computation of discontinuous solutions of equations of fluid dynamics,\" _Math. Sbornik_, Vol. 47, pp. 271–306.\n",
    "\n",
    "* van Leer, Bram (1979), \"Towards the ultimate conservative difference scheme, V. A second-order sequel to Godunov's method,\" _J. Comput. Phys._, Vol. 32, pp. 101–136\n",
    "\n",
    "* van Leer, B., J.L. Thomas, P.L. Roe, R.W. Newsome (1987). \"A comparison of numerical flux formulas for the Euler and Navier-Stokes equations,\" AIAA paper 87-1104 // [PDF from umich.edu](http://deepblue.lib.umich.edu/bitstream/handle/2027.42/76365/AIAA-1987-1104-891.pdf), checked 11/01/14.\n",
    "\n",
    "* Shu, Chi-Wang and Osher, Stanley (1988). \"Efficient implementation of essentially non-oscillatory shock-capturing schemes,\" _J. Comput. Phys._, Vol. 77, pp. 439–471 // [PDF from NASA Tech. Report server](http://ntrs.nasa.gov/archive/nasa/casi.ntrs.nasa.gov/19870013797.pdf)"
   ]
  },
  {
   "cell_type": "markdown",
   "metadata": {},
   "source": [
    "---\n",
    "\n",
    "###### The cell below loads the style of the notebook."
   ]
  },
  {
   "cell_type": "code",
   "execution_count": 14,
   "metadata": {
    "collapsed": false
   },
   "outputs": [
    {
     "data": {
      "text/html": [
       "<link href='http://fonts.googleapis.com/css?family=Alegreya+Sans:100,300,400,500,700,800,900,100italic,300italic,400italic,500italic,700italic,800italic,900italic' rel='stylesheet' type='text/css'>\n",
       "<link href='http://fonts.googleapis.com/css?family=Arvo:400,700,400italic' rel='stylesheet' type='text/css'>\n",
       "<link href='http://fonts.googleapis.com/css?family=PT+Mono' rel='stylesheet' type='text/css'>\n",
       "<link href='http://fonts.googleapis.com/css?family=Shadows+Into+Light' rel='stylesheet' type='text/css'>\n",
       "<link href='http://fonts.googleapis.com/css?family=Nixie+One' rel='stylesheet' type='text/css'>\n",
       "<link href='https://fonts.googleapis.com/css?family=Source+Code+Pro' rel='stylesheet' type='text/css'>\n",
       "<style>\n",
       "\n",
       "@font-face {\n",
       "    font-family: \"Computer Modern\";\n",
       "    src: url('http://mirrors.ctan.org/fonts/cm-unicode/fonts/otf/cmunss.otf');\n",
       "}\n",
       "\n",
       "#notebook_panel { /* main background */\n",
       "    background: rgb(245,245,245);\n",
       "}\n",
       "\n",
       "div.cell { /* set cell width */\n",
       "    width: 750px;\n",
       "}\n",
       "\n",
       "div #notebook { /* centre the content */\n",
       "    background: #fff; /* white background for content */\n",
       "    width: 1000px;\n",
       "    margin: auto;\n",
       "    padding-left: 0em;\n",
       "}\n",
       "\n",
       "#notebook li { /* More space between bullet points */\n",
       "    margin-top:0.8em;\n",
       "}\n",
       "\n",
       "/* draw border around running cells */\n",
       "div.cell.border-box-sizing.code_cell.running { \n",
       "    border: 1px solid #111;\n",
       "}\n",
       "\n",
       "/* Put a solid color box around each cell and its output, visually linking them*/\n",
       "div.cell.code_cell {\n",
       "    background-color: rgb(256,256,256); \n",
       "    border-radius: 0px; \n",
       "    padding: 0.5em;\n",
       "    margin-left:1em;\n",
       "    margin-top: 1em;\n",
       "}\n",
       "\n",
       "div.text_cell_render{\n",
       "    font-family: 'Alegreya Sans' sans-serif;\n",
       "    line-height: 140%;\n",
       "    font-size: 125%;\n",
       "    font-weight: 400;\n",
       "    width:600px;\n",
       "    margin-left:auto;\n",
       "    margin-right:auto;\n",
       "}\n",
       "\n",
       "\n",
       "/* Formatting for header cells */\n",
       ".text_cell_render h1 {\n",
       "    font-family: 'Nixie One', serif;\n",
       "    font-style:regular;\n",
       "    font-weight: 400;    \n",
       "    font-size: 45pt;\n",
       "    line-height: 100%;\n",
       "    color: rgb(0,51,102);\n",
       "    margin-bottom: 0.5em;\n",
       "    margin-top: 0.5em;\n",
       "    display: block;\n",
       "}\n",
       "\n",
       ".text_cell_render h2 {\n",
       "    font-family: 'Nixie One', serif;\n",
       "    font-weight: 400;\n",
       "    font-size: 30pt;\n",
       "    line-height: 100%;\n",
       "    color: rgb(0,51,102);\n",
       "    margin-bottom: 0.1em;\n",
       "    margin-top: 0.3em;\n",
       "    display: block;\n",
       "}\t\n",
       "\n",
       ".text_cell_render h3 {\n",
       "    font-family: 'Nixie One', serif;\n",
       "    margin-top:16px;\n",
       "    font-size: 22pt;\n",
       "    font-weight: 600;\n",
       "    margin-bottom: 3px;\n",
       "    font-style: regular;\n",
       "    color: rgb(102,102,0);\n",
       "}\n",
       "\n",
       ".text_cell_render h4 {    /*Use this for captions*/\n",
       "    font-family: 'Nixie One', serif;\n",
       "    font-size: 14pt;\n",
       "    text-align: center;\n",
       "    margin-top: 0em;\n",
       "    margin-bottom: 2em;\n",
       "    font-style: regular;\n",
       "}\n",
       "\n",
       ".text_cell_render h5 {  /*Use this for small titles*/\n",
       "    font-family: 'Nixie One', sans-serif;\n",
       "    font-weight: 400;\n",
       "    font-size: 16pt;\n",
       "    color: rgb(163,0,0);\n",
       "    font-style: italic;\n",
       "    margin-bottom: .1em;\n",
       "    margin-top: 0.8em;\n",
       "    display: block;\n",
       "}\n",
       "\n",
       ".text_cell_render h6 { /*use this for copyright note*/\n",
       "    font-family: 'PT Mono', sans-serif;\n",
       "    font-weight: 300;\n",
       "    font-size: 9pt;\n",
       "    line-height: 100%;\n",
       "    color: grey;\n",
       "    margin-bottom: 1px;\n",
       "    margin-top: 1px;\n",
       "}\n",
       "\n",
       ".CodeMirror{\n",
       "    font-family: \"Source Code Pro\";\n",
       "    font-size: 90%;\n",
       "}\n",
       "\n",
       ".alert-box {\n",
       "    padding:10px 10px 10px 36px;\n",
       "    margin:5px;\n",
       "}\n",
       "\n",
       ".success {\n",
       "    color:#666600;\n",
       "    background:rgb(240,242,229);\n",
       "}\n",
       "</style>\n",
       "<script>\n",
       "    MathJax.Hub.Config({\n",
       "                        TeX: {\n",
       "                           extensions: [\"AMSmath.js\"],\n",
       "                           equationNumbers: { autoNumber: \"AMS\", useLabelIds: true}\n",
       "                           },\n",
       "                tex2jax: {\n",
       "                    inlineMath: [ ['$','$'], [\"\\\\(\",\"\\\\)\"] ],\n",
       "                    displayMath: [ ['$$','$$'], [\"\\\\[\",\"\\\\]\"] ]\n",
       "                },\n",
       "                displayAlign: 'center', // Change this to 'center' to center equations.\n",
       "                \"HTML-CSS\": {\n",
       "                    styles: {'.MathJax_Display': {\"margin\": 4}}\n",
       "                }\n",
       "        });\n",
       "</script>\n"
      ],
      "text/plain": [
       "<IPython.core.display.HTML object>"
      ]
     },
     "execution_count": 14,
     "metadata": {},
     "output_type": "execute_result"
    }
   ],
   "source": [
    "from IPython.core.display import HTML\n",
    "css_file = '../../styles/numericalmoocstyle.css'\n",
    "HTML(open(css_file, \"r\").read())"
   ]
  }
 ],
 "metadata": {
  "kernelspec": {
   "display_name": "Python 3",
   "language": "python",
   "name": "python3"
  },
  "language_info": {
   "codemirror_mode": {
    "name": "ipython",
    "version": 3
   },
   "file_extension": ".py",
   "mimetype": "text/x-python",
   "name": "python",
   "nbconvert_exporter": "python",
   "pygments_lexer": "ipython3",
   "version": "3.5.2"
  }
 },
 "nbformat": 4,
 "nbformat_minor": 0
}
